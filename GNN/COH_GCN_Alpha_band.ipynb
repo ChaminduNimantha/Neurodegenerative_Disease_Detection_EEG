{
  "nbformat": 4,
  "nbformat_minor": 0,
  "metadata": {
    "colab": {
      "provenance": [],
      "gpuType": "T4"
    },
    "kernelspec": {
      "name": "python3",
      "display_name": "Python 3"
    },
    "language_info": {
      "name": "python"
    },
    "accelerator": "GPU"
  },
  "cells": [
    {
      "cell_type": "markdown",
      "source": [
        "Mount Google Drive"
      ],
      "metadata": {
        "id": "931OM4XqUbeP"
      }
    },
    {
      "cell_type": "markdown",
      "source": [
        "Install Required Libraries\n",
        "\n",
        "PyTorch: Deep learning framework.\n",
        "Torch-Geometric: A library for machine learning on graph-structured data.\n",
        "SciPy: Used for scientific and technical computing, and necessary for loading our data."
      ],
      "metadata": {
        "id": "rKkWBS1UZwEv"
      }
    },
    {
      "cell_type": "code",
      "source": [
        "!pip install torch torch-geometric\n",
        "!pip install scipy"
      ],
      "metadata": {
        "colab": {
          "base_uri": "https://localhost:8080/"
        },
        "collapsed": true,
        "id": "ks5qIIufZzFv",
        "outputId": "ab0ecb23-bf76-47dd-e5c2-00f62d47346e"
      },
      "execution_count": null,
      "outputs": [
        {
          "output_type": "stream",
          "name": "stdout",
          "text": [
            "Requirement already satisfied: torch in /usr/local/lib/python3.10/dist-packages (2.3.0+cu121)\n",
            "Collecting torch-geometric\n",
            "  Downloading torch_geometric-2.5.3-py3-none-any.whl (1.1 MB)\n",
            "\u001b[2K     \u001b[90m━━━━━━━━━━━━━━━━━━━━━━━━━━━━━━━━━━━━━━━━\u001b[0m \u001b[32m1.1/1.1 MB\u001b[0m \u001b[31m13.2 MB/s\u001b[0m eta \u001b[36m0:00:00\u001b[0m\n",
            "\u001b[?25hRequirement already satisfied: filelock in /usr/local/lib/python3.10/dist-packages (from torch) (3.14.0)\n",
            "Requirement already satisfied: typing-extensions>=4.8.0 in /usr/local/lib/python3.10/dist-packages (from torch) (4.12.2)\n",
            "Requirement already satisfied: sympy in /usr/local/lib/python3.10/dist-packages (from torch) (1.12.1)\n",
            "Requirement already satisfied: networkx in /usr/local/lib/python3.10/dist-packages (from torch) (3.3)\n",
            "Requirement already satisfied: jinja2 in /usr/local/lib/python3.10/dist-packages (from torch) (3.1.4)\n",
            "Requirement already satisfied: fsspec in /usr/local/lib/python3.10/dist-packages (from torch) (2023.6.0)\n",
            "Collecting nvidia-cuda-nvrtc-cu12==12.1.105 (from torch)\n",
            "  Using cached nvidia_cuda_nvrtc_cu12-12.1.105-py3-none-manylinux1_x86_64.whl (23.7 MB)\n",
            "Collecting nvidia-cuda-runtime-cu12==12.1.105 (from torch)\n",
            "  Using cached nvidia_cuda_runtime_cu12-12.1.105-py3-none-manylinux1_x86_64.whl (823 kB)\n",
            "Collecting nvidia-cuda-cupti-cu12==12.1.105 (from torch)\n",
            "  Using cached nvidia_cuda_cupti_cu12-12.1.105-py3-none-manylinux1_x86_64.whl (14.1 MB)\n",
            "Collecting nvidia-cudnn-cu12==8.9.2.26 (from torch)\n",
            "  Using cached nvidia_cudnn_cu12-8.9.2.26-py3-none-manylinux1_x86_64.whl (731.7 MB)\n",
            "Collecting nvidia-cublas-cu12==12.1.3.1 (from torch)\n",
            "  Using cached nvidia_cublas_cu12-12.1.3.1-py3-none-manylinux1_x86_64.whl (410.6 MB)\n",
            "Collecting nvidia-cufft-cu12==11.0.2.54 (from torch)\n",
            "  Using cached nvidia_cufft_cu12-11.0.2.54-py3-none-manylinux1_x86_64.whl (121.6 MB)\n",
            "Collecting nvidia-curand-cu12==10.3.2.106 (from torch)\n",
            "  Using cached nvidia_curand_cu12-10.3.2.106-py3-none-manylinux1_x86_64.whl (56.5 MB)\n",
            "Collecting nvidia-cusolver-cu12==11.4.5.107 (from torch)\n",
            "  Using cached nvidia_cusolver_cu12-11.4.5.107-py3-none-manylinux1_x86_64.whl (124.2 MB)\n",
            "Collecting nvidia-cusparse-cu12==12.1.0.106 (from torch)\n",
            "  Using cached nvidia_cusparse_cu12-12.1.0.106-py3-none-manylinux1_x86_64.whl (196.0 MB)\n",
            "Collecting nvidia-nccl-cu12==2.20.5 (from torch)\n",
            "  Using cached nvidia_nccl_cu12-2.20.5-py3-none-manylinux2014_x86_64.whl (176.2 MB)\n",
            "Collecting nvidia-nvtx-cu12==12.1.105 (from torch)\n",
            "  Using cached nvidia_nvtx_cu12-12.1.105-py3-none-manylinux1_x86_64.whl (99 kB)\n",
            "Requirement already satisfied: triton==2.3.0 in /usr/local/lib/python3.10/dist-packages (from torch) (2.3.0)\n",
            "Collecting nvidia-nvjitlink-cu12 (from nvidia-cusolver-cu12==11.4.5.107->torch)\n",
            "  Downloading nvidia_nvjitlink_cu12-12.5.40-py3-none-manylinux2014_x86_64.whl (21.3 MB)\n",
            "\u001b[2K     \u001b[90m━━━━━━━━━━━━━━━━━━━━━━━━━━━━━━━━━━━━━━━━\u001b[0m \u001b[32m21.3/21.3 MB\u001b[0m \u001b[31m42.3 MB/s\u001b[0m eta \u001b[36m0:00:00\u001b[0m\n",
            "\u001b[?25hRequirement already satisfied: tqdm in /usr/local/lib/python3.10/dist-packages (from torch-geometric) (4.66.4)\n",
            "Requirement already satisfied: numpy in /usr/local/lib/python3.10/dist-packages (from torch-geometric) (1.25.2)\n",
            "Requirement already satisfied: scipy in /usr/local/lib/python3.10/dist-packages (from torch-geometric) (1.11.4)\n",
            "Requirement already satisfied: aiohttp in /usr/local/lib/python3.10/dist-packages (from torch-geometric) (3.9.5)\n",
            "Requirement already satisfied: requests in /usr/local/lib/python3.10/dist-packages (from torch-geometric) (2.31.0)\n",
            "Requirement already satisfied: pyparsing in /usr/local/lib/python3.10/dist-packages (from torch-geometric) (3.1.2)\n",
            "Requirement already satisfied: scikit-learn in /usr/local/lib/python3.10/dist-packages (from torch-geometric) (1.2.2)\n",
            "Requirement already satisfied: psutil>=5.8.0 in /usr/local/lib/python3.10/dist-packages (from torch-geometric) (5.9.5)\n",
            "Requirement already satisfied: aiosignal>=1.1.2 in /usr/local/lib/python3.10/dist-packages (from aiohttp->torch-geometric) (1.3.1)\n",
            "Requirement already satisfied: attrs>=17.3.0 in /usr/local/lib/python3.10/dist-packages (from aiohttp->torch-geometric) (23.2.0)\n",
            "Requirement already satisfied: frozenlist>=1.1.1 in /usr/local/lib/python3.10/dist-packages (from aiohttp->torch-geometric) (1.4.1)\n",
            "Requirement already satisfied: multidict<7.0,>=4.5 in /usr/local/lib/python3.10/dist-packages (from aiohttp->torch-geometric) (6.0.5)\n",
            "Requirement already satisfied: yarl<2.0,>=1.0 in /usr/local/lib/python3.10/dist-packages (from aiohttp->torch-geometric) (1.9.4)\n",
            "Requirement already satisfied: async-timeout<5.0,>=4.0 in /usr/local/lib/python3.10/dist-packages (from aiohttp->torch-geometric) (4.0.3)\n",
            "Requirement already satisfied: MarkupSafe>=2.0 in /usr/local/lib/python3.10/dist-packages (from jinja2->torch) (2.1.5)\n",
            "Requirement already satisfied: charset-normalizer<4,>=2 in /usr/local/lib/python3.10/dist-packages (from requests->torch-geometric) (3.3.2)\n",
            "Requirement already satisfied: idna<4,>=2.5 in /usr/local/lib/python3.10/dist-packages (from requests->torch-geometric) (3.7)\n",
            "Requirement already satisfied: urllib3<3,>=1.21.1 in /usr/local/lib/python3.10/dist-packages (from requests->torch-geometric) (2.0.7)\n",
            "Requirement already satisfied: certifi>=2017.4.17 in /usr/local/lib/python3.10/dist-packages (from requests->torch-geometric) (2024.6.2)\n",
            "Requirement already satisfied: joblib>=1.1.1 in /usr/local/lib/python3.10/dist-packages (from scikit-learn->torch-geometric) (1.4.2)\n",
            "Requirement already satisfied: threadpoolctl>=2.0.0 in /usr/local/lib/python3.10/dist-packages (from scikit-learn->torch-geometric) (3.5.0)\n",
            "Requirement already satisfied: mpmath<1.4.0,>=1.1.0 in /usr/local/lib/python3.10/dist-packages (from sympy->torch) (1.3.0)\n",
            "Installing collected packages: nvidia-nvtx-cu12, nvidia-nvjitlink-cu12, nvidia-nccl-cu12, nvidia-curand-cu12, nvidia-cufft-cu12, nvidia-cuda-runtime-cu12, nvidia-cuda-nvrtc-cu12, nvidia-cuda-cupti-cu12, nvidia-cublas-cu12, nvidia-cusparse-cu12, nvidia-cudnn-cu12, torch-geometric, nvidia-cusolver-cu12\n",
            "Successfully installed nvidia-cublas-cu12-12.1.3.1 nvidia-cuda-cupti-cu12-12.1.105 nvidia-cuda-nvrtc-cu12-12.1.105 nvidia-cuda-runtime-cu12-12.1.105 nvidia-cudnn-cu12-8.9.2.26 nvidia-cufft-cu12-11.0.2.54 nvidia-curand-cu12-10.3.2.106 nvidia-cusolver-cu12-11.4.5.107 nvidia-cusparse-cu12-12.1.0.106 nvidia-nccl-cu12-2.20.5 nvidia-nvjitlink-cu12-12.5.40 nvidia-nvtx-cu12-12.1.105 torch-geometric-2.5.3\n",
            "Requirement already satisfied: scipy in /usr/local/lib/python3.10/dist-packages (1.11.4)\n",
            "Requirement already satisfied: numpy<1.28.0,>=1.21.6 in /usr/local/lib/python3.10/dist-packages (from scipy) (1.25.2)\n"
          ]
        }
      ]
    },
    {
      "cell_type": "markdown",
      "source": [
        "Mount Google Drive into the Colab Interface\n",
        "\n",
        "Here the google drive is mounted in order to import the brain scout connectivity data"
      ],
      "metadata": {
        "id": "b6TnjaJdRd72"
      }
    },
    {
      "cell_type": "code",
      "source": [
        "from google.colab import drive\n",
        "drive.mount('/content/drive')"
      ],
      "metadata": {
        "colab": {
          "base_uri": "https://localhost:8080/"
        },
        "id": "cRd1t7PSRA8d",
        "outputId": "36c9f6eb-016e-4a55-a92b-81624fe07c0c"
      },
      "execution_count": null,
      "outputs": [
        {
          "output_type": "stream",
          "name": "stdout",
          "text": [
            "Mounted at /content/drive\n"
          ]
        }
      ]
    },
    {
      "cell_type": "markdown",
      "source": [
        "Optional :- to see whether the required drive contents are available"
      ],
      "metadata": {
        "id": "9wyMZVDo_wJO"
      }
    },
    {
      "cell_type": "code",
      "source": [
        "!ls /content/drive/MyDrive/GNN_Approach/Data_files/"
      ],
      "metadata": {
        "id": "-ZU4tgWDRQJs",
        "colab": {
          "base_uri": "https://localhost:8080/"
        },
        "collapsed": true,
        "outputId": "d3767321-81fb-4502-ce99-202c6bf8c5fb"
      },
      "execution_count": null,
      "outputs": [
        {
          "output_type": "stream",
          "name": "stdout",
          "text": [
            "Coherence.mat  PLV.mat\n"
          ]
        }
      ]
    },
    {
      "cell_type": "markdown",
      "source": [
        "Import the Required libraries\n",
        "\n",
        "GCNConv: convolutional layer for graph data.\n",
        "global_mean_pool: pooling layer that computes the mean of node features across the graph.\n",
        "Data: class used to create graph data objects. DataLoader: class used to load graph data in batches.\n",
        "NumPy library for numerical computing in Python.\n",
        "scikit-learn : Provides utilities for machine learning"
      ],
      "metadata": {
        "id": "dGrDO1hVYqwn"
      }
    },
    {
      "cell_type": "code",
      "source": [
        "import torch\n",
        "import torch.nn.functional as F\n",
        "from torch_geometric.nn import GCNConv, global_mean_pool\n",
        "from torch_geometric.data import Data\n",
        "from torch_geometric.loader import DataLoader\n",
        "import numpy as np\n",
        "import scipy.io\n",
        "from sklearn.model_selection import train_test_split\n",
        "import matplotlib.pyplot as plt"
      ],
      "metadata": {
        "id": "g9YfAylhZYWR"
      },
      "execution_count": null,
      "outputs": []
    },
    {
      "cell_type": "markdown",
      "source": [
        "Load the Coherance data from .mat file\n",
        "\n",
        "The brain connectivity data matrix is loaded to the colab interface"
      ],
      "metadata": {
        "id": "m1i9pX9viF0-"
      }
    },
    {
      "cell_type": "code",
      "source": [
        "# Define the path to your .mat file\n",
        "mat_file_path = '/content/drive/MyDrive/GNN_Approach/Data_files/Coherence.mat'\n",
        "\n",
        "# Load the .mat file\n",
        "mat = scipy.io.loadmat(mat_file_path)\n",
        "\n",
        "# Access the Coherence data\n",
        "coherence_data = mat['Coherence'][0, 0]"
      ],
      "metadata": {
        "id": "xiiMiBPgiGjC"
      },
      "execution_count": null,
      "outputs": []
    },
    {
      "cell_type": "markdown",
      "source": [
        "Optional :- To visualize the data in coherance.mat struct"
      ],
      "metadata": {
        "id": "01jw8rRWBp64"
      }
    },
    {
      "cell_type": "code",
      "source": [
        "print(coherence_data)"
      ],
      "metadata": {
        "colab": {
          "base_uri": "https://localhost:8080/"
        },
        "collapsed": true,
        "id": "Um454RZSk-5r",
        "outputId": "b9cb149a-6527-495e-df86-7046816e63ca"
      },
      "execution_count": null,
      "outputs": [
        {
          "output_type": "stream",
          "name": "stdout",
          "text": [
            "(array([[[1.       , 1.       , 1.       , ..., 1.       , 1.       ,\n",
            "         1.       ],\n",
            "        [1.       , 1.       , 1.       , ..., 1.       , 1.       ,\n",
            "         1.       ],\n",
            "        [1.       , 1.       , 1.       , ..., 1.       , 1.       ,\n",
            "         1.       ],\n",
            "        [1.       , 1.       , 1.       , ..., 1.       , 1.       ,\n",
            "         1.       ],\n",
            "        [1.       , 1.       , 1.       , ..., 1.       , 1.       ,\n",
            "         1.       ]],\n",
            "\n",
            "       [[0.045302 , 0.018553 , 0.0067204, ..., 0.019476 , 0.0046354,\n",
            "         0.050195 ],\n",
            "        [0.19019  , 0.029937 , 0.068315 , ..., 0.24841  , 0.079368 ,\n",
            "         0.037184 ],\n",
            "        [0.37098  , 0.032771 , 0.040591 , ..., 0.12305  , 0.13582  ,\n",
            "         0.016301 ],\n",
            "        [0.26684  , 0.019146 , 0.03734  , ..., 0.091717 , 0.12578  ,\n",
            "         0.007978 ],\n",
            "        [0.21679  , 0.036511 , 0.022681 , ..., 0.049675 , 0.074151 ,\n",
            "         0.018815 ]],\n",
            "\n",
            "       [[1.       , 1.       , 1.       , ..., 1.       , 1.       ,\n",
            "         1.       ],\n",
            "        [1.       , 1.       , 1.       , ..., 1.       , 1.       ,\n",
            "         1.       ],\n",
            "        [1.       , 1.       , 1.       , ..., 1.       , 1.       ,\n",
            "         1.       ],\n",
            "        [1.       , 1.       , 1.       , ..., 1.       , 1.       ,\n",
            "         1.       ],\n",
            "        [1.       , 1.       , 1.       , ..., 1.       , 1.       ,\n",
            "         1.       ]],\n",
            "\n",
            "       ...,\n",
            "\n",
            "       [[0.013273 , 0.54075  , 0.19753  , ..., 0.11305  , 0.57058  ,\n",
            "         0.27405  ],\n",
            "        [0.028501 , 0.58315  , 0.2544   , ..., 0.59671  , 0.56031  ,\n",
            "         0.31608  ],\n",
            "        [0.048708 , 0.58642  , 0.27043  , ..., 0.48692  , 0.66163  ,\n",
            "         0.27185  ],\n",
            "        [0.054026 , 0.383    , 0.19396  , ..., 0.2045   , 0.75305  ,\n",
            "         0.19273  ],\n",
            "        [0.035369 , 0.58555  , 0.339    , ..., 0.30483  , 0.80269  ,\n",
            "         0.25913  ]],\n",
            "\n",
            "       [[0.10332  , 0.14126  , 0.17234  , ..., 0.020785 , 0.028325 ,\n",
            "         0.044126 ],\n",
            "        [0.17637  , 0.16564  , 0.29842  , ..., 0.055514 , 0.036662 ,\n",
            "         0.028671 ],\n",
            "        [0.030346 , 0.20905  , 0.13631  , ..., 0.031969 , 0.040996 ,\n",
            "         0.019464 ],\n",
            "        [0.0092919, 0.12183  , 0.0071251, ..., 0.0040313, 0.0022311,\n",
            "         0.0025747],\n",
            "        [0.0090891, 0.15108  , 0.011652 , ..., 0.0099666, 0.0046541,\n",
            "         0.0034092]],\n",
            "\n",
            "       [[1.       , 1.       , 1.       , ..., 1.       , 1.       ,\n",
            "         1.       ],\n",
            "        [1.       , 1.       , 1.       , ..., 1.       , 1.       ,\n",
            "         1.       ],\n",
            "        [1.       , 1.       , 1.       , ..., 1.       , 1.       ,\n",
            "         1.       ],\n",
            "        [1.       , 1.       , 1.       , ..., 1.       , 1.       ,\n",
            "         1.       ],\n",
            "        [1.       , 1.       , 1.       , ..., 1.       , 1.       ,\n",
            "         1.       ]]]), array([[[1.       , 1.       , 1.       , ..., 1.       , 1.       ,\n",
            "         1.       ],\n",
            "        [1.       , 1.       , 1.       , ..., 1.       , 1.       ,\n",
            "         1.       ],\n",
            "        [1.       , 1.       , 1.       , ..., 1.       , 1.       ,\n",
            "         1.       ],\n",
            "        [1.       , 1.       , 1.       , ..., 1.       , 1.       ,\n",
            "         1.       ],\n",
            "        [1.       , 1.       , 1.       , ..., 1.       , 1.       ,\n",
            "         1.       ]],\n",
            "\n",
            "       [[0.0064655, 0.038783 , 0.015197 , ..., 0.0095   , 0.0099639,\n",
            "         0.0057679],\n",
            "        [0.064825 , 0.060179 , 0.081061 , ..., 0.024352 , 0.031631 ,\n",
            "         0.022943 ],\n",
            "        [0.052866 , 0.08908  , 0.064763 , ..., 0.054222 , 0.09031  ,\n",
            "         0.049702 ],\n",
            "        [0.027291 , 0.071079 , 0.016847 , ..., 0.030305 , 0.035378 ,\n",
            "         0.033244 ],\n",
            "        [0.0079167, 0.038706 , 0.0037379, ..., 0.038896 , 0.025074 ,\n",
            "         0.026172 ]],\n",
            "\n",
            "       [[1.       , 1.       , 1.       , ..., 1.       , 1.       ,\n",
            "         1.       ],\n",
            "        [1.       , 1.       , 1.       , ..., 1.       , 1.       ,\n",
            "         1.       ],\n",
            "        [1.       , 1.       , 1.       , ..., 1.       , 1.       ,\n",
            "         1.       ],\n",
            "        [1.       , 1.       , 1.       , ..., 1.       , 1.       ,\n",
            "         1.       ],\n",
            "        [1.       , 1.       , 1.       , ..., 1.       , 1.       ,\n",
            "         1.       ]],\n",
            "\n",
            "       ...,\n",
            "\n",
            "       [[0.27491  , 0.5065   , 0.31444  , ..., 0.16203  , 0.63089  ,\n",
            "         0.41932  ],\n",
            "        [0.52236  , 0.5278   , 0.4499   , ..., 0.35938  , 0.61039  ,\n",
            "         0.48956  ],\n",
            "        [0.49586  , 0.64317  , 0.48151  , ..., 0.66508  , 0.63608  ,\n",
            "         0.71651  ],\n",
            "        [0.30672  , 0.36248  , 0.39906  , ..., 0.52234  , 0.61213  ,\n",
            "         0.70731  ],\n",
            "        [0.49542  , 0.60515  , 0.57968  , ..., 0.62756  , 0.62668  ,\n",
            "         0.79689  ]],\n",
            "\n",
            "       [[0.0057032, 0.025649 , 0.039177 , ..., 0.064384 , 0.22189  ,\n",
            "         0.12517  ],\n",
            "        [0.081837 , 0.10469  , 0.095491 , ..., 0.087032 , 0.083833 ,\n",
            "         0.14833  ],\n",
            "        [0.12828  , 0.31383  , 0.16388  , ..., 0.18263  , 0.11367  ,\n",
            "         0.25272  ],\n",
            "        [0.014999 , 0.007581 , 0.016576 , ..., 0.00666  , 0.013748 ,\n",
            "         0.030867 ],\n",
            "        [0.0089861, 0.013265 , 0.027768 , ..., 0.0029045, 0.15321  ,\n",
            "         0.017172 ]],\n",
            "\n",
            "       [[1.       , 1.       , 1.       , ..., 1.       , 1.       ,\n",
            "         1.       ],\n",
            "        [1.       , 1.       , 1.       , ..., 1.       , 1.       ,\n",
            "         1.       ],\n",
            "        [1.       , 1.       , 1.       , ..., 1.       , 1.       ,\n",
            "         1.       ],\n",
            "        [1.       , 1.       , 1.       , ..., 1.       , 1.       ,\n",
            "         1.       ],\n",
            "        [1.       , 1.       , 1.       , ..., 1.       , 1.       ,\n",
            "         1.       ]]]), array([[[1.       , 1.       , 1.       , ..., 1.       , 1.       ,\n",
            "         1.       ],\n",
            "        [1.       , 1.       , 1.       , ..., 1.       , 1.       ,\n",
            "         1.       ],\n",
            "        [1.       , 1.       , 1.       , ..., 1.       , 1.       ,\n",
            "         1.       ],\n",
            "        [1.       , 1.       , 1.       , ..., 1.       , 1.       ,\n",
            "         1.       ],\n",
            "        [1.       , 1.       , 1.       , ..., 1.       , 1.       ,\n",
            "         1.       ]],\n",
            "\n",
            "       [[0.017369 , 0.062365 , 0.028775 , ..., 0.043877 , 0.0020666,\n",
            "         0.017157 ],\n",
            "        [0.10514  , 0.024432 , 0.042654 , ..., 0.017765 , 0.0014198,\n",
            "         0.022044 ],\n",
            "        [0.048615 , 0.027846 , 0.030534 , ..., 0.039224 , 0.022005 ,\n",
            "         0.020596 ],\n",
            "        [0.097694 , 0.034615 , 0.048585 , ..., 0.019125 , 0.022169 ,\n",
            "         0.013099 ],\n",
            "        [0.0822   , 0.035915 , 0.027616 , ..., 0.018653 , 0.041958 ,\n",
            "         0.022028 ]],\n",
            "\n",
            "       [[1.       , 1.       , 1.       , ..., 1.       , 1.       ,\n",
            "         1.       ],\n",
            "        [1.       , 1.       , 1.       , ..., 1.       , 1.       ,\n",
            "         1.       ],\n",
            "        [1.       , 1.       , 1.       , ..., 1.       , 1.       ,\n",
            "         1.       ],\n",
            "        [1.       , 1.       , 1.       , ..., 1.       , 1.       ,\n",
            "         1.       ],\n",
            "        [1.       , 1.       , 1.       , ..., 1.       , 1.       ,\n",
            "         1.       ]],\n",
            "\n",
            "       ...,\n",
            "\n",
            "       [[0.27302  , 0.010726 , 0.37231  , ..., 0.018466 , 0.24655  ,\n",
            "         0.090805 ],\n",
            "        [0.21951  , 0.14134  , 0.42188  , ..., 0.12713  , 0.34379  ,\n",
            "         0.052342 ],\n",
            "        [0.21994  , 0.45263  , 0.46879  , ..., 0.47773  , 0.53553  ,\n",
            "         0.23048  ],\n",
            "        [0.16914  , 0.76982  , 0.34545  , ..., 0.64786  , 0.27495  ,\n",
            "         0.15996  ],\n",
            "        [0.16951  , 0.83835  , 0.49663  , ..., 0.60366  , 0.50309  ,\n",
            "         0.55556  ]],\n",
            "\n",
            "       [[0.082744 , 0.05182  , 0.023218 , ..., 0.035943 , 0.12353  ,\n",
            "         0.14363  ],\n",
            "        [0.031556 , 0.054333 , 0.082514 , ..., 0.060572 , 0.16681  ,\n",
            "         0.20582  ],\n",
            "        [0.024071 , 0.047034 , 0.25647  , ..., 0.060738 , 0.17029  ,\n",
            "         0.15499  ],\n",
            "        [0.020514 , 0.0037207, 0.0084431, ..., 0.027181 , 0.014342 ,\n",
            "         0.02807  ],\n",
            "        [0.01831  , 0.0027147, 0.011064 , ..., 0.0038902, 0.012232 ,\n",
            "         0.0056814]],\n",
            "\n",
            "       [[1.       , 1.       , 1.       , ..., 1.       , 1.       ,\n",
            "         1.       ],\n",
            "        [1.       , 1.       , 1.       , ..., 1.       , 1.       ,\n",
            "         1.       ],\n",
            "        [1.       , 1.       , 1.       , ..., 1.       , 1.       ,\n",
            "         1.       ],\n",
            "        [1.       , 1.       , 1.       , ..., 1.       , 1.       ,\n",
            "         1.       ],\n",
            "        [1.       , 1.       , 1.       , ..., 1.       , 1.       ,\n",
            "         1.       ]]]), array([[[1.        , 1.        , 1.        ],\n",
            "        [1.        , 1.        , 1.        ],\n",
            "        [1.        , 1.        , 1.        ],\n",
            "        [1.        , 1.        , 1.        ],\n",
            "        [1.        , 1.        , 1.        ]],\n",
            "\n",
            "       [[0.04342984, 0.0286169 , 0.03461421],\n",
            "        [0.05735789, 0.06647804, 0.0970485 ],\n",
            "        [0.08513617, 0.06576513, 0.07329084],\n",
            "        [0.04891959, 0.05066761, 0.04651357],\n",
            "        [0.03691947, 0.04201512, 0.0454775 ]],\n",
            "\n",
            "       [[1.        , 1.        , 1.        ],\n",
            "        [1.        , 1.        , 1.        ],\n",
            "        [1.        , 1.        , 1.        ],\n",
            "        [1.        , 1.        , 1.        ],\n",
            "        [1.        , 1.        , 1.        ]],\n",
            "\n",
            "       ...,\n",
            "\n",
            "       [[0.3635371 , 0.30525248, 0.34804214],\n",
            "        [0.45269766, 0.39071709, 0.44364503],\n",
            "        [0.55240148, 0.47972248, 0.47446686],\n",
            "        [0.42797231, 0.3904543 , 0.41476522],\n",
            "        [0.49135456, 0.48216495, 0.50639236]],\n",
            "\n",
            "       [[0.11629576, 0.08153161, 0.10402231],\n",
            "        [0.13847217, 0.11439778, 0.11256172],\n",
            "        [0.2022329 , 0.12677576, 0.11232287],\n",
            "        [0.02615383, 0.01479873, 0.03037674],\n",
            "        [0.02437693, 0.0116684 , 0.03775378]],\n",
            "\n",
            "       [[1.        , 1.        , 1.        ],\n",
            "        [1.        , 1.        , 1.        ],\n",
            "        [1.        , 1.        , 1.        ],\n",
            "        [1.        , 1.        , 1.        ],\n",
            "        [1.        , 1.        , 1.        ]]]), array([[array(['Healthy Controls'], dtype='<U16'),\n",
            "        array(['FTD Patients'], dtype='<U12'),\n",
            "        array(['AD Patients'], dtype='<U11')]], dtype=object), array([[array(['Band 1'], dtype='<U6'), array(['Band 2'], dtype='<U6'),\n",
            "        array(['Band 3'], dtype='<U6'), array(['Band 4'], dtype='<U6'),\n",
            "        array(['Band 5'], dtype='<U6')]], dtype=object), array([[[0.        , 0.        , 0.        ],\n",
            "        [0.        , 0.        , 0.        ],\n",
            "        [0.        , 0.        , 0.        ],\n",
            "        [0.        , 0.        , 0.        ],\n",
            "        [0.        , 0.        , 0.        ]],\n",
            "\n",
            "       [[0.01026633, 0.00480351, 0.00495718],\n",
            "        [0.00997355, 0.01278811, 0.0151266 ],\n",
            "        [0.00968642, 0.01548264, 0.01121883],\n",
            "        [0.00665643, 0.01411068, 0.00866888],\n",
            "        [0.00688777, 0.0105131 , 0.00806209]],\n",
            "\n",
            "       [[0.        , 0.        , 0.        ],\n",
            "        [0.        , 0.        , 0.        ],\n",
            "        [0.        , 0.        , 0.        ],\n",
            "        [0.        , 0.        , 0.        ],\n",
            "        [0.        , 0.        , 0.        ]],\n",
            "\n",
            "       ...,\n",
            "\n",
            "       [[0.03272546, 0.04266569, 0.03559594],\n",
            "        [0.03348591, 0.04511219, 0.03390608],\n",
            "        [0.03356712, 0.03917835, 0.03761944],\n",
            "        [0.03456234, 0.04419671, 0.043915  ],\n",
            "        [0.03940044, 0.05185457, 0.04293036]],\n",
            "\n",
            "       [[0.02039585, 0.0196927 , 0.01374712],\n",
            "        [0.01548638, 0.01625142, 0.01311728],\n",
            "        [0.0218908 , 0.02220275, 0.01666714],\n",
            "        [0.00481194, 0.00246415, 0.00661075],\n",
            "        [0.00727495, 0.00333176, 0.01158112]],\n",
            "\n",
            "       [[0.        , 0.        , 0.        ],\n",
            "        [0.        , 0.        , 0.        ],\n",
            "        [0.        , 0.        , 0.        ],\n",
            "        [0.        , 0.        , 0.        ],\n",
            "        [0.        , 0.        , 0.        ]]]))\n"
          ]
        }
      ]
    },
    {
      "cell_type": "markdown",
      "source": [],
      "metadata": {
        "id": "cEjTtGedDtdE"
      }
    },
    {
      "cell_type": "markdown",
      "source": [
        "# Extracting data in diffrent categories ( AZ, FTD,HC )\n",
        "\n",
        "Initially the data is extracted and then they are converted into numpy arrays"
      ],
      "metadata": {
        "id": "1e2bZpZIRxxy"
      }
    },
    {
      "cell_type": "code",
      "source": [
        "# Extract the specific fields for Alzheimer's (AZ), Frontotemporal dementia (FTD), and Healthy Controls (HC)\n",
        "coherence_AZ_F = coherence_data['AZ']\n",
        "coherence_FTD_F = coherence_data['FTD']\n",
        "coherence_HC_F = coherence_data['HC']\n",
        "\n",
        "# Extract the 3rd frequency band (index 2) from the 2nd dimension of each matrix\n",
        "# and reshape them to (2346, 1, 36), (2346, 1, 23), and (2346, 1, 29) respectively.\n",
        "\n",
        "coherence_AZ = coherence_AZ_F[:, 2, :].reshape(2346, 1, 36)\n",
        "coherence_FTD = coherence_FTD_F[:, 2, :].reshape(2346, 1, 23)\n",
        "coherence_HC = coherence_HC_F[:, 2, :].reshape(2346, 1, 29)"
      ],
      "metadata": {
        "id": "SUwrIPhk5Ks9"
      },
      "execution_count": null,
      "outputs": []
    },
    {
      "cell_type": "code",
      "source": [
        "# Normalize the data\n",
        "coherence_AZ = (coherence_AZ - np.mean(coherence_AZ)) / np.std(coherence_AZ)\n",
        "coherence_FTD = (coherence_FTD - np.mean(coherence_FTD)) / np.std(coherence_FTD)\n",
        "coherence_HC = (coherence_HC - np.mean(coherence_HC)) / np.std(coherence_HC)"
      ],
      "metadata": {
        "id": "teNSz0o1AJBZ"
      },
      "execution_count": null,
      "outputs": []
    },
    {
      "cell_type": "code",
      "source": [
        "threshould = 0.6\n",
        "# Set the values less than threshould to zero in the 2346 connection values\n",
        "coherence_AZ[coherence_AZ < threshould] = 0\n",
        "coherence_FTD[coherence_FTD< threshould] = 0\n",
        "coherence_HC[coherence_HC <threshould] = 0"
      ],
      "metadata": {
        "id": "vAtcrbAE8D_2"
      },
      "execution_count": null,
      "outputs": []
    },
    {
      "cell_type": "code",
      "source": [
        "# Set the values less than threshould to zero in the 2346 connection values\n",
        "coherence_AZ[coherence_AZ >= threshould] = 1\n",
        "coherence_FTD[coherence_FTD >=threshould] = 1\n",
        "coherence_HC[coherence_HC >= threshould] = 1"
      ],
      "metadata": {
        "id": "j8YWvuVx81Ty"
      },
      "execution_count": null,
      "outputs": []
    },
    {
      "cell_type": "markdown",
      "source": [
        "Ptional:- to test whether the data is converted properly into numpy arrays"
      ],
      "metadata": {
        "id": "oy3s4lZvC8Xb"
      }
    },
    {
      "cell_type": "code",
      "source": [
        "# Print shapes to debug\n",
        "print(coherence_AZ.shape)\n",
        "print(coherence_FTD.shape)\n",
        "print(coherence_HC.shape)"
      ],
      "metadata": {
        "colab": {
          "base_uri": "https://localhost:8080/"
        },
        "id": "agrcV6nklrmS",
        "outputId": "2576dfbd-5857-43c0-ab3e-8098c89a40b3"
      },
      "execution_count": null,
      "outputs": [
        {
          "output_type": "stream",
          "name": "stdout",
          "text": [
            "(2346, 1, 36)\n",
            "(2346, 1, 23)\n",
            "(2346, 1, 29)\n"
          ]
        }
      ]
    },
    {
      "cell_type": "code",
      "source": [
        "\n",
        "# Extract the 1D array from coherence_AZ\n",
        "data_to_visualize = coherence_AZ[:, 0, 0]\n",
        "\n",
        "# Visualize only the first 10 data points\n",
        "data_to_visualize_first_10 = data_to_visualize[:10]\n",
        "\n",
        "# Plot the 1D array\n",
        "plt.figure(figsize=(12, 6))\n",
        "plt.plot(data_to_visualize_first_10, marker='o', linestyle='-', color='b')\n",
        "plt.title('First 10 Coherence Data Points for Subject 1, Frequency Band 3')\n",
        "plt.xlabel('Index')\n",
        "plt.ylabel('Coherence Value')\n",
        "plt.grid(True)\n",
        "plt.show()\n"
      ],
      "metadata": {
        "colab": {
          "base_uri": "https://localhost:8080/",
          "height": 415
        },
        "id": "Q7PC38RrIlPy",
        "outputId": "e752b7e4-32c6-4572-acd2-90be631dad88"
      },
      "execution_count": null,
      "outputs": [
        {
          "output_type": "display_data",
          "data": {
            "text/plain": [
              "<Figure size 1200x600 with 1 Axes>"
            ],
            "image/png": "[encoded data removed]"
          },
          "metadata": {}
        }
      ]
    },
    {
      "cell_type": "code",
      "source": [
        "\n",
        "\n",
        "# Function to reconstruct the 68x68 matrix from the coherence data\n",
        "def rebuild_matrix(coherence_data):\n",
        "    n_regions = 68\n",
        "    n_data = coherence_data.shape[2]\n",
        "    n_bands = coherence_data.shape[1]\n",
        "\n",
        "    # Initialize the array to hold the 68x68 matrices\n",
        "    rebuilt_data = np.zeros((n_regions, n_regions, n_bands, n_data))\n",
        "\n",
        "    # Iterate over each subject and each frequency band\n",
        "    for band in range(n_bands):\n",
        "        for subject in range(n_data):\n",
        "            # Initialize an empty 68x68 matrix\n",
        "            matrix = np.zeros((n_regions, n_regions))\n",
        "\n",
        "            # Fill the upper triangular part column by column\n",
        "            idx = 0\n",
        "            for col in range(n_regions):\n",
        "                for row in range(col + 1):\n",
        "                    matrix[row, col] = coherence_data[idx, band, subject]\n",
        "                    idx += 1\n",
        "\n",
        "            # Mirror to the lower triangular part\n",
        "            matrix = matrix + matrix.T - np.diag(matrix.diagonal())\n",
        "\n",
        "            # Store the matrix in the rebuilt data array\n",
        "            rebuilt_data[:, :, band, subject] = matrix\n",
        "\n",
        "    return rebuilt_data\n",
        "\n",
        "\n",
        "# Rebuild the coherence matrices\n",
        "coherence_AZ_rebuilt = rebuild_matrix(coherence_AZ)\n",
        "coherence_FTD_rebuilt = rebuild_matrix(coherence_FTD)\n",
        "coherence_HC_rebuilt = rebuild_matrix(coherence_HC)\n",
        "\n",
        "# Check the shapes to ensure correctness\n",
        "print('coherence_AZ_rebuilt shape:', coherence_AZ_rebuilt.shape)\n",
        "print('coherence_FTD_rebuilt shape:', coherence_FTD_rebuilt.shape)\n",
        "print('coherence_HC_rebuilt shape:', coherence_HC_rebuilt.shape)\n"
      ],
      "metadata": {
        "colab": {
          "base_uri": "https://localhost:8080/"
        },
        "id": "VEm-cC00NsMn",
        "outputId": "1a71af0b-9f29-4052-948a-a5a885030856"
      },
      "execution_count": null,
      "outputs": [
        {
          "output_type": "stream",
          "name": "stdout",
          "text": [
            "coherence_AZ_rebuilt shape: (68, 68, 1, 36)\n",
            "coherence_FTD_rebuilt shape: (68, 68, 1, 23)\n",
            "coherence_HC_rebuilt shape: (68, 68, 1, 29)\n"
          ]
        }
      ]
    },
    {
      "cell_type": "code",
      "source": [
        "\n",
        "# Visualize\n",
        "matrix_to_visualize = coherence_AZ_rebuilt[:, :, 0, 0]\n",
        "\n",
        "# Create a heatmap using matplotlib\n",
        "plt.figure(figsize=(10, 8))\n",
        "plt.imshow(matrix_to_visualize, cmap='viridis', interpolation='none')\n",
        "plt.colorbar(label='Coherence')\n",
        "plt.title('Coherence Matrix for Subject 1, Frequency Band 3')\n",
        "plt.xlabel('Brain Region')\n",
        "plt.ylabel('Brain Region')\n",
        "plt.show()\n"
      ],
      "metadata": {
        "colab": {
          "base_uri": "https://localhost:8080/",
          "height": 653
        },
        "id": "vE7uvwpUCqWA",
        "outputId": "062b8426-6496-4040-cbcd-8e35eae6ef33"
      },
      "execution_count": null,
      "outputs": [
        {
          "output_type": "display_data",
          "data": {
            "text/plain": [
              "<Figure size 1000x800 with 2 Axes>"
            ],
            "image/png": "[encoded data removed]"
          },
          "metadata": {}
        }
      ]
    },
    {
      "cell_type": "markdown",
      "source": [
        "# Convert Coherence Matrix to Graph Data\n",
        "\n",
        "create_graph function takes a coherence matrix and a label as input and outputs a graph data object.\n",
        "number of nodes is determined by the shape of the matrix.\n",
        "initialize lists to store the edges and their corresponding attributes.\n",
        "Iterate through the matrix to create edges between all pairs of nodes (excluding self-loops) and assign edge attributes based on the coherence values.\n",
        "edge indices and attributes are converted to PyTorch tensors.\n",
        "Initialize node features with ones or other meaningful values. Create a Data object from the node features, edge indices, edge attributes, and the label."
      ],
      "metadata": {
        "id": "0_XLPTD9R6-Y"
      }
    },
    {
      "cell_type": "code",
      "source": [
        "# Function to convert coherence matrix to a graph\n",
        "def create_graph(matrix, label):\n",
        "    num_nodes = matrix.shape[0]  # number of nodes (68)\n",
        "    edge_index = []\n",
        "    edge_attr = []\n",
        "\n",
        "    for i in range(num_nodes):\n",
        "        for j in range(num_nodes):\n",
        "            if i != j:\n",
        "                edge_index.append([i, j])\n",
        "                edge_attr.append(matrix[i, j])\n",
        "\n",
        "    edge_index = torch.tensor(edge_index, dtype=torch.long).t().contiguous()\n",
        "    edge_attr = torch.tensor(edge_attr, dtype=torch.float)\n",
        "    x = torch.zeros((num_nodes, 1))  # Node features set to 0\n",
        "    # x = torch.ones((num_nodes, 1))  # Node features set to 1\n",
        "\n",
        "    # Use node degrees as node features\n",
        "    #degrees = np.sum(matrix > 0, axis=1).reshape(-1, 1)\n",
        "    # x = torch.tensor(degrees, dtype=torch.float)\n",
        "\n",
        "\n",
        "    y = torch.tensor([label], dtype=torch.long)\n",
        "    return Data(x=x, edge_index=edge_index, edge_attr=edge_attr, y=y)\n"
      ],
      "metadata": {
        "id": "FdT7rr2LPcRF"
      },
      "execution_count": null,
      "outputs": []
    },
    {
      "cell_type": "markdown",
      "source": [
        "# Prepare Graph Datasets\n",
        "\n",
        "prepare_dataset function takes coherence data and a label as input and creates a list of graph data objects. iterate through the coherence data, typically representing different frequency bands, to create individual graphs for each band. Each graph object is appended to the dataset list.Then the label is assigned based on the input label parameter."
      ],
      "metadata": {
        "id": "-TIZNmjYSK0n"
      }
    },
    {
      "cell_type": "code",
      "source": [
        "# Prepare the datasets\n",
        "def prepare_dataset(data, label):\n",
        "    dataset = []\n",
        "    for i in range(data.shape[3]):\n",
        "        for j in range(data.shape[2]):\n",
        "            matrix = data[:, :, j, i]\n",
        "            graph = create_graph(matrix, label)\n",
        "            dataset.append(graph)\n",
        "    return dataset\n",
        "\n",
        "# Prepare datasets\n",
        "az_dataset = prepare_dataset(coherence_AZ_rebuilt, 0)  #  Alzheimer's patients\n",
        "hc_dataset = prepare_dataset(coherence_HC_rebuilt, 1)  # r Healthy subjects\n",
        "ftd_dataset = prepare_dataset(coherence_FTD_rebuilt, 2)  #  Frontotemporal dementia patients\n",
        "\n"
      ],
      "metadata": {
        "id": "g8U_q7_KPsds"
      },
      "execution_count": null,
      "outputs": []
    },
    {
      "cell_type": "markdown",
      "source": [
        "Combine Datasets and Create Data Loaders\n",
        "\n",
        "The data set of 3 categories are concatenated into a single data set. Then the data is Splitted into training and testing. test size is 20% and random seed is set here. Then the data loades are created."
      ],
      "metadata": {
        "id": "PyIbtvJaSPKK"
      }
    },
    {
      "cell_type": "code",
      "source": [
        "# Combine datasets\n",
        "dataset = az_dataset + hc_dataset + ftd_dataset\n",
        "\n",
        "# Split into training and test sets\n",
        "train_data, test_data = train_test_split(dataset, test_size=0.2, random_state=42)\n",
        "\n",
        "# Create data loaders\n",
        "train_loader = DataLoader(train_data, batch_size=16, shuffle=True)\n",
        "test_loader = DataLoader(test_data, batch_size=16, shuffle=False)\n"
      ],
      "metadata": {
        "id": "tNbhakmgP5Pr"
      },
      "execution_count": null,
      "outputs": []
    },
    {
      "cell_type": "markdown",
      "source": [
        "#Define and Initialize the Graph Neural Network (GNN) Model\n",
        "\n",
        "consists of two graph convolutional layers (GCNConv), followed by a fully connected layer (Linear) for classification\n",
        "Initializes the model layers. Then forward method defines how data flows. Relu activation is used here. performs global pooling. and passes the output through the fully connected layer (fc) with a log softmax activation. (Adam) optimizer is used and Crossentropy loss function is used.\n",
        "\n"
      ],
      "metadata": {
        "id": "j4VzdeuPSSyf"
      }
    },
    {
      "cell_type": "code",
      "source": [
        "# Define the GNN model\n",
        "class GNN(torch.nn.Module):\n",
        "    def __init__(self):\n",
        "        super(GNN, self).__init__()\n",
        "        self.conv1 = GCNConv(1, 32)\n",
        "        self.conv2 = GCNConv(32, 32)\n",
        "        #self.conv3 = GCNConv(32, 32)\n",
        "        self.fc = torch.nn.Linear(32, 3)\n",
        "        self.dropout = torch.nn.Dropout(p=0.1)\n",
        "\n",
        "    def forward(self, data):\n",
        "        x, edge_index, edge_weight = data.x, data.edge_index, data.edge_attr\n",
        "        x = self.conv1(x, edge_index, edge_weight)\n",
        "        x = F.relu(x)\n",
        "        x = self.dropout(x)\n",
        "        x = self.conv2(x, edge_index, edge_weight)\n",
        "        x = F.relu(x)\n",
        "        #x = self.conv3(x, edge_index, edge_weight)\n",
        "        #x = F.relu(x)\n",
        "        x = self.dropout(x)\n",
        "        x = global_mean_pool(x, data.batch)\n",
        "        x = self.fc(x)\n",
        "        return F.log_softmax(x, dim=1)\n",
        "\n",
        "# Initialize model, optimizer, and loss function\n",
        "model = GNN()\n",
        "optimizer = torch.optim.Adam(model.parameters(), lr=0.001)\n",
        "criterion = torch.nn.CrossEntropyLoss()"
      ],
      "metadata": {
        "id": "W5DyrOH4QOva"
      },
      "execution_count": null,
      "outputs": []
    },
    {
      "cell_type": "markdown",
      "source": [
        "# Training and Testing Loop\n",
        "\n",
        "Training loop (train function) function performs the training of the model.  iterates through batches of data\n",
        "Testing loop (test function) function evaluates the model's performance on the test dataset"
      ],
      "metadata": {
        "id": "lC83wuZPSVs2"
      }
    },
    {
      "cell_type": "code",
      "source": [
        "# Training loop\n",
        "def train():\n",
        "    model.train()\n",
        "    for data in train_loader:\n",
        "        optimizer.zero_grad()\n",
        "        out = model(data)\n",
        "        loss = criterion(out, data.y)\n",
        "        loss.backward()\n",
        "        optimizer.step()\n",
        "\n",
        "def test():\n",
        "    model.eval()\n",
        "    correct = 0\n",
        "    for data in test_loader:\n",
        "        out = model(data)\n",
        "        pred = out.argmax(dim=1)\n",
        "        correct += int((pred == data.y).sum())\n",
        "    return correct / len(test_data)"
      ],
      "metadata": {
        "id": "_kYES-H5QRSb"
      },
      "execution_count": null,
      "outputs": []
    },
    {
      "cell_type": "markdown",
      "source": [
        "\n",
        "# Training and Testing Execution\n",
        "\n",
        "Loop through the range of epochs.train function to perform training on the training dataset using batches of data in each epoch. test function to evaluate the model's performance on the test dataset using batches of data in every 10 epochs. then print accuracy."
      ],
      "metadata": {
        "id": "5CnVB91DSY5F"
      }
    },
    {
      "cell_type": "code",
      "source": [
        "# Run the training and testing loop\n",
        "for epoch in range(1, 200):\n",
        "    train()\n",
        "    if epoch % 10 == 0:\n",
        "        test_acc = test()\n",
        "        print(f'Epoch {epoch}, Test Accuracy: {test_acc:.4f}')"
      ],
      "metadata": {
        "colab": {
          "base_uri": "https://localhost:8080/"
        },
        "id": "azNOMycvQZya",
        "outputId": "5c4855f1-1ee8-433d-bad1-7f5423b14ca7"
      },
      "execution_count": null,
      "outputs": [
        {
          "output_type": "stream",
          "name": "stdout",
          "text": [
            "Epoch 10, Test Accuracy: 0.4444\n",
            "Epoch 20, Test Accuracy: 0.4444\n",
            "Epoch 30, Test Accuracy: 0.4444\n",
            "Epoch 40, Test Accuracy: 0.4444\n",
            "Epoch 50, Test Accuracy: 0.4444\n",
            "Epoch 60, Test Accuracy: 0.4444\n",
            "Epoch 70, Test Accuracy: 0.4444\n",
            "Epoch 80, Test Accuracy: 0.4444\n",
            "Epoch 90, Test Accuracy: 0.4444\n",
            "Epoch 100, Test Accuracy: 0.4444\n",
            "Epoch 110, Test Accuracy: 0.4444\n",
            "Epoch 120, Test Accuracy: 0.4444\n",
            "Epoch 130, Test Accuracy: 0.4444\n",
            "Epoch 140, Test Accuracy: 0.4444\n",
            "Epoch 150, Test Accuracy: 0.4444\n",
            "Epoch 160, Test Accuracy: 0.4444\n",
            "Epoch 170, Test Accuracy: 0.4444\n",
            "Epoch 180, Test Accuracy: 0.4444\n",
            "Epoch 190, Test Accuracy: 0.4444\n"
          ]
        }
      ]
    },
    {
      "cell_type": "code",
      "source": [
        "# Initialize lists to store training loss and accuracy\n",
        "train_losses = []\n",
        "test_accuracies = []\n",
        "epochs = []\n",
        "\n",
        "# Training loop with visualization\n",
        "for epoch in range(1, 201):\n",
        "    model.train()\n",
        "    for data in train_loader:\n",
        "        optimizer.zero_grad()\n",
        "        out = model(data)\n",
        "        loss = criterion(out, data.y)\n",
        "        loss.backward()\n",
        "        optimizer.step()\n",
        "        train_losses.append(loss.item())\n",
        "        if epoch % 10 == 0:\n",
        "            test_acc = test()\n",
        "            test_accuracies.append(test_acc)\n",
        "            epochs.append(epoch)  #\n",
        "        print(f'Epoch {epoch}, Test Accuracy: {test_acc:.4f}')\n",
        "\n",
        "# Plotting training loss and test accuracy\n",
        "import matplotlib.pyplot as plt\n",
        "\n",
        "plt.figure(figsize=(10, 5))\n",
        "plt.subplot(1, 2, 1)\n",
        "plt.plot(range(len(train_losses)), train_losses, label='Training Loss')\n",
        "plt.xlabel('Iterations')\n",
        "plt.ylabel('Loss')\n",
        "plt.title('Training Loss over Iterations')\n",
        "plt.legend()\n",
        "\n",
        "plt.subplot(1, 2, 2)\n",
        "plt.plot(epochs, test_accuracies, label='Test Accuracy', color='green')\n",
        "plt.xlabel('Epochs')\n",
        "plt.ylabel('Accuracy')\n",
        "plt.title('Test Accuracy over Epochs')\n",
        "plt.legend()\n",
        "\n",
        "plt.tight_layout()\n",
        "plt.show()"
      ],
      "metadata": {
        "colab": {
          "base_uri": "https://localhost:8080/",
          "height": 1000
        },
        "id": "ERFcPbtsRPBd",
        "outputId": "96f93efa-c10c-4222-c463-a4191b9ec889"
      },
      "execution_count": null,
      "outputs": [
        {
          "output_type": "stream",
          "name": "stdout",
          "text": [
            "Epoch 10, Test Accuracy: 0.5000\n",
            "Epoch 10, Test Accuracy: 0.5000\n",
            "Epoch 10, Test Accuracy: 0.5000\n",
            "Epoch 10, Test Accuracy: 0.5000\n",
            "Epoch 10, Test Accuracy: 0.5000\n",
            "Epoch 10, Test Accuracy: 0.5000\n",
            "Epoch 10, Test Accuracy: 0.5000\n",
            "Epoch 10, Test Accuracy: 0.5000\n",
            "Epoch 10, Test Accuracy: 0.5000\n",
            "Epoch 10, Test Accuracy: 0.5000\n",
            "Epoch 10, Test Accuracy: 0.5000\n",
            "Epoch 10, Test Accuracy: 0.5000\n",
            "Epoch 10, Test Accuracy: 0.5000\n",
            "Epoch 10, Test Accuracy: 0.5000\n",
            "Epoch 10, Test Accuracy: 0.5000\n",
            "Epoch 10, Test Accuracy: 0.5000\n",
            "Epoch 10, Test Accuracy: 0.5000\n",
            "Epoch 10, Test Accuracy: 0.5000\n",
            "Epoch 10, Test Accuracy: 0.5000\n",
            "Epoch 10, Test Accuracy: 0.5000\n",
            "Epoch 10, Test Accuracy: 0.5000\n",
            "Epoch 10, Test Accuracy: 0.5000\n",
            "Epoch 20, Test Accuracy: 0.5000\n",
            "Epoch 20, Test Accuracy: 0.5000\n",
            "Epoch 20, Test Accuracy: 0.5000\n",
            "Epoch 20, Test Accuracy: 0.5000\n",
            "Epoch 20, Test Accuracy: 0.5000\n",
            "Epoch 20, Test Accuracy: 0.5000\n",
            "Epoch 20, Test Accuracy: 0.5000\n",
            "Epoch 20, Test Accuracy: 0.5000\n",
            "Epoch 20, Test Accuracy: 0.5000\n",
            "Epoch 20, Test Accuracy: 0.5000\n",
            "Epoch 20, Test Accuracy: 0.5000\n",
            "Epoch 20, Test Accuracy: 0.5000\n",
            "Epoch 20, Test Accuracy: 0.5000\n",
            "Epoch 20, Test Accuracy: 0.5000\n",
            "Epoch 20, Test Accuracy: 0.5000\n",
            "Epoch 20, Test Accuracy: 0.5000\n",
            "Epoch 20, Test Accuracy: 0.5000\n",
            "Epoch 20, Test Accuracy: 0.5000\n",
            "Epoch 20, Test Accuracy: 0.5000\n",
            "Epoch 20, Test Accuracy: 0.5000\n",
            "Epoch 20, Test Accuracy: 0.5000\n",
            "Epoch 20, Test Accuracy: 0.5000\n",
            "Epoch 30, Test Accuracy: 0.5000\n",
            "Epoch 30, Test Accuracy: 0.5000\n",
            "Epoch 30, Test Accuracy: 0.5000\n",
            "Epoch 30, Test Accuracy: 0.5000\n",
            "Epoch 30, Test Accuracy: 0.5000\n",
            "Epoch 30, Test Accuracy: 0.5000\n",
            "Epoch 30, Test Accuracy: 0.5000\n",
            "Epoch 30, Test Accuracy: 0.5000\n",
            "Epoch 30, Test Accuracy: 0.5000\n",
            "Epoch 30, Test Accuracy: 0.5000\n",
            "Epoch 30, Test Accuracy: 0.5000\n",
            "Epoch 30, Test Accuracy: 0.5000\n",
            "Epoch 30, Test Accuracy: 0.5000\n",
            "Epoch 30, Test Accuracy: 0.5000\n",
            "Epoch 30, Test Accuracy: 0.5000\n",
            "Epoch 30, Test Accuracy: 0.5000\n",
            "Epoch 30, Test Accuracy: 0.5000\n",
            "Epoch 30, Test Accuracy: 0.5000\n",
            "Epoch 30, Test Accuracy: 0.5000\n",
            "Epoch 30, Test Accuracy: 0.5000\n",
            "Epoch 30, Test Accuracy: 0.5000\n",
            "Epoch 30, Test Accuracy: 0.5000\n",
            "Epoch 40, Test Accuracy: 0.5000\n",
            "Epoch 40, Test Accuracy: 0.5000\n",
            "Epoch 40, Test Accuracy: 0.5000\n",
            "Epoch 40, Test Accuracy: 0.5000\n",
            "Epoch 40, Test Accuracy: 0.5000\n",
            "Epoch 40, Test Accuracy: 0.5000\n",
            "Epoch 40, Test Accuracy: 0.5000\n",
            "Epoch 40, Test Accuracy: 0.5000\n",
            "Epoch 40, Test Accuracy: 0.5000\n",
            "Epoch 40, Test Accuracy: 0.5000\n",
            "Epoch 40, Test Accuracy: 0.5000\n",
            "Epoch 40, Test Accuracy: 0.5000\n",
            "Epoch 40, Test Accuracy: 0.5000\n",
            "Epoch 40, Test Accuracy: 0.5000\n",
            "Epoch 40, Test Accuracy: 0.5000\n",
            "Epoch 40, Test Accuracy: 0.5000\n",
            "Epoch 40, Test Accuracy: 0.5000\n",
            "Epoch 40, Test Accuracy: 0.5000\n",
            "Epoch 40, Test Accuracy: 0.5000\n",
            "Epoch 40, Test Accuracy: 0.5000\n",
            "Epoch 40, Test Accuracy: 0.5000\n",
            "Epoch 40, Test Accuracy: 0.5000\n",
            "Epoch 50, Test Accuracy: 0.5000\n",
            "Epoch 50, Test Accuracy: 0.5000\n",
            "Epoch 50, Test Accuracy: 0.5000\n",
            "Epoch 50, Test Accuracy: 0.5000\n",
            "Epoch 50, Test Accuracy: 0.5000\n",
            "Epoch 50, Test Accuracy: 0.5000\n",
            "Epoch 50, Test Accuracy: 0.5000\n",
            "Epoch 50, Test Accuracy: 0.5000\n",
            "Epoch 50, Test Accuracy: 0.5000\n",
            "Epoch 50, Test Accuracy: 0.5000\n",
            "Epoch 50, Test Accuracy: 0.5000\n",
            "Epoch 50, Test Accuracy: 0.5000\n",
            "Epoch 50, Test Accuracy: 0.5000\n",
            "Epoch 50, Test Accuracy: 0.5000\n",
            "Epoch 50, Test Accuracy: 0.5000\n",
            "Epoch 50, Test Accuracy: 0.5000\n",
            "Epoch 50, Test Accuracy: 0.5000\n",
            "Epoch 50, Test Accuracy: 0.5000\n",
            "Epoch 50, Test Accuracy: 0.5000\n",
            "Epoch 50, Test Accuracy: 0.5000\n",
            "Epoch 50, Test Accuracy: 0.5000\n",
            "Epoch 50, Test Accuracy: 0.5000\n",
            "Epoch 60, Test Accuracy: 0.5000\n",
            "Epoch 60, Test Accuracy: 0.5000\n",
            "Epoch 60, Test Accuracy: 0.5000\n",
            "Epoch 60, Test Accuracy: 0.5000\n",
            "Epoch 60, Test Accuracy: 0.5000\n",
            "Epoch 60, Test Accuracy: 0.5000\n",
            "Epoch 60, Test Accuracy: 0.5000\n",
            "Epoch 60, Test Accuracy: 0.5000\n",
            "Epoch 60, Test Accuracy: 0.5000\n",
            "Epoch 60, Test Accuracy: 0.5000\n",
            "Epoch 60, Test Accuracy: 0.5000\n",
            "Epoch 60, Test Accuracy: 0.5000\n",
            "Epoch 60, Test Accuracy: 0.5000\n",
            "Epoch 60, Test Accuracy: 0.5000\n",
            "Epoch 60, Test Accuracy: 0.5000\n",
            "Epoch 60, Test Accuracy: 0.5000\n",
            "Epoch 60, Test Accuracy: 0.5000\n",
            "Epoch 60, Test Accuracy: 0.5000\n",
            "Epoch 60, Test Accuracy: 0.5000\n",
            "Epoch 60, Test Accuracy: 0.5000\n",
            "Epoch 60, Test Accuracy: 0.5000\n",
            "Epoch 60, Test Accuracy: 0.5000\n",
            "Epoch 70, Test Accuracy: 0.5000\n",
            "Epoch 70, Test Accuracy: 0.5000\n",
            "Epoch 70, Test Accuracy: 0.5000\n",
            "Epoch 70, Test Accuracy: 0.5000\n",
            "Epoch 70, Test Accuracy: 0.5000\n",
            "Epoch 70, Test Accuracy: 0.5000\n",
            "Epoch 70, Test Accuracy: 0.5000\n",
            "Epoch 70, Test Accuracy: 0.5000\n",
            "Epoch 70, Test Accuracy: 0.5000\n",
            "Epoch 70, Test Accuracy: 0.5000\n",
            "Epoch 70, Test Accuracy: 0.5000\n",
            "Epoch 70, Test Accuracy: 0.5000\n",
            "Epoch 70, Test Accuracy: 0.5000\n",
            "Epoch 70, Test Accuracy: 0.5000\n",
            "Epoch 70, Test Accuracy: 0.5000\n",
            "Epoch 70, Test Accuracy: 0.5000\n",
            "Epoch 70, Test Accuracy: 0.5000\n",
            "Epoch 70, Test Accuracy: 0.5000\n",
            "Epoch 70, Test Accuracy: 0.5000\n",
            "Epoch 70, Test Accuracy: 0.5000\n",
            "Epoch 70, Test Accuracy: 0.5000\n",
            "Epoch 70, Test Accuracy: 0.5000\n",
            "Epoch 80, Test Accuracy: 0.5000\n",
            "Epoch 80, Test Accuracy: 0.5000\n",
            "Epoch 80, Test Accuracy: 0.5000\n",
            "Epoch 80, Test Accuracy: 0.5000\n",
            "Epoch 80, Test Accuracy: 0.5000\n",
            "Epoch 80, Test Accuracy: 0.5000\n",
            "Epoch 80, Test Accuracy: 0.5000\n",
            "Epoch 80, Test Accuracy: 0.5000\n",
            "Epoch 80, Test Accuracy: 0.5000\n",
            "Epoch 80, Test Accuracy: 0.5000\n",
            "Epoch 80, Test Accuracy: 0.5000\n",
            "Epoch 80, Test Accuracy: 0.5000\n",
            "Epoch 80, Test Accuracy: 0.5000\n",
            "Epoch 80, Test Accuracy: 0.5000\n",
            "Epoch 80, Test Accuracy: 0.5000\n",
            "Epoch 80, Test Accuracy: 0.5000\n",
            "Epoch 80, Test Accuracy: 0.5000\n",
            "Epoch 80, Test Accuracy: 0.5000\n",
            "Epoch 80, Test Accuracy: 0.5000\n",
            "Epoch 80, Test Accuracy: 0.5000\n",
            "Epoch 80, Test Accuracy: 0.5000\n",
            "Epoch 80, Test Accuracy: 0.5000\n",
            "Epoch 90, Test Accuracy: 0.5000\n",
            "Epoch 90, Test Accuracy: 0.5000\n",
            "Epoch 90, Test Accuracy: 0.5000\n",
            "Epoch 90, Test Accuracy: 0.5000\n",
            "Epoch 90, Test Accuracy: 0.5000\n",
            "Epoch 90, Test Accuracy: 0.5000\n",
            "Epoch 90, Test Accuracy: 0.5000\n",
            "Epoch 90, Test Accuracy: 0.5000\n",
            "Epoch 90, Test Accuracy: 0.5000\n",
            "Epoch 90, Test Accuracy: 0.5000\n",
            "Epoch 90, Test Accuracy: 0.5000\n",
            "Epoch 90, Test Accuracy: 0.5000\n",
            "Epoch 90, Test Accuracy: 0.5000\n",
            "Epoch 90, Test Accuracy: 0.5000\n",
            "Epoch 90, Test Accuracy: 0.5000\n",
            "Epoch 90, Test Accuracy: 0.5000\n",
            "Epoch 90, Test Accuracy: 0.5000\n",
            "Epoch 90, Test Accuracy: 0.5000\n",
            "Epoch 90, Test Accuracy: 0.5000\n",
            "Epoch 90, Test Accuracy: 0.5000\n",
            "Epoch 90, Test Accuracy: 0.5000\n",
            "Epoch 90, Test Accuracy: 0.5000\n",
            "Epoch 100, Test Accuracy: 0.5000\n",
            "Epoch 100, Test Accuracy: 0.5000\n",
            "Epoch 100, Test Accuracy: 0.5000\n",
            "Epoch 100, Test Accuracy: 0.5000\n",
            "Epoch 100, Test Accuracy: 0.5000\n",
            "Epoch 100, Test Accuracy: 0.5000\n",
            "Epoch 100, Test Accuracy: 0.5000\n",
            "Epoch 100, Test Accuracy: 0.5000\n",
            "Epoch 100, Test Accuracy: 0.5000\n",
            "Epoch 100, Test Accuracy: 0.5000\n",
            "Epoch 100, Test Accuracy: 0.5000\n",
            "Epoch 100, Test Accuracy: 0.5000\n",
            "Epoch 100, Test Accuracy: 0.5000\n",
            "Epoch 100, Test Accuracy: 0.5000\n",
            "Epoch 100, Test Accuracy: 0.5000\n",
            "Epoch 100, Test Accuracy: 0.5000\n",
            "Epoch 100, Test Accuracy: 0.5000\n",
            "Epoch 100, Test Accuracy: 0.5000\n",
            "Epoch 100, Test Accuracy: 0.5000\n",
            "Epoch 100, Test Accuracy: 0.5000\n",
            "Epoch 100, Test Accuracy: 0.5000\n",
            "Epoch 100, Test Accuracy: 0.5000\n",
            "Epoch 110, Test Accuracy: 0.5000\n",
            "Epoch 110, Test Accuracy: 0.5000\n",
            "Epoch 110, Test Accuracy: 0.5000\n",
            "Epoch 110, Test Accuracy: 0.5000\n",
            "Epoch 110, Test Accuracy: 0.5000\n",
            "Epoch 110, Test Accuracy: 0.5000\n",
            "Epoch 110, Test Accuracy: 0.5000\n",
            "Epoch 110, Test Accuracy: 0.5000\n",
            "Epoch 110, Test Accuracy: 0.5000\n",
            "Epoch 110, Test Accuracy: 0.5000\n",
            "Epoch 110, Test Accuracy: 0.5000\n",
            "Epoch 110, Test Accuracy: 0.5000\n",
            "Epoch 110, Test Accuracy: 0.5000\n",
            "Epoch 110, Test Accuracy: 0.5000\n",
            "Epoch 110, Test Accuracy: 0.5000\n",
            "Epoch 110, Test Accuracy: 0.5000\n",
            "Epoch 110, Test Accuracy: 0.5000\n",
            "Epoch 110, Test Accuracy: 0.5000\n",
            "Epoch 110, Test Accuracy: 0.5000\n",
            "Epoch 110, Test Accuracy: 0.5000\n",
            "Epoch 110, Test Accuracy: 0.5000\n",
            "Epoch 110, Test Accuracy: 0.5000\n",
            "Epoch 120, Test Accuracy: 0.5000\n",
            "Epoch 120, Test Accuracy: 0.5000\n",
            "Epoch 120, Test Accuracy: 0.5000\n",
            "Epoch 120, Test Accuracy: 0.5000\n",
            "Epoch 120, Test Accuracy: 0.5000\n",
            "Epoch 120, Test Accuracy: 0.5000\n",
            "Epoch 120, Test Accuracy: 0.5000\n",
            "Epoch 120, Test Accuracy: 0.5000\n",
            "Epoch 120, Test Accuracy: 0.5000\n",
            "Epoch 120, Test Accuracy: 0.5000\n",
            "Epoch 120, Test Accuracy: 0.5000\n",
            "Epoch 120, Test Accuracy: 0.5000\n",
            "Epoch 120, Test Accuracy: 0.5000\n",
            "Epoch 120, Test Accuracy: 0.5000\n",
            "Epoch 120, Test Accuracy: 0.5000\n",
            "Epoch 120, Test Accuracy: 0.5000\n",
            "Epoch 120, Test Accuracy: 0.5000\n",
            "Epoch 120, Test Accuracy: 0.5000\n",
            "Epoch 120, Test Accuracy: 0.5000\n",
            "Epoch 120, Test Accuracy: 0.5000\n",
            "Epoch 120, Test Accuracy: 0.5000\n",
            "Epoch 120, Test Accuracy: 0.5000\n",
            "Epoch 130, Test Accuracy: 0.5000\n",
            "Epoch 130, Test Accuracy: 0.5000\n",
            "Epoch 130, Test Accuracy: 0.5000\n",
            "Epoch 130, Test Accuracy: 0.5000\n",
            "Epoch 130, Test Accuracy: 0.5000\n",
            "Epoch 130, Test Accuracy: 0.5000\n",
            "Epoch 130, Test Accuracy: 0.5000\n",
            "Epoch 130, Test Accuracy: 0.5000\n",
            "Epoch 130, Test Accuracy: 0.5000\n",
            "Epoch 130, Test Accuracy: 0.5000\n",
            "Epoch 130, Test Accuracy: 0.5000\n",
            "Epoch 130, Test Accuracy: 0.5000\n",
            "Epoch 130, Test Accuracy: 0.5000\n",
            "Epoch 130, Test Accuracy: 0.5000\n",
            "Epoch 130, Test Accuracy: 0.5000\n",
            "Epoch 130, Test Accuracy: 0.5000\n",
            "Epoch 130, Test Accuracy: 0.5000\n",
            "Epoch 130, Test Accuracy: 0.5000\n",
            "Epoch 130, Test Accuracy: 0.5000\n",
            "Epoch 130, Test Accuracy: 0.5000\n",
            "Epoch 130, Test Accuracy: 0.5000\n",
            "Epoch 130, Test Accuracy: 0.5000\n",
            "Epoch 140, Test Accuracy: 0.5000\n",
            "Epoch 140, Test Accuracy: 0.5000\n",
            "Epoch 140, Test Accuracy: 0.5000\n",
            "Epoch 140, Test Accuracy: 0.5000\n",
            "Epoch 140, Test Accuracy: 0.5000\n",
            "Epoch 140, Test Accuracy: 0.5000\n",
            "Epoch 140, Test Accuracy: 0.5000\n",
            "Epoch 140, Test Accuracy: 0.5000\n",
            "Epoch 140, Test Accuracy: 0.5000\n",
            "Epoch 140, Test Accuracy: 0.5000\n",
            "Epoch 140, Test Accuracy: 0.5000\n",
            "Epoch 140, Test Accuracy: 0.5000\n",
            "Epoch 140, Test Accuracy: 0.5000\n",
            "Epoch 140, Test Accuracy: 0.5000\n",
            "Epoch 140, Test Accuracy: 0.5000\n",
            "Epoch 140, Test Accuracy: 0.5000\n",
            "Epoch 140, Test Accuracy: 0.5000\n",
            "Epoch 140, Test Accuracy: 0.5000\n",
            "Epoch 140, Test Accuracy: 0.5000\n",
            "Epoch 140, Test Accuracy: 0.5000\n",
            "Epoch 140, Test Accuracy: 0.5000\n",
            "Epoch 140, Test Accuracy: 0.5000\n",
            "Epoch 150, Test Accuracy: 0.5000\n",
            "Epoch 150, Test Accuracy: 0.5000\n",
            "Epoch 150, Test Accuracy: 0.5000\n",
            "Epoch 150, Test Accuracy: 0.5000\n",
            "Epoch 150, Test Accuracy: 0.5000\n",
            "Epoch 150, Test Accuracy: 0.5000\n",
            "Epoch 150, Test Accuracy: 0.5000\n",
            "Epoch 150, Test Accuracy: 0.5000\n",
            "Epoch 150, Test Accuracy: 0.5000\n",
            "Epoch 150, Test Accuracy: 0.5000\n",
            "Epoch 150, Test Accuracy: 0.5000\n",
            "Epoch 150, Test Accuracy: 0.5000\n",
            "Epoch 150, Test Accuracy: 0.5000\n",
            "Epoch 150, Test Accuracy: 0.5000\n",
            "Epoch 150, Test Accuracy: 0.5000\n",
            "Epoch 150, Test Accuracy: 0.5000\n",
            "Epoch 150, Test Accuracy: 0.5000\n",
            "Epoch 150, Test Accuracy: 0.5000\n",
            "Epoch 150, Test Accuracy: 0.5000\n",
            "Epoch 150, Test Accuracy: 0.5000\n",
            "Epoch 150, Test Accuracy: 0.5000\n",
            "Epoch 150, Test Accuracy: 0.5000\n",
            "Epoch 160, Test Accuracy: 0.5000\n",
            "Epoch 160, Test Accuracy: 0.5000\n",
            "Epoch 160, Test Accuracy: 0.5000\n",
            "Epoch 160, Test Accuracy: 0.5000\n",
            "Epoch 160, Test Accuracy: 0.5000\n",
            "Epoch 160, Test Accuracy: 0.5000\n",
            "Epoch 160, Test Accuracy: 0.5000\n",
            "Epoch 160, Test Accuracy: 0.5000\n",
            "Epoch 160, Test Accuracy: 0.5000\n",
            "Epoch 160, Test Accuracy: 0.5000\n",
            "Epoch 160, Test Accuracy: 0.5000\n",
            "Epoch 160, Test Accuracy: 0.5000\n",
            "Epoch 160, Test Accuracy: 0.5000\n",
            "Epoch 160, Test Accuracy: 0.5000\n",
            "Epoch 160, Test Accuracy: 0.5000\n",
            "Epoch 160, Test Accuracy: 0.5000\n",
            "Epoch 160, Test Accuracy: 0.5000\n",
            "Epoch 160, Test Accuracy: 0.5000\n",
            "Epoch 160, Test Accuracy: 0.5000\n",
            "Epoch 160, Test Accuracy: 0.5000\n",
            "Epoch 160, Test Accuracy: 0.5000\n",
            "Epoch 160, Test Accuracy: 0.5000\n",
            "Epoch 170, Test Accuracy: 0.5000\n",
            "Epoch 170, Test Accuracy: 0.5000\n",
            "Epoch 170, Test Accuracy: 0.5000\n",
            "Epoch 170, Test Accuracy: 0.5000\n",
            "Epoch 170, Test Accuracy: 0.5000\n",
            "Epoch 170, Test Accuracy: 0.5000\n",
            "Epoch 170, Test Accuracy: 0.5000\n",
            "Epoch 170, Test Accuracy: 0.5000\n",
            "Epoch 170, Test Accuracy: 0.5000\n",
            "Epoch 170, Test Accuracy: 0.5000\n",
            "Epoch 170, Test Accuracy: 0.5000\n",
            "Epoch 170, Test Accuracy: 0.5000\n",
            "Epoch 170, Test Accuracy: 0.5000\n",
            "Epoch 170, Test Accuracy: 0.5000\n",
            "Epoch 170, Test Accuracy: 0.5000\n",
            "Epoch 170, Test Accuracy: 0.5000\n",
            "Epoch 170, Test Accuracy: 0.5000\n",
            "Epoch 170, Test Accuracy: 0.5000\n",
            "Epoch 170, Test Accuracy: 0.5000\n",
            "Epoch 170, Test Accuracy: 0.5000\n",
            "Epoch 170, Test Accuracy: 0.5000\n",
            "Epoch 170, Test Accuracy: 0.5000\n",
            "Epoch 180, Test Accuracy: 0.5000\n",
            "Epoch 180, Test Accuracy: 0.5000\n",
            "Epoch 180, Test Accuracy: 0.5000\n",
            "Epoch 180, Test Accuracy: 0.5000\n",
            "Epoch 180, Test Accuracy: 0.5000\n",
            "Epoch 180, Test Accuracy: 0.5000\n",
            "Epoch 180, Test Accuracy: 0.5000\n",
            "Epoch 180, Test Accuracy: 0.5000\n",
            "Epoch 180, Test Accuracy: 0.5000\n",
            "Epoch 180, Test Accuracy: 0.5000\n",
            "Epoch 180, Test Accuracy: 0.5000\n",
            "Epoch 180, Test Accuracy: 0.5000\n",
            "Epoch 180, Test Accuracy: 0.5000\n",
            "Epoch 180, Test Accuracy: 0.5000\n",
            "Epoch 180, Test Accuracy: 0.5000\n",
            "Epoch 180, Test Accuracy: 0.5000\n",
            "Epoch 180, Test Accuracy: 0.5000\n",
            "Epoch 180, Test Accuracy: 0.5000\n",
            "Epoch 180, Test Accuracy: 0.5000\n",
            "Epoch 180, Test Accuracy: 0.5000\n",
            "Epoch 180, Test Accuracy: 0.5000\n",
            "Epoch 180, Test Accuracy: 0.5000\n",
            "Epoch 190, Test Accuracy: 0.5000\n",
            "Epoch 190, Test Accuracy: 0.5000\n",
            "Epoch 190, Test Accuracy: 0.5000\n",
            "Epoch 190, Test Accuracy: 0.5000\n",
            "Epoch 190, Test Accuracy: 0.5000\n",
            "Epoch 190, Test Accuracy: 0.5000\n",
            "Epoch 190, Test Accuracy: 0.5000\n",
            "Epoch 190, Test Accuracy: 0.5000\n",
            "Epoch 190, Test Accuracy: 0.5000\n",
            "Epoch 190, Test Accuracy: 0.5000\n",
            "Epoch 190, Test Accuracy: 0.5000\n",
            "Epoch 190, Test Accuracy: 0.5000\n",
            "Epoch 190, Test Accuracy: 0.5000\n",
            "Epoch 190, Test Accuracy: 0.5000\n",
            "Epoch 190, Test Accuracy: 0.5000\n",
            "Epoch 190, Test Accuracy: 0.5000\n",
            "Epoch 190, Test Accuracy: 0.5000\n",
            "Epoch 190, Test Accuracy: 0.5000\n",
            "Epoch 190, Test Accuracy: 0.5000\n",
            "Epoch 190, Test Accuracy: 0.5000\n",
            "Epoch 190, Test Accuracy: 0.5000\n",
            "Epoch 190, Test Accuracy: 0.5000\n",
            "Epoch 200, Test Accuracy: 0.5000\n",
            "Epoch 200, Test Accuracy: 0.5000\n",
            "Epoch 200, Test Accuracy: 0.5000\n",
            "Epoch 200, Test Accuracy: 0.5000\n",
            "Epoch 200, Test Accuracy: 0.5000\n",
            "Epoch 200, Test Accuracy: 0.5000\n",
            "Epoch 200, Test Accuracy: 0.5000\n",
            "Epoch 200, Test Accuracy: 0.5000\n",
            "Epoch 200, Test Accuracy: 0.5000\n",
            "Epoch 200, Test Accuracy: 0.5000\n",
            "Epoch 200, Test Accuracy: 0.5000\n",
            "Epoch 200, Test Accuracy: 0.5000\n",
            "Epoch 200, Test Accuracy: 0.5000\n",
            "Epoch 200, Test Accuracy: 0.5000\n",
            "Epoch 200, Test Accuracy: 0.5000\n",
            "Epoch 200, Test Accuracy: 0.5000\n",
            "Epoch 200, Test Accuracy: 0.5000\n",
            "Epoch 200, Test Accuracy: 0.5000\n",
            "Epoch 200, Test Accuracy: 0.5000\n",
            "Epoch 200, Test Accuracy: 0.5000\n",
            "Epoch 200, Test Accuracy: 0.5000\n",
            "Epoch 200, Test Accuracy: 0.5000\n"
          ]
        },
        {
          "output_type": "display_data",
          "data": {
            "text/plain": [
              "<Figure size 1000x500 with 2 Axes>"
            ],
            "image/png": "[encoded data removed]"
          },
          "metadata": {}
        }
      ]
    }
  ]
}