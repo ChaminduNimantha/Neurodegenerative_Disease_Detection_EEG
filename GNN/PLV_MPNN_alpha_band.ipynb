{
  "nbformat": 4,
  "nbformat_minor": 0,
  "metadata": {
    "colab": {
      "provenance": []
    },
    "kernelspec": {
      "name": "python3",
      "display_name": "Python 3"
    },
    "language_info": {
      "name": "python"
    }
  },
  "cells": [
    {
      "cell_type": "markdown",
      "source": [
        "Install Required Libraries\n",
        "\n",
        "PyTorch: Deep learning framework.\n",
        "Torch-Geometric: A library for machine learning on graph-structured data.\n",
        "SciPy: Used for scientific and technical computing, and necessary for loading our data."
      ],
      "metadata": {
        "id": "2OH5ypvD5Roj"
      }
    },
    {
      "cell_type": "code",
      "source": [
        "!pip install torch torch-geometric\n",
        "!pip install scipy"
      ],
      "metadata": {
        "colab": {
          "base_uri": "https://localhost:8080/"
        },
        "collapsed": true,
        "id": "Zz7kUM7E5Q77",
        "outputId": "42218159-0b5d-4ac1-9534-9cfce81b592b"
      },
      "execution_count": null,
      "outputs": [
        {
          "output_type": "stream",
          "name": "stdout",
          "text": [
            "Requirement already satisfied: torch in /usr/local/lib/python3.10/dist-packages (2.3.0+cu121)\n",
            "Collecting torch-geometric\n",
            "  Downloading torch_geometric-2.5.3-py3-none-any.whl (1.1 MB)\n",
            "\u001b[2K     \u001b[90m━━━━━━━━━━━━━━━━━━━━━━━━━━━━━━━━━━━━━━━━\u001b[0m \u001b[32m1.1/1.1 MB\u001b[0m \u001b[31m14.6 MB/s\u001b[0m eta \u001b[36m0:00:00\u001b[0m\n",
            "\u001b[?25hRequirement already satisfied: filelock in /usr/local/lib/python3.10/dist-packages (from torch) (3.14.0)\n",
            "Requirement already satisfied: typing-extensions>=4.8.0 in /usr/local/lib/python3.10/dist-packages (from torch) (4.12.2)\n",
            "Requirement already satisfied: sympy in /usr/local/lib/python3.10/dist-packages (from torch) (1.12.1)\n",
            "Requirement already satisfied: networkx in /usr/local/lib/python3.10/dist-packages (from torch) (3.3)\n",
            "Requirement already satisfied: jinja2 in /usr/local/lib/python3.10/dist-packages (from torch) (3.1.4)\n",
            "Requirement already satisfied: fsspec in /usr/local/lib/python3.10/dist-packages (from torch) (2023.6.0)\n",
            "Collecting nvidia-cuda-nvrtc-cu12==12.1.105 (from torch)\n",
            "  Using cached nvidia_cuda_nvrtc_cu12-12.1.105-py3-none-manylinux1_x86_64.whl (23.7 MB)\n",
            "Collecting nvidia-cuda-runtime-cu12==12.1.105 (from torch)\n",
            "  Using cached nvidia_cuda_runtime_cu12-12.1.105-py3-none-manylinux1_x86_64.whl (823 kB)\n",
            "Collecting nvidia-cuda-cupti-cu12==12.1.105 (from torch)\n",
            "  Using cached nvidia_cuda_cupti_cu12-12.1.105-py3-none-manylinux1_x86_64.whl (14.1 MB)\n",
            "Collecting nvidia-cudnn-cu12==8.9.2.26 (from torch)\n",
            "  Using cached nvidia_cudnn_cu12-8.9.2.26-py3-none-manylinux1_x86_64.whl (731.7 MB)\n",
            "Collecting nvidia-cublas-cu12==12.1.3.1 (from torch)\n",
            "  Using cached nvidia_cublas_cu12-12.1.3.1-py3-none-manylinux1_x86_64.whl (410.6 MB)\n",
            "Collecting nvidia-cufft-cu12==11.0.2.54 (from torch)\n",
            "  Using cached nvidia_cufft_cu12-11.0.2.54-py3-none-manylinux1_x86_64.whl (121.6 MB)\n",
            "Collecting nvidia-curand-cu12==10.3.2.106 (from torch)\n",
            "  Using cached nvidia_curand_cu12-10.3.2.106-py3-none-manylinux1_x86_64.whl (56.5 MB)\n",
            "Collecting nvidia-cusolver-cu12==11.4.5.107 (from torch)\n",
            "  Using cached nvidia_cusolver_cu12-11.4.5.107-py3-none-manylinux1_x86_64.whl (124.2 MB)\n",
            "Collecting nvidia-cusparse-cu12==12.1.0.106 (from torch)\n",
            "  Using cached nvidia_cusparse_cu12-12.1.0.106-py3-none-manylinux1_x86_64.whl (196.0 MB)\n",
            "Collecting nvidia-nccl-cu12==2.20.5 (from torch)\n",
            "  Using cached nvidia_nccl_cu12-2.20.5-py3-none-manylinux2014_x86_64.whl (176.2 MB)\n",
            "Collecting nvidia-nvtx-cu12==12.1.105 (from torch)\n",
            "  Using cached nvidia_nvtx_cu12-12.1.105-py3-none-manylinux1_x86_64.whl (99 kB)\n",
            "Requirement already satisfied: triton==2.3.0 in /usr/local/lib/python3.10/dist-packages (from torch) (2.3.0)\n",
            "Collecting nvidia-nvjitlink-cu12 (from nvidia-cusolver-cu12==11.4.5.107->torch)\n",
            "  Downloading nvidia_nvjitlink_cu12-12.5.40-py3-none-manylinux2014_x86_64.whl (21.3 MB)\n",
            "\u001b[2K     \u001b[90m━━━━━━━━━━━━━━━━━━━━━━━━━━━━━━━━━━━━━━━━\u001b[0m \u001b[32m21.3/21.3 MB\u001b[0m \u001b[31m44.0 MB/s\u001b[0m eta \u001b[36m0:00:00\u001b[0m\n",
            "\u001b[?25hRequirement already satisfied: tqdm in /usr/local/lib/python3.10/dist-packages (from torch-geometric) (4.66.4)\n",
            "Requirement already satisfied: numpy in /usr/local/lib/python3.10/dist-packages (from torch-geometric) (1.25.2)\n",
            "Requirement already satisfied: scipy in /usr/local/lib/python3.10/dist-packages (from torch-geometric) (1.11.4)\n",
            "Requirement already satisfied: aiohttp in /usr/local/lib/python3.10/dist-packages (from torch-geometric) (3.9.5)\n",
            "Requirement already satisfied: requests in /usr/local/lib/python3.10/dist-packages (from torch-geometric) (2.31.0)\n",
            "Requirement already satisfied: pyparsing in /usr/local/lib/python3.10/dist-packages (from torch-geometric) (3.1.2)\n",
            "Requirement already satisfied: scikit-learn in /usr/local/lib/python3.10/dist-packages (from torch-geometric) (1.2.2)\n",
            "Requirement already satisfied: psutil>=5.8.0 in /usr/local/lib/python3.10/dist-packages (from torch-geometric) (5.9.5)\n",
            "Requirement already satisfied: aiosignal>=1.1.2 in /usr/local/lib/python3.10/dist-packages (from aiohttp->torch-geometric) (1.3.1)\n",
            "Requirement already satisfied: attrs>=17.3.0 in /usr/local/lib/python3.10/dist-packages (from aiohttp->torch-geometric) (23.2.0)\n",
            "Requirement already satisfied: frozenlist>=1.1.1 in /usr/local/lib/python3.10/dist-packages (from aiohttp->torch-geometric) (1.4.1)\n",
            "Requirement already satisfied: multidict<7.0,>=4.5 in /usr/local/lib/python3.10/dist-packages (from aiohttp->torch-geometric) (6.0.5)\n",
            "Requirement already satisfied: yarl<2.0,>=1.0 in /usr/local/lib/python3.10/dist-packages (from aiohttp->torch-geometric) (1.9.4)\n",
            "Requirement already satisfied: async-timeout<5.0,>=4.0 in /usr/local/lib/python3.10/dist-packages (from aiohttp->torch-geometric) (4.0.3)\n",
            "Requirement already satisfied: MarkupSafe>=2.0 in /usr/local/lib/python3.10/dist-packages (from jinja2->torch) (2.1.5)\n",
            "Requirement already satisfied: charset-normalizer<4,>=2 in /usr/local/lib/python3.10/dist-packages (from requests->torch-geometric) (3.3.2)\n",
            "Requirement already satisfied: idna<4,>=2.5 in /usr/local/lib/python3.10/dist-packages (from requests->torch-geometric) (3.7)\n",
            "Requirement already satisfied: urllib3<3,>=1.21.1 in /usr/local/lib/python3.10/dist-packages (from requests->torch-geometric) (2.0.7)\n",
            "Requirement already satisfied: certifi>=2017.4.17 in /usr/local/lib/python3.10/dist-packages (from requests->torch-geometric) (2024.6.2)\n",
            "Requirement already satisfied: joblib>=1.1.1 in /usr/local/lib/python3.10/dist-packages (from scikit-learn->torch-geometric) (1.4.2)\n",
            "Requirement already satisfied: threadpoolctl>=2.0.0 in /usr/local/lib/python3.10/dist-packages (from scikit-learn->torch-geometric) (3.5.0)\n",
            "Requirement already satisfied: mpmath<1.4.0,>=1.1.0 in /usr/local/lib/python3.10/dist-packages (from sympy->torch) (1.3.0)\n",
            "Installing collected packages: nvidia-nvtx-cu12, nvidia-nvjitlink-cu12, nvidia-nccl-cu12, nvidia-curand-cu12, nvidia-cufft-cu12, nvidia-cuda-runtime-cu12, nvidia-cuda-nvrtc-cu12, nvidia-cuda-cupti-cu12, nvidia-cublas-cu12, nvidia-cusparse-cu12, nvidia-cudnn-cu12, torch-geometric, nvidia-cusolver-cu12\n",
            "Successfully installed nvidia-cublas-cu12-12.1.3.1 nvidia-cuda-cupti-cu12-12.1.105 nvidia-cuda-nvrtc-cu12-12.1.105 nvidia-cuda-runtime-cu12-12.1.105 nvidia-cudnn-cu12-8.9.2.26 nvidia-cufft-cu12-11.0.2.54 nvidia-curand-cu12-10.3.2.106 nvidia-cusolver-cu12-11.4.5.107 nvidia-cusparse-cu12-12.1.0.106 nvidia-nccl-cu12-2.20.5 nvidia-nvjitlink-cu12-12.5.40 nvidia-nvtx-cu12-12.1.105 torch-geometric-2.5.3\n",
            "Requirement already satisfied: scipy in /usr/local/lib/python3.10/dist-packages (1.11.4)\n",
            "Requirement already satisfied: numpy<1.28.0,>=1.21.6 in /usr/local/lib/python3.10/dist-packages (from scipy) (1.25.2)\n"
          ]
        }
      ]
    },
    {
      "cell_type": "markdown",
      "source": [
        "Mount Google Drive into the Colab Interface"
      ],
      "metadata": {
        "id": "LZZFs5Lg5gMS"
      }
    },
    {
      "cell_type": "code",
      "execution_count": null,
      "metadata": {
        "colab": {
          "base_uri": "https://localhost:8080/"
        },
        "id": "4_VxbGPF5DSk",
        "outputId": "f9e1ad64-e4e7-4758-8d23-b37e8ee22a25"
      },
      "outputs": [
        {
          "output_type": "stream",
          "name": "stdout",
          "text": [
            "Mounted at /content/drive\n"
          ]
        }
      ],
      "source": [
        "from google.colab import drive\n",
        "drive.mount('/content/drive')"
      ]
    },
    {
      "cell_type": "markdown",
      "source": [
        "Optional :- to see whether the required drive contents are available"
      ],
      "metadata": {
        "id": "V7_x34HuAI7M"
      }
    },
    {
      "cell_type": "code",
      "source": [
        "!ls /content/drive/MyDrive/GNN_Approach/Data_files/"
      ],
      "metadata": {
        "colab": {
          "base_uri": "https://localhost:8080/"
        },
        "id": "2PzOzOnKALjj",
        "outputId": "1db84d58-29db-4143-a14c-b336b828ff11"
      },
      "execution_count": null,
      "outputs": [
        {
          "output_type": "stream",
          "name": "stdout",
          "text": [
            "Coherence.mat  PLV.mat\n"
          ]
        }
      ]
    },
    {
      "cell_type": "markdown",
      "source": [
        "GCNConv: convolutional layer for graph data.\n",
        "global_mean_pool: pooling layer that computes the mean of node features across the graph.\n",
        "Data: class used to create graph data objects. DataLoader: class used to load graph data in batches.\n",
        "NumPy library for numerical computing in Python.\n",
        "scikit-learn : Provides utilities for machine learning"
      ],
      "metadata": {
        "id": "kOkWR3qQAN4K"
      }
    },
    {
      "cell_type": "code",
      "source": [
        "import torch\n",
        "import torch.nn.functional as F\n",
        "from torch_geometric.nn import GCNConv, global_mean_pool\n",
        "from torch_geometric.data import Data\n",
        "from torch_geometric.loader import DataLoader\n",
        "import numpy as np\n",
        "import scipy.io\n",
        "from sklearn.model_selection import train_test_split\n",
        "import matplotlib.pyplot as plt\n"
      ],
      "metadata": {
        "id": "6-Zdvx-YAQnb"
      },
      "execution_count": null,
      "outputs": []
    },
    {
      "cell_type": "markdown",
      "source": [
        "Load the Coherance data from .mat file\n",
        "\n",
        "The brain connectivity data matrix is loaded to the colab interface"
      ],
      "metadata": {
        "id": "7WU-sx-sAVf8"
      }
    },
    {
      "cell_type": "code",
      "source": [
        "# Define the path to your .mat file\n",
        "mat_file_path = '/content/drive/MyDrive/GNN_Approach/Data_files/PLV.mat'\n",
        "\n",
        "# Load the .mat file\n",
        "mat = scipy.io.loadmat(mat_file_path)\n",
        "\n",
        "# Access the PLV data\n",
        "PLV_data = mat['PLV'][0, 0]"
      ],
      "metadata": {
        "id": "t9TNShvAAYYq"
      },
      "execution_count": null,
      "outputs": []
    },
    {
      "cell_type": "markdown",
      "source": [
        "Optional :- To visualize the data in coherance.mat struct"
      ],
      "metadata": {
        "id": "tI25uxkaAfIr"
      }
    },
    {
      "cell_type": "code",
      "source": [
        "print(coherence_data)"
      ],
      "metadata": {
        "colab": {
          "base_uri": "https://localhost:8080/"
        },
        "collapsed": true,
        "id": "r53wFjl2AjyM",
        "outputId": "4c1cb1f4-c21b-432c-dd49-23c86e68a34d"
      },
      "execution_count": null,
      "outputs": [
        {
          "output_type": "stream",
          "name": "stdout",
          "text": [
            "(array([[[1.       , 1.       , 1.       , ..., 1.       , 1.       ,\n",
            "         1.       ],\n",
            "        [1.       , 1.       , 1.       , ..., 1.       , 1.       ,\n",
            "         1.       ],\n",
            "        [1.       , 1.       , 1.       , ..., 1.       , 1.       ,\n",
            "         1.       ],\n",
            "        [1.       , 1.       , 1.       , ..., 1.       , 1.       ,\n",
            "         1.       ],\n",
            "        [1.       , 1.       , 1.       , ..., 1.       , 1.       ,\n",
            "         1.       ]],\n",
            "\n",
            "       [[0.045302 , 0.018553 , 0.0067204, ..., 0.019476 , 0.0046354,\n",
            "         0.050195 ],\n",
            "        [0.19019  , 0.029937 , 0.068315 , ..., 0.24841  , 0.079368 ,\n",
            "         0.037184 ],\n",
            "        [0.37098  , 0.032771 , 0.040591 , ..., 0.12305  , 0.13582  ,\n",
            "         0.016301 ],\n",
            "        [0.26684  , 0.019146 , 0.03734  , ..., 0.091717 , 0.12578  ,\n",
            "         0.007978 ],\n",
            "        [0.21679  , 0.036511 , 0.022681 , ..., 0.049675 , 0.074151 ,\n",
            "         0.018815 ]],\n",
            "\n",
            "       [[1.       , 1.       , 1.       , ..., 1.       , 1.       ,\n",
            "         1.       ],\n",
            "        [1.       , 1.       , 1.       , ..., 1.       , 1.       ,\n",
            "         1.       ],\n",
            "        [1.       , 1.       , 1.       , ..., 1.       , 1.       ,\n",
            "         1.       ],\n",
            "        [1.       , 1.       , 1.       , ..., 1.       , 1.       ,\n",
            "         1.       ],\n",
            "        [1.       , 1.       , 1.       , ..., 1.       , 1.       ,\n",
            "         1.       ]],\n",
            "\n",
            "       ...,\n",
            "\n",
            "       [[0.013273 , 0.54075  , 0.19753  , ..., 0.11305  , 0.57058  ,\n",
            "         0.27405  ],\n",
            "        [0.028501 , 0.58315  , 0.2544   , ..., 0.59671  , 0.56031  ,\n",
            "         0.31608  ],\n",
            "        [0.048708 , 0.58642  , 0.27043  , ..., 0.48692  , 0.66163  ,\n",
            "         0.27185  ],\n",
            "        [0.054026 , 0.383    , 0.19396  , ..., 0.2045   , 0.75305  ,\n",
            "         0.19273  ],\n",
            "        [0.035369 , 0.58555  , 0.339    , ..., 0.30483  , 0.80269  ,\n",
            "         0.25913  ]],\n",
            "\n",
            "       [[0.10332  , 0.14126  , 0.17234  , ..., 0.020785 , 0.028325 ,\n",
            "         0.044126 ],\n",
            "        [0.17637  , 0.16564  , 0.29842  , ..., 0.055514 , 0.036662 ,\n",
            "         0.028671 ],\n",
            "        [0.030346 , 0.20905  , 0.13631  , ..., 0.031969 , 0.040996 ,\n",
            "         0.019464 ],\n",
            "        [0.0092919, 0.12183  , 0.0071251, ..., 0.0040313, 0.0022311,\n",
            "         0.0025747],\n",
            "        [0.0090891, 0.15108  , 0.011652 , ..., 0.0099666, 0.0046541,\n",
            "         0.0034092]],\n",
            "\n",
            "       [[1.       , 1.       , 1.       , ..., 1.       , 1.       ,\n",
            "         1.       ],\n",
            "        [1.       , 1.       , 1.       , ..., 1.       , 1.       ,\n",
            "         1.       ],\n",
            "        [1.       , 1.       , 1.       , ..., 1.       , 1.       ,\n",
            "         1.       ],\n",
            "        [1.       , 1.       , 1.       , ..., 1.       , 1.       ,\n",
            "         1.       ],\n",
            "        [1.       , 1.       , 1.       , ..., 1.       , 1.       ,\n",
            "         1.       ]]]), array([[[1.       , 1.       , 1.       , ..., 1.       , 1.       ,\n",
            "         1.       ],\n",
            "        [1.       , 1.       , 1.       , ..., 1.       , 1.       ,\n",
            "         1.       ],\n",
            "        [1.       , 1.       , 1.       , ..., 1.       , 1.       ,\n",
            "         1.       ],\n",
            "        [1.       , 1.       , 1.       , ..., 1.       , 1.       ,\n",
            "         1.       ],\n",
            "        [1.       , 1.       , 1.       , ..., 1.       , 1.       ,\n",
            "         1.       ]],\n",
            "\n",
            "       [[0.0064655, 0.038783 , 0.015197 , ..., 0.0095   , 0.0099639,\n",
            "         0.0057679],\n",
            "        [0.064825 , 0.060179 , 0.081061 , ..., 0.024352 , 0.031631 ,\n",
            "         0.022943 ],\n",
            "        [0.052866 , 0.08908  , 0.064763 , ..., 0.054222 , 0.09031  ,\n",
            "         0.049702 ],\n",
            "        [0.027291 , 0.071079 , 0.016847 , ..., 0.030305 , 0.035378 ,\n",
            "         0.033244 ],\n",
            "        [0.0079167, 0.038706 , 0.0037379, ..., 0.038896 , 0.025074 ,\n",
            "         0.026172 ]],\n",
            "\n",
            "       [[1.       , 1.       , 1.       , ..., 1.       , 1.       ,\n",
            "         1.       ],\n",
            "        [1.       , 1.       , 1.       , ..., 1.       , 1.       ,\n",
            "         1.       ],\n",
            "        [1.       , 1.       , 1.       , ..., 1.       , 1.       ,\n",
            "         1.       ],\n",
            "        [1.       , 1.       , 1.       , ..., 1.       , 1.       ,\n",
            "         1.       ],\n",
            "        [1.       , 1.       , 1.       , ..., 1.       , 1.       ,\n",
            "         1.       ]],\n",
            "\n",
            "       ...,\n",
            "\n",
            "       [[0.27491  , 0.5065   , 0.31444  , ..., 0.16203  , 0.63089  ,\n",
            "         0.41932  ],\n",
            "        [0.52236  , 0.5278   , 0.4499   , ..., 0.35938  , 0.61039  ,\n",
            "         0.48956  ],\n",
            "        [0.49586  , 0.64317  , 0.48151  , ..., 0.66508  , 0.63608  ,\n",
            "         0.71651  ],\n",
            "        [0.30672  , 0.36248  , 0.39906  , ..., 0.52234  , 0.61213  ,\n",
            "         0.70731  ],\n",
            "        [0.49542  , 0.60515  , 0.57968  , ..., 0.62756  , 0.62668  ,\n",
            "         0.79689  ]],\n",
            "\n",
            "       [[0.0057032, 0.025649 , 0.039177 , ..., 0.064384 , 0.22189  ,\n",
            "         0.12517  ],\n",
            "        [0.081837 , 0.10469  , 0.095491 , ..., 0.087032 , 0.083833 ,\n",
            "         0.14833  ],\n",
            "        [0.12828  , 0.31383  , 0.16388  , ..., 0.18263  , 0.11367  ,\n",
            "         0.25272  ],\n",
            "        [0.014999 , 0.007581 , 0.016576 , ..., 0.00666  , 0.013748 ,\n",
            "         0.030867 ],\n",
            "        [0.0089861, 0.013265 , 0.027768 , ..., 0.0029045, 0.15321  ,\n",
            "         0.017172 ]],\n",
            "\n",
            "       [[1.       , 1.       , 1.       , ..., 1.       , 1.       ,\n",
            "         1.       ],\n",
            "        [1.       , 1.       , 1.       , ..., 1.       , 1.       ,\n",
            "         1.       ],\n",
            "        [1.       , 1.       , 1.       , ..., 1.       , 1.       ,\n",
            "         1.       ],\n",
            "        [1.       , 1.       , 1.       , ..., 1.       , 1.       ,\n",
            "         1.       ],\n",
            "        [1.       , 1.       , 1.       , ..., 1.       , 1.       ,\n",
            "         1.       ]]]), array([[[1.       , 1.       , 1.       , ..., 1.       , 1.       ,\n",
            "         1.       ],\n",
            "        [1.       , 1.       , 1.       , ..., 1.       , 1.       ,\n",
            "         1.       ],\n",
            "        [1.       , 1.       , 1.       , ..., 1.       , 1.       ,\n",
            "         1.       ],\n",
            "        [1.       , 1.       , 1.       , ..., 1.       , 1.       ,\n",
            "         1.       ],\n",
            "        [1.       , 1.       , 1.       , ..., 1.       , 1.       ,\n",
            "         1.       ]],\n",
            "\n",
            "       [[0.017369 , 0.062365 , 0.028775 , ..., 0.043877 , 0.0020666,\n",
            "         0.017157 ],\n",
            "        [0.10514  , 0.024432 , 0.042654 , ..., 0.017765 , 0.0014198,\n",
            "         0.022044 ],\n",
            "        [0.048615 , 0.027846 , 0.030534 , ..., 0.039224 , 0.022005 ,\n",
            "         0.020596 ],\n",
            "        [0.097694 , 0.034615 , 0.048585 , ..., 0.019125 , 0.022169 ,\n",
            "         0.013099 ],\n",
            "        [0.0822   , 0.035915 , 0.027616 , ..., 0.018653 , 0.041958 ,\n",
            "         0.022028 ]],\n",
            "\n",
            "       [[1.       , 1.       , 1.       , ..., 1.       , 1.       ,\n",
            "         1.       ],\n",
            "        [1.       , 1.       , 1.       , ..., 1.       , 1.       ,\n",
            "         1.       ],\n",
            "        [1.       , 1.       , 1.       , ..., 1.       , 1.       ,\n",
            "         1.       ],\n",
            "        [1.       , 1.       , 1.       , ..., 1.       , 1.       ,\n",
            "         1.       ],\n",
            "        [1.       , 1.       , 1.       , ..., 1.       , 1.       ,\n",
            "         1.       ]],\n",
            "\n",
            "       ...,\n",
            "\n",
            "       [[0.27302  , 0.010726 , 0.37231  , ..., 0.018466 , 0.24655  ,\n",
            "         0.090805 ],\n",
            "        [0.21951  , 0.14134  , 0.42188  , ..., 0.12713  , 0.34379  ,\n",
            "         0.052342 ],\n",
            "        [0.21994  , 0.45263  , 0.46879  , ..., 0.47773  , 0.53553  ,\n",
            "         0.23048  ],\n",
            "        [0.16914  , 0.76982  , 0.34545  , ..., 0.64786  , 0.27495  ,\n",
            "         0.15996  ],\n",
            "        [0.16951  , 0.83835  , 0.49663  , ..., 0.60366  , 0.50309  ,\n",
            "         0.55556  ]],\n",
            "\n",
            "       [[0.082744 , 0.05182  , 0.023218 , ..., 0.035943 , 0.12353  ,\n",
            "         0.14363  ],\n",
            "        [0.031556 , 0.054333 , 0.082514 , ..., 0.060572 , 0.16681  ,\n",
            "         0.20582  ],\n",
            "        [0.024071 , 0.047034 , 0.25647  , ..., 0.060738 , 0.17029  ,\n",
            "         0.15499  ],\n",
            "        [0.020514 , 0.0037207, 0.0084431, ..., 0.027181 , 0.014342 ,\n",
            "         0.02807  ],\n",
            "        [0.01831  , 0.0027147, 0.011064 , ..., 0.0038902, 0.012232 ,\n",
            "         0.0056814]],\n",
            "\n",
            "       [[1.       , 1.       , 1.       , ..., 1.       , 1.       ,\n",
            "         1.       ],\n",
            "        [1.       , 1.       , 1.       , ..., 1.       , 1.       ,\n",
            "         1.       ],\n",
            "        [1.       , 1.       , 1.       , ..., 1.       , 1.       ,\n",
            "         1.       ],\n",
            "        [1.       , 1.       , 1.       , ..., 1.       , 1.       ,\n",
            "         1.       ],\n",
            "        [1.       , 1.       , 1.       , ..., 1.       , 1.       ,\n",
            "         1.       ]]]), array([[[1.        , 1.        , 1.        ],\n",
            "        [1.        , 1.        , 1.        ],\n",
            "        [1.        , 1.        , 1.        ],\n",
            "        [1.        , 1.        , 1.        ],\n",
            "        [1.        , 1.        , 1.        ]],\n",
            "\n",
            "       [[0.04342984, 0.0286169 , 0.03461421],\n",
            "        [0.05735789, 0.06647804, 0.0970485 ],\n",
            "        [0.08513617, 0.06576513, 0.07329084],\n",
            "        [0.04891959, 0.05066761, 0.04651357],\n",
            "        [0.03691947, 0.04201512, 0.0454775 ]],\n",
            "\n",
            "       [[1.        , 1.        , 1.        ],\n",
            "        [1.        , 1.        , 1.        ],\n",
            "        [1.        , 1.        , 1.        ],\n",
            "        [1.        , 1.        , 1.        ],\n",
            "        [1.        , 1.        , 1.        ]],\n",
            "\n",
            "       ...,\n",
            "\n",
            "       [[0.3635371 , 0.30525248, 0.34804214],\n",
            "        [0.45269766, 0.39071709, 0.44364503],\n",
            "        [0.55240148, 0.47972248, 0.47446686],\n",
            "        [0.42797231, 0.3904543 , 0.41476522],\n",
            "        [0.49135456, 0.48216495, 0.50639236]],\n",
            "\n",
            "       [[0.11629576, 0.08153161, 0.10402231],\n",
            "        [0.13847217, 0.11439778, 0.11256172],\n",
            "        [0.2022329 , 0.12677576, 0.11232287],\n",
            "        [0.02615383, 0.01479873, 0.03037674],\n",
            "        [0.02437693, 0.0116684 , 0.03775378]],\n",
            "\n",
            "       [[1.        , 1.        , 1.        ],\n",
            "        [1.        , 1.        , 1.        ],\n",
            "        [1.        , 1.        , 1.        ],\n",
            "        [1.        , 1.        , 1.        ],\n",
            "        [1.        , 1.        , 1.        ]]]), array([[array(['Healthy Controls'], dtype='<U16'),\n",
            "        array(['FTD Patients'], dtype='<U12'),\n",
            "        array(['AD Patients'], dtype='<U11')]], dtype=object), array([[array(['Band 1'], dtype='<U6'), array(['Band 2'], dtype='<U6'),\n",
            "        array(['Band 3'], dtype='<U6'), array(['Band 4'], dtype='<U6'),\n",
            "        array(['Band 5'], dtype='<U6')]], dtype=object), array([[[0.        , 0.        , 0.        ],\n",
            "        [0.        , 0.        , 0.        ],\n",
            "        [0.        , 0.        , 0.        ],\n",
            "        [0.        , 0.        , 0.        ],\n",
            "        [0.        , 0.        , 0.        ]],\n",
            "\n",
            "       [[0.01026633, 0.00480351, 0.00495718],\n",
            "        [0.00997355, 0.01278811, 0.0151266 ],\n",
            "        [0.00968642, 0.01548264, 0.01121883],\n",
            "        [0.00665643, 0.01411068, 0.00866888],\n",
            "        [0.00688777, 0.0105131 , 0.00806209]],\n",
            "\n",
            "       [[0.        , 0.        , 0.        ],\n",
            "        [0.        , 0.        , 0.        ],\n",
            "        [0.        , 0.        , 0.        ],\n",
            "        [0.        , 0.        , 0.        ],\n",
            "        [0.        , 0.        , 0.        ]],\n",
            "\n",
            "       ...,\n",
            "\n",
            "       [[0.03272546, 0.04266569, 0.03559594],\n",
            "        [0.03348591, 0.04511219, 0.03390608],\n",
            "        [0.03356712, 0.03917835, 0.03761944],\n",
            "        [0.03456234, 0.04419671, 0.043915  ],\n",
            "        [0.03940044, 0.05185457, 0.04293036]],\n",
            "\n",
            "       [[0.02039585, 0.0196927 , 0.01374712],\n",
            "        [0.01548638, 0.01625142, 0.01311728],\n",
            "        [0.0218908 , 0.02220275, 0.01666714],\n",
            "        [0.00481194, 0.00246415, 0.00661075],\n",
            "        [0.00727495, 0.00333176, 0.01158112]],\n",
            "\n",
            "       [[0.        , 0.        , 0.        ],\n",
            "        [0.        , 0.        , 0.        ],\n",
            "        [0.        , 0.        , 0.        ],\n",
            "        [0.        , 0.        , 0.        ],\n",
            "        [0.        , 0.        , 0.        ]]]), array([[array(['1-(1) bankssts L - (1) bankssts L'], dtype='<U33'),\n",
            "        array(['2-(1) bankssts L - (2) bankssts R'], dtype='<U33'),\n",
            "        array(['3-(2) bankssts R - (2) bankssts R'], dtype='<U33'), ...,\n",
            "        array(['2344-(66) temporalpole R - (68) transversetemporal R'],\n",
            "              dtype='<U52')                                            ,\n",
            "        array(['2345-(67) transversetemporal L - (68) transversetemporal R'],\n",
            "              dtype='<U58')                                                  ,\n",
            "        array(['2346-(68) transversetemporal R - (68) transversetemporal R'],\n",
            "              dtype='<U58')                                                  ]],\n",
            "      dtype=object), array([[array(['1 Delta Band: < 4Hz'], dtype='<U19'),\n",
            "        array(['2 Theta Band: 4 to 7Hz'], dtype='<U22'),\n",
            "        array(['3 Alpha Band: 8Hz to 12Hz'], dtype='<U25'),\n",
            "        array(['4 Beta Band: 13Hz to 30Hz'], dtype='<U25'),\n",
            "        array(['5 Gamma1 Band: 30Hz <'], dtype='<U21')]], dtype=object), array([[array(['AZ'], dtype='<U2'), array(['FTD'], dtype='<U3'),\n",
            "        array(['HC'], dtype='<U2')]], dtype=object))\n"
          ]
        }
      ]
    },
    {
      "cell_type": "markdown",
      "source": [
        "# Extracting data in diffrent categories ( AZ, FTD,HC )\n",
        "\n",
        "Initially the data is extracted and then they are converted into numpy arrays"
      ],
      "metadata": {
        "id": "h8W-a47kAksT"
      }
    },
    {
      "cell_type": "code",
      "source": [
        "# Extract the specific fields for Alzheimer's (AZ), Frontotemporal dementia (FTD), and Healthy Controls (HC)\n",
        "PLV_AZ_F = PLV_data['AZ']\n",
        "PLV_FTD_F = PLV_data['FTD']\n",
        "PLV_HC_F = PLV_data['HC']\n",
        "\n",
        "# Extract the 3rd frequency band 3 of each matrix\n",
        "# reshape\n",
        "\n",
        "PLV_AZ = PLV_AZ_F[:, 2, :].reshape(2346, 1, 36)\n",
        "PLV_FTD = PLV_FTD_F[:, 2, :].reshape(2346, 1, 23)\n",
        "PLV_HC = PLV_HC_F[:, 2, :].reshape(2346, 1, 29)\n"
      ],
      "metadata": {
        "id": "YdBa319mAoH7"
      },
      "execution_count": null,
      "outputs": []
    },
    {
      "cell_type": "code",
      "source": [
        "# Normalize the data\n",
        "PLV_AZ = (PLV_AZ - np.mean(PLV_AZ)) / np.std(PLV_AZ)\n",
        "PLV_FTD = PLV_FTD - np.mean(PLV_FTD)) / np.std(PLV_FTD)\n",
        "PLV_HC = (PLV_HC - np.mean(PLV_HC)) / np.std(PLV_HC)"
      ],
      "metadata": {
        "id": "DsX1n_jVNbPv"
      },
      "execution_count": null,
      "outputs": []
    },
    {
      "cell_type": "code",
      "source": [
        "Threshold = 0.6\n",
        "\n",
        "# Set the values less than 0.5 to zero\n",
        "PLV_AZ[PLV_AZ <Threshold] = 0\n",
        "PLV_FTD[PLV_FTD < Threshold] = 0\n",
        "PLV_HC[PLV_HC <Threshold] = 0\n",
        "\n",
        "# Set the values greater than or equal to 0.5 to one\n",
        "PLV_AZ[PLV_AZ >=Threshold] = 1\n",
        "PLV_FTD[PLV_FTD >=Threshold] = 1\n",
        "PLV_HC[PLV_HC >= Threshold] = 1"
      ],
      "metadata": {
        "id": "lvNhUTC_Nlje"
      },
      "execution_count": null,
      "outputs": []
    },
    {
      "cell_type": "markdown",
      "source": [
        "oPtional:- to test whether the data is converted properly into numpy arrays"
      ],
      "metadata": {
        "id": "3z2TiqkxArZq"
      }
    },
    {
      "cell_type": "code",
      "source": [
        "# Print shapes to debug\n",
        "print(PLV_AZ.shape)\n",
        "print(PLV_FTD.shape)\n",
        "print(PLV_HC.shape)"
      ],
      "metadata": {
        "colab": {
          "base_uri": "https://localhost:8080/"
        },
        "id": "qWTDOrHvAw7q",
        "outputId": "654af6d7-40b4-4d5f-a9b4-291988d87cf8"
      },
      "execution_count": null,
      "outputs": [
        {
          "output_type": "stream",
          "name": "stdout",
          "text": [
            "(2346, 1, 36)\n",
            "(2346, 1, 23)\n",
            "(2346, 1, 29)\n"
          ]
        }
      ]
    },
    {
      "cell_type": "markdown",
      "source": [
        "visualize the first 10 data points"
      ],
      "metadata": {
        "id": "iP_R8xTuA07C"
      }
    },
    {
      "cell_type": "code",
      "source": [
        "# Extract the 1D array from PVe_AZ\n",
        "data_to_visualize = PLV_AZ[:, 0, 0]\n",
        "\n",
        "# Visualize only the first 50 data points\n",
        "data_to_visualize_first_10 = data_to_visualize[:10]\n",
        "\n",
        "# Plot the 1D array\n",
        "plt.figure(figsize=(12, 6))\n",
        "plt.plot(data_to_visualize_first_10, marker='o', linestyle='-', color='b')\n",
        "plt.title('First 10 PLV Data Points for Subject 1, Frequency Band 3')\n",
        "plt.xlabel('Index')\n",
        "plt.ylabel('PLV Value')\n",
        "plt.grid(True)\n",
        "plt.show()\n"
      ],
      "metadata": {
        "colab": {
          "base_uri": "https://localhost:8080/",
          "height": 415
        },
        "id": "_GAroDpBA4-6",
        "outputId": "397819ce-7eeb-4b9f-d370-efc7a10056bd"
      },
      "execution_count": null,
      "outputs": [
        {
          "output_type": "display_data",
          "data": {
            "text/plain": [
              "<Figure size 1200x600 with 1 Axes>"
            ],
            "image/png": "[encoded data removed]"
          },
          "metadata": {}
        }
      ]
    },
    {
      "cell_type": "markdown",
      "source": [
        "Reconstruct the matrix by the data file"
      ],
      "metadata": {
        "id": "Skty4AQ6A_NK"
      }
    },
    {
      "cell_type": "code",
      "source": [
        "def rebuild_matrix(PLV_data):\n",
        "    n_regions = 68\n",
        "    n_data = PLV_data.shape[2]\n",
        "    n_bands = PLV_data.shape[1]\n",
        "\n",
        "    # Initialize the array to hold the 68x68 matrices\n",
        "    rebuilt_data = np.zeros((n_regions, n_regions, n_bands, n_data))\n",
        "\n",
        "    # Iterate over each subject and each frequency band\n",
        "    for band in range(n_bands):\n",
        "        for subject in range(n_data):\n",
        "            # Initialize an empty 68x68 matrix\n",
        "            matrix = np.zeros((n_regions, n_regions))\n",
        "\n",
        "            # Fill the upper triangular part column by column\n",
        "            idx = 0\n",
        "            for col in range(n_regions):\n",
        "                for row in range(col + 1):\n",
        "                    matrix[row, col] = PLV_data[idx, band, subject]\n",
        "                    idx += 1\n",
        "\n",
        "            # Mirror to the lower triangular part\n",
        "            matrix = matrix + matrix.T - np.diag(matrix.diagonal())\n",
        "\n",
        "            # Store the matrix in the rebuilt data array\n",
        "            rebuilt_data[:, :, band, subject] = matrix\n",
        "\n",
        "    return rebuilt_data\n",
        "\n",
        "# Rebuild the coherence matrices\n",
        "PLV_AZ_rebuilt = rebuild_matrix(PLV_AZ)\n",
        "PLV_FTD_rebuilt = rebuild_matrix(PLV_FTD)\n",
        "PLV_HC_rebuilt = rebuild_matrix(PLV_HC)"
      ],
      "metadata": {
        "id": "tSEApvgfBFiy"
      },
      "execution_count": null,
      "outputs": []
    },
    {
      "cell_type": "markdown",
      "source": [
        "To check the shapes of the rebuilt matrix"
      ],
      "metadata": {
        "id": "OdVzkr72BLcC"
      }
    },
    {
      "cell_type": "code",
      "source": [
        "print('PLV_AZ_rebuilt shape:', PLV_AZ_rebuilt.shape)\n",
        "print('PLV_FTD_rebuilt shape:', PLV_FTD_rebuilt.shape)\n",
        "print('PLV_HC_rebuilt shape:',PLV_HC_rebuilt.shape)"
      ],
      "metadata": {
        "colab": {
          "base_uri": "https://localhost:8080/"
        },
        "id": "4_qTV6R3BZEB",
        "outputId": "8690deac-0e0a-4c99-fb38-7208c21862b6"
      },
      "execution_count": null,
      "outputs": [
        {
          "output_type": "stream",
          "name": "stdout",
          "text": [
            "PLV_AZ_rebuilt shape: (68, 68, 1, 36)\n",
            "PLV_FTD_rebuilt shape: (68, 68, 1, 23)\n",
            "PLV_HC_rebuilt shape: (68, 68, 1, 29)\n"
          ]
        }
      ]
    },
    {
      "cell_type": "markdown",
      "source": [
        "Visualize the first matrix in coherence_AZ_rebuilt"
      ],
      "metadata": {
        "id": "pf7i4zE_BiMT"
      }
    },
    {
      "cell_type": "code",
      "source": [
        "# Visualize the first matrix in coherence_AZ_rebuilt\n",
        "matrix_to_visualize = PLV_AZ_rebuilt[:, :, 0, 0]\n",
        "\n",
        "# Create a heatmap using matplotlib\n",
        "plt.figure(figsize=(10, 8))\n",
        "plt.imshow(matrix_to_visualize, cmap='viridis', interpolation='none')\n",
        "plt.colorbar(label='PLV')\n",
        "plt.title('PLV Matrix for Subject 1, Frequency Band 3')\n",
        "plt.xlabel('Brain Region')\n",
        "plt.ylabel('Brain Region')\n",
        "plt.show()"
      ],
      "metadata": {
        "colab": {
          "base_uri": "https://localhost:8080/",
          "height": 653
        },
        "id": "8axGQv06BfN6",
        "outputId": "9ea5e328-00c3-4dc6-b13d-7a19f315b9b8"
      },
      "execution_count": null,
      "outputs": [
        {
          "output_type": "display_data",
          "data": {
            "text/plain": [
              "<Figure size 1000x800 with 2 Axes>"
            ],
            "image/png": "[encoded data removed]"
          },
          "metadata": {}
        }
      ]
    },
    {
      "cell_type": "markdown",
      "source": [
        "# Convert PLV Matrix to Graph Data\n",
        "\n",
        "create_graph function takes a PLV matrix and a label as input and outputs a graph data object.\n",
        "number of nodes is determined by the shape of the matrix.\n",
        "initialize lists to store the edges and their corresponding attributes.\n",
        "Iterate through the matrix to create edges between all pairs of nodes (excluding self-loops) and assign edge attributes based on the coherence values.\n",
        "edge indices and attributes are converted to PyTorch tensors.\n",
        "Initialize node features with ones or other meaningful values. Create a Data object from the node features, edge indices, edge attributes, and the label.\n"
      ],
      "metadata": {
        "id": "f2RTEV2GBmI6"
      }
    },
    {
      "cell_type": "code",
      "source": [
        "# Function to convert PLV matrix to a graph\n",
        "def create_graph(matrix, label):\n",
        "    num_nodes = matrix.shape[0]  # number of nodes (68)\n",
        "    edge_index = []\n",
        "    edge_attr = []\n",
        "\n",
        "    for i in range(num_nodes):\n",
        "        for j in range(num_nodes):\n",
        "            if i != j:\n",
        "                edge_index.append([i, j])\n",
        "                edge_attr.append(matrix[i, j])\n",
        "\n",
        "    edge_index = torch.tensor(edge_index, dtype=torch.long).t().contiguous()\n",
        "    edge_attr = torch.tensor(edge_attr, dtype=torch.float)\n",
        "    #x = torch.ones((num_nodes, 1))  # Node features can be set to 1\n",
        "    x = torch.zeros((num_nodes, 1))  # Node features can be set to 0\n",
        "\n",
        "    y = torch.tensor([label], dtype=torch.long)\n",
        "    return Data(x=x, edge_index=edge_index, edge_attr=edge_attr, y=y)"
      ],
      "metadata": {
        "id": "TiFOv9GRBpoS"
      },
      "execution_count": null,
      "outputs": []
    },
    {
      "cell_type": "markdown",
      "source": [
        "# Prepare Graph Datasets\n",
        "\n",
        "prepare_dataset function takes coherence data and a label as input and creates a list of graph data objects. iterate through the coherence data, typically representing different frequency bands, to create individual graphs for each band. Each graph object is appended to the dataset list.Then the label is assigned based on the input label parameter.\n"
      ],
      "metadata": {
        "id": "j07Sh7gxBvyB"
      }
    },
    {
      "cell_type": "code",
      "source": [
        "# Prepare the datasets\n",
        "def prepare_dataset(data, label):\n",
        "    dataset = []\n",
        "    for i in range(data.shape[3]):\n",
        "        for j in range(data.shape[2]):\n",
        "            matrix = data[:, :, j, i]\n",
        "            graph = create_graph(matrix, label)\n",
        "            dataset.append(graph)\n",
        "    return dataset\n",
        "\n",
        "# Prepare datasets\n",
        "az_dataset = prepare_dataset(PLV_AZ_rebuilt, 0)  #  Alzheimer's patients\n",
        "hc_dataset = prepare_dataset(PLV_HC_rebuilt, 1)  # Healthy subjects\n",
        "ftd_dataset = prepare_dataset(PLV_FTD_rebuilt, 2)  #  Frontotemporal dementia patients\n"
      ],
      "metadata": {
        "id": "fAXnEM9hB4CS"
      },
      "execution_count": null,
      "outputs": []
    },
    {
      "cell_type": "markdown",
      "source": [
        "Combine Datasets and Create Data Loaders\n",
        "\n",
        "The data set of 3 categories are concatenated into a single data set. Then the data is Splitted into training and testing. test size is 20% and random seed is set here. Then the data loades are created.\n"
      ],
      "metadata": {
        "id": "UjNk-UQjB6qj"
      }
    },
    {
      "cell_type": "code",
      "source": [
        "# Combine datasets\n",
        "dataset = az_dataset + hc_dataset + ftd_dataset\n",
        "\n",
        "# Split into training and test sets\n",
        "train_data, test_data = train_test_split(dataset, test_size=0.2, random_state=42)\n",
        "\n",
        "# Create data loaders\n",
        "train_loader = DataLoader(train_data, batch_size=16, shuffle=True)\n",
        "test_loader = DataLoader(test_data, batch_size=16, shuffle=False)\n"
      ],
      "metadata": {
        "id": "_pnRSzE6CC9a"
      },
      "execution_count": null,
      "outputs": []
    },
    {
      "cell_type": "markdown",
      "source": [
        "Define and Initialize the Message Passing Neural Network (MPNN) Model"
      ],
      "metadata": {
        "id": "BkiZYzWwDI7x"
      }
    },
    {
      "cell_type": "code",
      "source": [
        "from torch_geometric.nn import MessagePassing\n",
        "\n",
        "class MPNN(MessagePassing):\n",
        "    def __init__(self, in_channels, out_channels):\n",
        "        super(MPNN, self).__init__(aggr='mean')\n",
        "        self.lin = torch.nn.Linear(in_channels, out_channels)\n",
        "        self.edge_transform = torch.nn.Linear(1, out_channels)\n",
        "\n",
        "    def forward(self, x, edge_index, edge_attr):\n",
        "        # Update edge features first\n",
        "        edge_attr = self.edge_transform(edge_attr.unsqueeze(-1))\n",
        "        # Start propagating messages.\n",
        "        return self.propagate(edge_index, x=x, edge_attr=edge_attr)\n",
        "\n",
        "    def message(self, x_j, edge_attr):\n",
        "        # x_j: Neighbor node features.\n",
        "        # edge_attr: Edge features.\n",
        "        return x_j + edge_attr\n",
        "\n",
        "    def update(self, aggr_out):\n",
        "        return aggr_out\n",
        "\n",
        "# Define the full model\n",
        "class GNN(torch.nn.Module):\n",
        "    def __init__(self):\n",
        "        super(GNN, self).__init__()\n",
        "        self.mpnn1 = MPNN(1, 32)\n",
        "        self.mpnn2 = MPNN(32, 32)\n",
        "        self.fc = torch.nn.Linear(32, 3)\n",
        "        self.dropout = torch.nn.Dropout(p=0.1)\n",
        "\n",
        "    def forward(self, data):\n",
        "        x, edge_index, edge_weight = data.x, data.edge_index, data.edge_attr\n",
        "        x = self.mpnn1(x, edge_index, edge_weight)\n",
        "        x = F.relu(x)\n",
        "        x = self.dropout(x)\n",
        "        x = self.mpnn2(x, edge_index, edge_weight)\n",
        "        x = F.relu(x)\n",
        "        x = self.dropout(x)\n",
        "        x = global_mean_pool(x, data.batch)\n",
        "        x = self.fc(x)\n",
        "        return F.log_softmax(x, dim=1)\n",
        "\n",
        "# Initialize model, optimizer, and loss function\n",
        "model = GNN()\n",
        "optimizer = torch.optim.Adam(model.parameters(), lr=0.001)\n",
        "criterion = torch.nn.CrossEntropyLoss()\n"
      ],
      "metadata": {
        "id": "tp2xxaSCDPfi"
      },
      "execution_count": null,
      "outputs": []
    },
    {
      "cell_type": "markdown",
      "source": [
        "# Training and Testing Loop"
      ],
      "metadata": {
        "id": "VwP0LXIbDZVI"
      }
    },
    {
      "cell_type": "code",
      "source": [
        "# Training loop\n",
        "def train():\n",
        "    model.train()\n",
        "    for data in train_loader:\n",
        "        optimizer.zero_grad()\n",
        "        out = model(data)\n",
        "        loss = criterion(out, data.y)\n",
        "        loss.backward()\n",
        "        optimizer.step()\n",
        "\n",
        "def test():\n",
        "    model.eval()\n",
        "    correct = 0\n",
        "    for data in test_loader:\n",
        "        out = model(data)\n",
        "        pred = out.argmax(dim=1)\n",
        "        correct += int((pred == data.y).sum())\n",
        "    return correct / len(test_data)\n"
      ],
      "metadata": {
        "id": "lhqfUQ5PDcU5"
      },
      "execution_count": null,
      "outputs": []
    },
    {
      "cell_type": "code",
      "source": [
        "# Training and Testing\n",
        "\n",
        "# Run the training and testing loop\n",
        "for epoch in range(1, 200):\n",
        "    train()\n",
        "    if epoch % 10 == 0:\n",
        "        test_acc = test()\n",
        "        print(f'Epoch {epoch}, Test Accuracy: {test_acc:.4f}')\n",
        "\n",
        "# Initialize lists to store training loss and accuracy\n",
        "train_losses = []\n",
        "test_accuracies = []\n",
        "epochs = []"
      ],
      "metadata": {
        "colab": {
          "base_uri": "https://localhost:8080/"
        },
        "id": "p4Gvrn6YEEDw",
        "outputId": "9c7cab22-68d3-4aa1-f083-90306a763d08"
      },
      "execution_count": null,
      "outputs": [
        {
          "output_type": "stream",
          "name": "stdout",
          "text": [
            "Epoch 10, Test Accuracy: 0.1111\n",
            "Epoch 20, Test Accuracy: 0.4444\n",
            "Epoch 30, Test Accuracy: 0.1111\n",
            "Epoch 40, Test Accuracy: 0.4444\n",
            "Epoch 50, Test Accuracy: 0.4444\n",
            "Epoch 60, Test Accuracy: 0.3333\n",
            "Epoch 70, Test Accuracy: 0.4444\n",
            "Epoch 80, Test Accuracy: 0.5000\n",
            "Epoch 90, Test Accuracy: 0.4444\n",
            "Epoch 100, Test Accuracy: 0.4444\n",
            "Epoch 110, Test Accuracy: 0.4444\n",
            "Epoch 120, Test Accuracy: 0.5000\n",
            "Epoch 130, Test Accuracy: 0.5000\n",
            "Epoch 140, Test Accuracy: 0.5000\n",
            "Epoch 150, Test Accuracy: 0.4444\n",
            "Epoch 160, Test Accuracy: 0.5000\n",
            "Epoch 170, Test Accuracy: 0.5000\n",
            "Epoch 180, Test Accuracy: 0.5000\n",
            "Epoch 190, Test Accuracy: 0.4444\n"
          ]
        }
      ]
    },
    {
      "cell_type": "code",
      "source": [
        "# Training loop with visualization\n",
        "for epoch in range(1, 201):\n",
        "    model.train()\n",
        "    for data in train_loader:\n",
        "        optimizer.zero_grad()\n",
        "        out = model(data)\n",
        "        loss = criterion(out, data.y)\n",
        "        loss.backward()\n",
        "        optimizer.step()\n",
        "        train_losses.append(loss.item())\n",
        "        if epoch % 10 == 0:\n",
        "            test_acc = test()\n",
        "            test_accuracies.append(test_acc)\n",
        "            epochs.append(epoch)\n",
        "            print(f'Epoch {epoch}, Test Accuracy: {test_acc:.4f}')\n",
        "\n",
        "# Plotting training loss and test accuracy\n",
        "plt.figure(figsize=(10, 5))\n",
        "plt.subplot(1, 2, 1)\n",
        "plt.plot(range(len(train_losses)), train_losses, label='Training Loss')\n",
        "plt.xlabel('Iterations')\n",
        "plt.ylabel('Loss')\n",
        "plt.title('Training Loss over Iterations')\n",
        "plt.legend()\n",
        "\n",
        "plt.subplot(1, 2, 2)\n",
        "plt.plot(epochs, test_accuracies, label='Test Accuracy', color='green')\n",
        "plt.xlabel('Epochs')\n",
        "plt.ylabel('Accuracy')\n",
        "plt.title('Test Accuracy over Epochs')\n",
        "plt.legend()\n",
        "\n",
        "plt.tight_layout()\n",
        "plt.show()"
      ],
      "metadata": {
        "colab": {
          "base_uri": "https://localhost:8080/",
          "height": 1000
        },
        "id": "-w-xNtBkEHq-",
        "outputId": "f2b978cd-98b3-4ba1-f3c4-1ce24b9ff9d7"
      },
      "execution_count": null,
      "outputs": [
        {
          "output_type": "stream",
          "name": "stdout",
          "text": [
            "Epoch 10, Test Accuracy: 0.5227\n",
            "Epoch 10, Test Accuracy: 0.4886\n",
            "Epoch 10, Test Accuracy: 0.5000\n",
            "Epoch 10, Test Accuracy: 0.4659\n",
            "Epoch 10, Test Accuracy: 0.4545\n",
            "Epoch 10, Test Accuracy: 0.4545\n",
            "Epoch 10, Test Accuracy: 0.4205\n",
            "Epoch 10, Test Accuracy: 0.4091\n",
            "Epoch 10, Test Accuracy: 0.4091\n",
            "Epoch 10, Test Accuracy: 0.4091\n",
            "Epoch 10, Test Accuracy: 0.4091\n",
            "Epoch 10, Test Accuracy: 0.4205\n",
            "Epoch 10, Test Accuracy: 0.4205\n",
            "Epoch 10, Test Accuracy: 0.4318\n",
            "Epoch 10, Test Accuracy: 0.4318\n",
            "Epoch 10, Test Accuracy: 0.4318\n",
            "Epoch 10, Test Accuracy: 0.4205\n",
            "Epoch 10, Test Accuracy: 0.4318\n",
            "Epoch 10, Test Accuracy: 0.4318\n",
            "Epoch 10, Test Accuracy: 0.4318\n",
            "Epoch 10, Test Accuracy: 0.4205\n",
            "Epoch 10, Test Accuracy: 0.4205\n",
            "Epoch 20, Test Accuracy: 0.5114\n",
            "Epoch 20, Test Accuracy: 0.5114\n",
            "Epoch 20, Test Accuracy: 0.5000\n",
            "Epoch 20, Test Accuracy: 0.5114\n",
            "Epoch 20, Test Accuracy: 0.5000\n",
            "Epoch 20, Test Accuracy: 0.5000\n",
            "Epoch 20, Test Accuracy: 0.5000\n",
            "Epoch 20, Test Accuracy: 0.5000\n",
            "Epoch 20, Test Accuracy: 0.5000\n",
            "Epoch 20, Test Accuracy: 0.5114\n",
            "Epoch 20, Test Accuracy: 0.5227\n",
            "Epoch 20, Test Accuracy: 0.5114\n",
            "Epoch 20, Test Accuracy: 0.5114\n",
            "Epoch 20, Test Accuracy: 0.4886\n",
            "Epoch 20, Test Accuracy: 0.4886\n",
            "Epoch 20, Test Accuracy: 0.4886\n",
            "Epoch 20, Test Accuracy: 0.4886\n",
            "Epoch 20, Test Accuracy: 0.4886\n",
            "Epoch 20, Test Accuracy: 0.4886\n",
            "Epoch 20, Test Accuracy: 0.4773\n",
            "Epoch 20, Test Accuracy: 0.5000\n",
            "Epoch 20, Test Accuracy: 0.4659\n",
            "Epoch 30, Test Accuracy: 0.4545\n",
            "Epoch 30, Test Accuracy: 0.4545\n",
            "Epoch 30, Test Accuracy: 0.4432\n",
            "Epoch 30, Test Accuracy: 0.4091\n",
            "Epoch 30, Test Accuracy: 0.4205\n",
            "Epoch 30, Test Accuracy: 0.4205\n",
            "Epoch 30, Test Accuracy: 0.4318\n",
            "Epoch 30, Test Accuracy: 0.4545\n",
            "Epoch 30, Test Accuracy: 0.4432\n",
            "Epoch 30, Test Accuracy: 0.4545\n",
            "Epoch 30, Test Accuracy: 0.4545\n",
            "Epoch 30, Test Accuracy: 0.4545\n",
            "Epoch 30, Test Accuracy: 0.4432\n",
            "Epoch 30, Test Accuracy: 0.4318\n",
            "Epoch 30, Test Accuracy: 0.4205\n",
            "Epoch 30, Test Accuracy: 0.4205\n",
            "Epoch 30, Test Accuracy: 0.4091\n",
            "Epoch 30, Test Accuracy: 0.4205\n",
            "Epoch 30, Test Accuracy: 0.4318\n",
            "Epoch 30, Test Accuracy: 0.4432\n",
            "Epoch 30, Test Accuracy: 0.4545\n",
            "Epoch 30, Test Accuracy: 0.4545\n",
            "Epoch 40, Test Accuracy: 0.4659\n",
            "Epoch 40, Test Accuracy: 0.4545\n",
            "Epoch 40, Test Accuracy: 0.4659\n",
            "Epoch 40, Test Accuracy: 0.4886\n",
            "Epoch 40, Test Accuracy: 0.5000\n",
            "Epoch 40, Test Accuracy: 0.5000\n",
            "Epoch 40, Test Accuracy: 0.5000\n",
            "Epoch 40, Test Accuracy: 0.5000\n",
            "Epoch 40, Test Accuracy: 0.4886\n",
            "Epoch 40, Test Accuracy: 0.4659\n",
            "Epoch 40, Test Accuracy: 0.4659\n",
            "Epoch 40, Test Accuracy: 0.4659\n",
            "Epoch 40, Test Accuracy: 0.4659\n",
            "Epoch 40, Test Accuracy: 0.4545\n",
            "Epoch 40, Test Accuracy: 0.4545\n",
            "Epoch 40, Test Accuracy: 0.4545\n",
            "Epoch 40, Test Accuracy: 0.4545\n",
            "Epoch 40, Test Accuracy: 0.4545\n",
            "Epoch 40, Test Accuracy: 0.4545\n",
            "Epoch 40, Test Accuracy: 0.4545\n",
            "Epoch 40, Test Accuracy: 0.4545\n",
            "Epoch 40, Test Accuracy: 0.4545\n",
            "Epoch 50, Test Accuracy: 0.4545\n",
            "Epoch 50, Test Accuracy: 0.4659\n",
            "Epoch 50, Test Accuracy: 0.4886\n",
            "Epoch 50, Test Accuracy: 0.5000\n",
            "Epoch 50, Test Accuracy: 0.5000\n",
            "Epoch 50, Test Accuracy: 0.4886\n",
            "Epoch 50, Test Accuracy: 0.4659\n",
            "Epoch 50, Test Accuracy: 0.4545\n",
            "Epoch 50, Test Accuracy: 0.4545\n",
            "Epoch 50, Test Accuracy: 0.4545\n",
            "Epoch 50, Test Accuracy: 0.4659\n",
            "Epoch 50, Test Accuracy: 0.4659\n",
            "Epoch 50, Test Accuracy: 0.4659\n",
            "Epoch 50, Test Accuracy: 0.4659\n",
            "Epoch 50, Test Accuracy: 0.4545\n",
            "Epoch 50, Test Accuracy: 0.4545\n",
            "Epoch 50, Test Accuracy: 0.4545\n",
            "Epoch 50, Test Accuracy: 0.4545\n",
            "Epoch 50, Test Accuracy: 0.4432\n",
            "Epoch 50, Test Accuracy: 0.4318\n",
            "Epoch 50, Test Accuracy: 0.4318\n",
            "Epoch 50, Test Accuracy: 0.4205\n",
            "Epoch 60, Test Accuracy: 0.4318\n",
            "Epoch 60, Test Accuracy: 0.4091\n",
            "Epoch 60, Test Accuracy: 0.4205\n",
            "Epoch 60, Test Accuracy: 0.4205\n",
            "Epoch 60, Test Accuracy: 0.4432\n",
            "Epoch 60, Test Accuracy: 0.4545\n",
            "Epoch 60, Test Accuracy: 0.4432\n",
            "Epoch 60, Test Accuracy: 0.4545\n",
            "Epoch 60, Test Accuracy: 0.4432\n",
            "Epoch 60, Test Accuracy: 0.4318\n",
            "Epoch 60, Test Accuracy: 0.4545\n",
            "Epoch 60, Test Accuracy: 0.4545\n",
            "Epoch 60, Test Accuracy: 0.4432\n",
            "Epoch 60, Test Accuracy: 0.4205\n",
            "Epoch 60, Test Accuracy: 0.4091\n",
            "Epoch 60, Test Accuracy: 0.4091\n",
            "Epoch 60, Test Accuracy: 0.4318\n",
            "Epoch 60, Test Accuracy: 0.4545\n",
            "Epoch 60, Test Accuracy: 0.4545\n",
            "Epoch 60, Test Accuracy: 0.4886\n",
            "Epoch 60, Test Accuracy: 0.5000\n",
            "Epoch 60, Test Accuracy: 0.4886\n",
            "Epoch 70, Test Accuracy: 0.4545\n",
            "Epoch 70, Test Accuracy: 0.4545\n",
            "Epoch 70, Test Accuracy: 0.4545\n",
            "Epoch 70, Test Accuracy: 0.4432\n",
            "Epoch 70, Test Accuracy: 0.4318\n",
            "Epoch 70, Test Accuracy: 0.4318\n",
            "Epoch 70, Test Accuracy: 0.4432\n",
            "Epoch 70, Test Accuracy: 0.4545\n",
            "Epoch 70, Test Accuracy: 0.4545\n",
            "Epoch 70, Test Accuracy: 0.4545\n",
            "Epoch 70, Test Accuracy: 0.4545\n",
            "Epoch 70, Test Accuracy: 0.4545\n",
            "Epoch 70, Test Accuracy: 0.4659\n",
            "Epoch 70, Test Accuracy: 0.4886\n",
            "Epoch 70, Test Accuracy: 0.4886\n",
            "Epoch 70, Test Accuracy: 0.4659\n",
            "Epoch 70, Test Accuracy: 0.4659\n",
            "Epoch 70, Test Accuracy: 0.4545\n",
            "Epoch 70, Test Accuracy: 0.4545\n",
            "Epoch 70, Test Accuracy: 0.4432\n",
            "Epoch 70, Test Accuracy: 0.4545\n",
            "Epoch 70, Test Accuracy: 0.4432\n",
            "Epoch 80, Test Accuracy: 0.4545\n",
            "Epoch 80, Test Accuracy: 0.4659\n",
            "Epoch 80, Test Accuracy: 0.4659\n",
            "Epoch 80, Test Accuracy: 0.4659\n",
            "Epoch 80, Test Accuracy: 0.4886\n",
            "Epoch 80, Test Accuracy: 0.4545\n",
            "Epoch 80, Test Accuracy: 0.4545\n",
            "Epoch 80, Test Accuracy: 0.4545\n",
            "Epoch 80, Test Accuracy: 0.4545\n",
            "Epoch 80, Test Accuracy: 0.4545\n",
            "Epoch 80, Test Accuracy: 0.4659\n",
            "Epoch 80, Test Accuracy: 0.5000\n",
            "Epoch 80, Test Accuracy: 0.4886\n",
            "Epoch 80, Test Accuracy: 0.5114\n",
            "Epoch 80, Test Accuracy: 0.5114\n",
            "Epoch 80, Test Accuracy: 0.5114\n",
            "Epoch 80, Test Accuracy: 0.5114\n",
            "Epoch 80, Test Accuracy: 0.5114\n",
            "Epoch 80, Test Accuracy: 0.4886\n",
            "Epoch 80, Test Accuracy: 0.5114\n",
            "Epoch 80, Test Accuracy: 0.4659\n",
            "Epoch 80, Test Accuracy: 0.4545\n",
            "Epoch 90, Test Accuracy: 0.5000\n",
            "Epoch 90, Test Accuracy: 0.4886\n",
            "Epoch 90, Test Accuracy: 0.4659\n",
            "Epoch 90, Test Accuracy: 0.4545\n",
            "Epoch 90, Test Accuracy: 0.4545\n",
            "Epoch 90, Test Accuracy: 0.4545\n",
            "Epoch 90, Test Accuracy: 0.4432\n",
            "Epoch 90, Test Accuracy: 0.4205\n",
            "Epoch 90, Test Accuracy: 0.4205\n",
            "Epoch 90, Test Accuracy: 0.4545\n",
            "Epoch 90, Test Accuracy: 0.4205\n",
            "Epoch 90, Test Accuracy: 0.3977\n",
            "Epoch 90, Test Accuracy: 0.3977\n",
            "Epoch 90, Test Accuracy: 0.3977\n",
            "Epoch 90, Test Accuracy: 0.4205\n",
            "Epoch 90, Test Accuracy: 0.4318\n",
            "Epoch 90, Test Accuracy: 0.4545\n",
            "Epoch 90, Test Accuracy: 0.4318\n",
            "Epoch 90, Test Accuracy: 0.4091\n",
            "Epoch 90, Test Accuracy: 0.4205\n",
            "Epoch 90, Test Accuracy: 0.4545\n",
            "Epoch 90, Test Accuracy: 0.4886\n",
            "Epoch 100, Test Accuracy: 0.4886\n",
            "Epoch 100, Test Accuracy: 0.5000\n",
            "Epoch 100, Test Accuracy: 0.5000\n",
            "Epoch 100, Test Accuracy: 0.4886\n",
            "Epoch 100, Test Accuracy: 0.4659\n",
            "Epoch 100, Test Accuracy: 0.4545\n",
            "Epoch 100, Test Accuracy: 0.4545\n",
            "Epoch 100, Test Accuracy: 0.4545\n",
            "Epoch 100, Test Accuracy: 0.4432\n",
            "Epoch 100, Test Accuracy: 0.4545\n",
            "Epoch 100, Test Accuracy: 0.4432\n",
            "Epoch 100, Test Accuracy: 0.4432\n",
            "Epoch 100, Test Accuracy: 0.4432\n",
            "Epoch 100, Test Accuracy: 0.4432\n",
            "Epoch 100, Test Accuracy: 0.4545\n",
            "Epoch 100, Test Accuracy: 0.4432\n",
            "Epoch 100, Test Accuracy: 0.4318\n",
            "Epoch 100, Test Accuracy: 0.4318\n",
            "Epoch 100, Test Accuracy: 0.4318\n",
            "Epoch 100, Test Accuracy: 0.4432\n",
            "Epoch 100, Test Accuracy: 0.4432\n",
            "Epoch 100, Test Accuracy: 0.4432\n",
            "Epoch 110, Test Accuracy: 0.4773\n",
            "Epoch 110, Test Accuracy: 0.4886\n",
            "Epoch 110, Test Accuracy: 0.4886\n",
            "Epoch 110, Test Accuracy: 0.5114\n",
            "Epoch 110, Test Accuracy: 0.5114\n",
            "Epoch 110, Test Accuracy: 0.5114\n",
            "Epoch 110, Test Accuracy: 0.4886\n",
            "Epoch 110, Test Accuracy: 0.4886\n",
            "Epoch 110, Test Accuracy: 0.5114\n",
            "Epoch 110, Test Accuracy: 0.5114\n",
            "Epoch 110, Test Accuracy: 0.4886\n",
            "Epoch 110, Test Accuracy: 0.5114\n",
            "Epoch 110, Test Accuracy: 0.4773\n",
            "Epoch 110, Test Accuracy: 0.4659\n",
            "Epoch 110, Test Accuracy: 0.4432\n",
            "Epoch 110, Test Accuracy: 0.4659\n",
            "Epoch 110, Test Accuracy: 0.4545\n",
            "Epoch 110, Test Accuracy: 0.4545\n",
            "Epoch 110, Test Accuracy: 0.4659\n",
            "Epoch 110, Test Accuracy: 0.4886\n",
            "Epoch 110, Test Accuracy: 0.4886\n",
            "Epoch 110, Test Accuracy: 0.4659\n",
            "Epoch 120, Test Accuracy: 0.4886\n",
            "Epoch 120, Test Accuracy: 0.4886\n",
            "Epoch 120, Test Accuracy: 0.5114\n",
            "Epoch 120, Test Accuracy: 0.4886\n",
            "Epoch 120, Test Accuracy: 0.4886\n",
            "Epoch 120, Test Accuracy: 0.5000\n",
            "Epoch 120, Test Accuracy: 0.4886\n",
            "Epoch 120, Test Accuracy: 0.4773\n",
            "Epoch 120, Test Accuracy: 0.4773\n",
            "Epoch 120, Test Accuracy: 0.4886\n",
            "Epoch 120, Test Accuracy: 0.5114\n",
            "Epoch 120, Test Accuracy: 0.5341\n",
            "Epoch 120, Test Accuracy: 0.5227\n",
            "Epoch 120, Test Accuracy: 0.5227\n",
            "Epoch 120, Test Accuracy: 0.5227\n",
            "Epoch 120, Test Accuracy: 0.5341\n",
            "Epoch 120, Test Accuracy: 0.5227\n",
            "Epoch 120, Test Accuracy: 0.5000\n",
            "Epoch 120, Test Accuracy: 0.5000\n",
            "Epoch 120, Test Accuracy: 0.4773\n",
            "Epoch 120, Test Accuracy: 0.4545\n",
            "Epoch 120, Test Accuracy: 0.4545\n",
            "Epoch 130, Test Accuracy: 0.4886\n",
            "Epoch 130, Test Accuracy: 0.4886\n",
            "Epoch 130, Test Accuracy: 0.4545\n",
            "Epoch 130, Test Accuracy: 0.4545\n",
            "Epoch 130, Test Accuracy: 0.4432\n",
            "Epoch 130, Test Accuracy: 0.4205\n",
            "Epoch 130, Test Accuracy: 0.4091\n",
            "Epoch 130, Test Accuracy: 0.4205\n",
            "Epoch 130, Test Accuracy: 0.4205\n",
            "Epoch 130, Test Accuracy: 0.4205\n",
            "Epoch 130, Test Accuracy: 0.4205\n",
            "Epoch 130, Test Accuracy: 0.4205\n",
            "Epoch 130, Test Accuracy: 0.4091\n",
            "Epoch 130, Test Accuracy: 0.4091\n",
            "Epoch 130, Test Accuracy: 0.4091\n",
            "Epoch 130, Test Accuracy: 0.4091\n",
            "Epoch 130, Test Accuracy: 0.4091\n",
            "Epoch 130, Test Accuracy: 0.4091\n",
            "Epoch 130, Test Accuracy: 0.4091\n",
            "Epoch 130, Test Accuracy: 0.4432\n",
            "Epoch 130, Test Accuracy: 0.4432\n",
            "Epoch 130, Test Accuracy: 0.4432\n",
            "Epoch 140, Test Accuracy: 0.5000\n",
            "Epoch 140, Test Accuracy: 0.5000\n",
            "Epoch 140, Test Accuracy: 0.5000\n",
            "Epoch 140, Test Accuracy: 0.4886\n",
            "Epoch 140, Test Accuracy: 0.4659\n",
            "Epoch 140, Test Accuracy: 0.4659\n",
            "Epoch 140, Test Accuracy: 0.4545\n",
            "Epoch 140, Test Accuracy: 0.4545\n",
            "Epoch 140, Test Accuracy: 0.4545\n",
            "Epoch 140, Test Accuracy: 0.4545\n",
            "Epoch 140, Test Accuracy: 0.4545\n",
            "Epoch 140, Test Accuracy: 0.4432\n",
            "Epoch 140, Test Accuracy: 0.4318\n",
            "Epoch 140, Test Accuracy: 0.4205\n",
            "Epoch 140, Test Accuracy: 0.4091\n",
            "Epoch 140, Test Accuracy: 0.4205\n",
            "Epoch 140, Test Accuracy: 0.4205\n",
            "Epoch 140, Test Accuracy: 0.4091\n",
            "Epoch 140, Test Accuracy: 0.4205\n",
            "Epoch 140, Test Accuracy: 0.4432\n",
            "Epoch 140, Test Accuracy: 0.4432\n",
            "Epoch 140, Test Accuracy: 0.4432\n",
            "Epoch 150, Test Accuracy: 0.4091\n",
            "Epoch 150, Test Accuracy: 0.4318\n",
            "Epoch 150, Test Accuracy: 0.4545\n",
            "Epoch 150, Test Accuracy: 0.4545\n",
            "Epoch 150, Test Accuracy: 0.4545\n",
            "Epoch 150, Test Accuracy: 0.4545\n",
            "Epoch 150, Test Accuracy: 0.4318\n",
            "Epoch 150, Test Accuracy: 0.4205\n",
            "Epoch 150, Test Accuracy: 0.4091\n",
            "Epoch 150, Test Accuracy: 0.4091\n",
            "Epoch 150, Test Accuracy: 0.4318\n",
            "Epoch 150, Test Accuracy: 0.4545\n",
            "Epoch 150, Test Accuracy: 0.4545\n",
            "Epoch 150, Test Accuracy: 0.4545\n",
            "Epoch 150, Test Accuracy: 0.4886\n",
            "Epoch 150, Test Accuracy: 0.4886\n",
            "Epoch 150, Test Accuracy: 0.5000\n",
            "Epoch 150, Test Accuracy: 0.5000\n",
            "Epoch 150, Test Accuracy: 0.5000\n",
            "Epoch 150, Test Accuracy: 0.5114\n",
            "Epoch 150, Test Accuracy: 0.4886\n",
            "Epoch 150, Test Accuracy: 0.4773\n",
            "Epoch 160, Test Accuracy: 0.4545\n",
            "Epoch 160, Test Accuracy: 0.4545\n",
            "Epoch 160, Test Accuracy: 0.4545\n",
            "Epoch 160, Test Accuracy: 0.4545\n",
            "Epoch 160, Test Accuracy: 0.4432\n",
            "Epoch 160, Test Accuracy: 0.4318\n",
            "Epoch 160, Test Accuracy: 0.4091\n",
            "Epoch 160, Test Accuracy: 0.4205\n",
            "Epoch 160, Test Accuracy: 0.4205\n",
            "Epoch 160, Test Accuracy: 0.4091\n",
            "Epoch 160, Test Accuracy: 0.4091\n",
            "Epoch 160, Test Accuracy: 0.4091\n",
            "Epoch 160, Test Accuracy: 0.4091\n",
            "Epoch 160, Test Accuracy: 0.4205\n",
            "Epoch 160, Test Accuracy: 0.4091\n",
            "Epoch 160, Test Accuracy: 0.4091\n",
            "Epoch 160, Test Accuracy: 0.4091\n",
            "Epoch 160, Test Accuracy: 0.4091\n",
            "Epoch 160, Test Accuracy: 0.4091\n",
            "Epoch 160, Test Accuracy: 0.4091\n",
            "Epoch 160, Test Accuracy: 0.4205\n",
            "Epoch 160, Test Accuracy: 0.4432\n",
            "Epoch 170, Test Accuracy: 0.4545\n",
            "Epoch 170, Test Accuracy: 0.4545\n",
            "Epoch 170, Test Accuracy: 0.4886\n",
            "Epoch 170, Test Accuracy: 0.4886\n",
            "Epoch 170, Test Accuracy: 0.5114\n",
            "Epoch 170, Test Accuracy: 0.5114\n",
            "Epoch 170, Test Accuracy: 0.5114\n",
            "Epoch 170, Test Accuracy: 0.5000\n",
            "Epoch 170, Test Accuracy: 0.5114\n",
            "Epoch 170, Test Accuracy: 0.5000\n",
            "Epoch 170, Test Accuracy: 0.5000\n",
            "Epoch 170, Test Accuracy: 0.5000\n",
            "Epoch 170, Test Accuracy: 0.5000\n",
            "Epoch 170, Test Accuracy: 0.5000\n",
            "Epoch 170, Test Accuracy: 0.5114\n",
            "Epoch 170, Test Accuracy: 0.5000\n",
            "Epoch 170, Test Accuracy: 0.5000\n",
            "Epoch 170, Test Accuracy: 0.5114\n",
            "Epoch 170, Test Accuracy: 0.5341\n",
            "Epoch 170, Test Accuracy: 0.4886\n",
            "Epoch 170, Test Accuracy: 0.5000\n",
            "Epoch 170, Test Accuracy: 0.4659\n",
            "Epoch 180, Test Accuracy: 0.4886\n",
            "Epoch 180, Test Accuracy: 0.4773\n",
            "Epoch 180, Test Accuracy: 0.4773\n",
            "Epoch 180, Test Accuracy: 0.5000\n",
            "Epoch 180, Test Accuracy: 0.5000\n",
            "Epoch 180, Test Accuracy: 0.5114\n",
            "Epoch 180, Test Accuracy: 0.5000\n",
            "Epoch 180, Test Accuracy: 0.5000\n",
            "Epoch 180, Test Accuracy: 0.4886\n",
            "Epoch 180, Test Accuracy: 0.4886\n",
            "Epoch 180, Test Accuracy: 0.5000\n",
            "Epoch 180, Test Accuracy: 0.4886\n",
            "Epoch 180, Test Accuracy: 0.4886\n",
            "Epoch 180, Test Accuracy: 0.4886\n",
            "Epoch 180, Test Accuracy: 0.4659\n",
            "Epoch 180, Test Accuracy: 0.4545\n",
            "Epoch 180, Test Accuracy: 0.4545\n",
            "Epoch 180, Test Accuracy: 0.4545\n",
            "Epoch 180, Test Accuracy: 0.4545\n",
            "Epoch 180, Test Accuracy: 0.4545\n",
            "Epoch 180, Test Accuracy: 0.4545\n",
            "Epoch 180, Test Accuracy: 0.4545\n",
            "Epoch 190, Test Accuracy: 0.4432\n",
            "Epoch 190, Test Accuracy: 0.4545\n",
            "Epoch 190, Test Accuracy: 0.4545\n",
            "Epoch 190, Test Accuracy: 0.4659\n",
            "Epoch 190, Test Accuracy: 0.4659\n",
            "Epoch 190, Test Accuracy: 0.4886\n",
            "Epoch 190, Test Accuracy: 0.5000\n",
            "Epoch 190, Test Accuracy: 0.5000\n",
            "Epoch 190, Test Accuracy: 0.4886\n",
            "Epoch 190, Test Accuracy: 0.4773\n",
            "Epoch 190, Test Accuracy: 0.4886\n",
            "Epoch 190, Test Accuracy: 0.4886\n",
            "Epoch 190, Test Accuracy: 0.4886\n",
            "Epoch 190, Test Accuracy: 0.4773\n",
            "Epoch 190, Test Accuracy: 0.5000\n",
            "Epoch 190, Test Accuracy: 0.5000\n",
            "Epoch 190, Test Accuracy: 0.4886\n",
            "Epoch 190, Test Accuracy: 0.4659\n",
            "Epoch 190, Test Accuracy: 0.4545\n",
            "Epoch 190, Test Accuracy: 0.4545\n",
            "Epoch 190, Test Accuracy: 0.4545\n",
            "Epoch 190, Test Accuracy: 0.4432\n",
            "Epoch 200, Test Accuracy: 0.4886\n",
            "Epoch 200, Test Accuracy: 0.4886\n",
            "Epoch 200, Test Accuracy: 0.4886\n",
            "Epoch 200, Test Accuracy: 0.5000\n",
            "Epoch 200, Test Accuracy: 0.5000\n",
            "Epoch 200, Test Accuracy: 0.4886\n",
            "Epoch 200, Test Accuracy: 0.4886\n",
            "Epoch 200, Test Accuracy: 0.4886\n",
            "Epoch 200, Test Accuracy: 0.4773\n",
            "Epoch 200, Test Accuracy: 0.4659\n",
            "Epoch 200, Test Accuracy: 0.4659\n",
            "Epoch 200, Test Accuracy: 0.4545\n",
            "Epoch 200, Test Accuracy: 0.4545\n",
            "Epoch 200, Test Accuracy: 0.4545\n",
            "Epoch 200, Test Accuracy: 0.4545\n",
            "Epoch 200, Test Accuracy: 0.4545\n",
            "Epoch 200, Test Accuracy: 0.4545\n",
            "Epoch 200, Test Accuracy: 0.4545\n",
            "Epoch 200, Test Accuracy: 0.4545\n",
            "Epoch 200, Test Accuracy: 0.4545\n",
            "Epoch 200, Test Accuracy: 0.4545\n",
            "Epoch 200, Test Accuracy: 0.4545\n"
          ]
        },
        {
          "output_type": "display_data",
          "data": {
            "text/plain": [
              "<Figure size 1000x500 with 2 Axes>"
            ],
            "image/png": "[encoded data removed]"
          },
          "metadata": {}
        }
      ]
    }
  ]
}