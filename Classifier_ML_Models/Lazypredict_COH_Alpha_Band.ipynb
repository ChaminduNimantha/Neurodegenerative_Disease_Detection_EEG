{
  "nbformat": 4,
  "nbformat_minor": 0,
  "metadata": {
    "colab": {
      "provenance": []
    },
    "kernelspec": {
      "name": "python3",
      "display_name": "Python 3"
    },
    "language_info": {
      "name": "python"
    }
  },
  "cells": [
    {
      "cell_type": "markdown",
      "source": [
        "Install necessary libraries `scipy` for scientific computing, `seaborn` for data visualization capabilities, and `lazypredict` to evaluate classifiers"
      ],
      "metadata": {
        "id": "lh18-Kr1DNqN"
      }
    },
    {
      "cell_type": "code",
      "source": [
        "# Install Required Libraries\n",
        "!pip install scipy seaborn lazypredict"
      ],
      "metadata": {
        "colab": {
          "base_uri": "https://localhost:8080/"
        },
        "collapsed": true,
        "id": "yUeLn1FB7Oud",
        "outputId": "77c983b1-97c5-42e9-a483-a9cbaf0fc477"
      },
      "execution_count": null,
      "outputs": [
        {
          "output_type": "stream",
          "name": "stdout",
          "text": [
            "Requirement already satisfied: scipy in /usr/local/lib/python3.10/dist-packages (1.11.4)\n",
            "Requirement already satisfied: seaborn in /usr/local/lib/python3.10/dist-packages (0.13.1)\n",
            "Collecting lazypredict\n",
            "  Downloading lazypredict-0.2.12-py2.py3-none-any.whl (12 kB)\n",
            "Requirement already satisfied: numpy<1.28.0,>=1.21.6 in /usr/local/lib/python3.10/dist-packages (from scipy) (1.25.2)\n",
            "Requirement already satisfied: pandas>=1.2 in /usr/local/lib/python3.10/dist-packages (from seaborn) (2.0.3)\n",
            "Requirement already satisfied: matplotlib!=3.6.1,>=3.4 in /usr/local/lib/python3.10/dist-packages (from seaborn) (3.7.1)\n",
            "Requirement already satisfied: click in /usr/local/lib/python3.10/dist-packages (from lazypredict) (8.1.7)\n",
            "Requirement already satisfied: scikit-learn in /usr/local/lib/python3.10/dist-packages (from lazypredict) (1.2.2)\n",
            "Requirement already satisfied: tqdm in /usr/local/lib/python3.10/dist-packages (from lazypredict) (4.66.4)\n",
            "Requirement already satisfied: joblib in /usr/local/lib/python3.10/dist-packages (from lazypredict) (1.4.2)\n",
            "Requirement already satisfied: lightgbm in /usr/local/lib/python3.10/dist-packages (from lazypredict) (4.1.0)\n",
            "Requirement already satisfied: xgboost in /usr/local/lib/python3.10/dist-packages (from lazypredict) (2.0.3)\n",
            "Requirement already satisfied: contourpy>=1.0.1 in /usr/local/lib/python3.10/dist-packages (from matplotlib!=3.6.1,>=3.4->seaborn) (1.2.1)\n",
            "Requirement already satisfied: cycler>=0.10 in /usr/local/lib/python3.10/dist-packages (from matplotlib!=3.6.1,>=3.4->seaborn) (0.12.1)\n",
            "Requirement already satisfied: fonttools>=4.22.0 in /usr/local/lib/python3.10/dist-packages (from matplotlib!=3.6.1,>=3.4->seaborn) (4.53.1)\n",
            "Requirement already satisfied: kiwisolver>=1.0.1 in /usr/local/lib/python3.10/dist-packages (from matplotlib!=3.6.1,>=3.4->seaborn) (1.4.5)\n",
            "Requirement already satisfied: packaging>=20.0 in /usr/local/lib/python3.10/dist-packages (from matplotlib!=3.6.1,>=3.4->seaborn) (24.1)\n",
            "Requirement already satisfied: pillow>=6.2.0 in /usr/local/lib/python3.10/dist-packages (from matplotlib!=3.6.1,>=3.4->seaborn) (9.4.0)\n",
            "Requirement already satisfied: pyparsing>=2.3.1 in /usr/local/lib/python3.10/dist-packages (from matplotlib!=3.6.1,>=3.4->seaborn) (3.1.2)\n",
            "Requirement already satisfied: python-dateutil>=2.7 in /usr/local/lib/python3.10/dist-packages (from matplotlib!=3.6.1,>=3.4->seaborn) (2.8.2)\n",
            "Requirement already satisfied: pytz>=2020.1 in /usr/local/lib/python3.10/dist-packages (from pandas>=1.2->seaborn) (2023.4)\n",
            "Requirement already satisfied: tzdata>=2022.1 in /usr/local/lib/python3.10/dist-packages (from pandas>=1.2->seaborn) (2024.1)\n",
            "Requirement already satisfied: threadpoolctl>=2.0.0 in /usr/local/lib/python3.10/dist-packages (from scikit-learn->lazypredict) (3.5.0)\n",
            "Requirement already satisfied: six>=1.5 in /usr/local/lib/python3.10/dist-packages (from python-dateutil>=2.7->matplotlib!=3.6.1,>=3.4->seaborn) (1.16.0)\n",
            "Installing collected packages: lazypredict\n",
            "Successfully installed lazypredict-0.2.12\n"
          ]
        }
      ]
    },
    {
      "cell_type": "markdown",
      "source": [
        "Mount Google Drive to access the data files stored there"
      ],
      "metadata": {
        "id": "wHvZXPIfDonE"
      }
    },
    {
      "cell_type": "code",
      "source": [
        "# Mount Google Drive to access data files\n",
        "from google.colab import drive\n",
        "drive.mount('/content/drive')"
      ],
      "metadata": {
        "colab": {
          "base_uri": "https://localhost:8080/"
        },
        "id": "aZn6JK5u-dny",
        "outputId": "54f40964-240c-4c19-8568-f23cc172a8c3"
      },
      "execution_count": null,
      "outputs": [
        {
          "output_type": "stream",
          "name": "stdout",
          "text": [
            "Mounted at /content/drive\n"
          ]
        }
      ]
    },
    {
      "cell_type": "markdown",
      "source": [
        "Import the required libraries. `numpy` for numerical operations, `scipy.io` for loading MATLAB files, `sklearn` for machine learning model creation, training, and evaluation, `matplotlib.pyplot` and `seaborn` for data visualization, and `lazypredict` to evaluate classifiers"
      ],
      "metadata": {
        "id": "6bvKaISqD2M6"
      }
    },
    {
      "cell_type": "code",
      "source": [
        "# Import necessary libraries\n",
        "import numpy as np\n",
        "import scipy.io\n",
        "from sklearn.model_selection import train_test_split\n",
        "import matplotlib.pyplot as plt\n",
        "import seaborn as sns\n",
        "from lazypredict.Supervised import LazyClassifier\n",
        "from sklearn.preprocessing import StandardScaler"
      ],
      "metadata": {
        "id": "OKOYRftn-deu"
      },
      "execution_count": null,
      "outputs": []
    },
    {
      "cell_type": "markdown",
      "source": [
        "Load the coherence data from a MATLAB (.mat) file stored in Google Drive. It contains the PLV matrices for Alzheimer's Disease (AZ), Frontotemporal Dementia (FTD), and Healthy Controls (HC). Use `scipy.io.loadmat` to read the .mat file"
      ],
      "metadata": {
        "id": "LjWT_6_kK1aq"
      }
    },
    {
      "cell_type": "code",
      "source": [
        "# Load the coherence data from .mat file\n",
        "mat_file_path = '/content/drive/MyDrive/GNN_Approach/Data_files/Coherence.mat'\n",
        "mat = scipy.io.loadmat(mat_file_path)\n",
        "coherence_data = mat['Coherence'][0, 0]"
      ],
      "metadata": {
        "id": "x0RSw-lR-t5s"
      },
      "execution_count": null,
      "outputs": []
    },
    {
      "cell_type": "markdown",
      "source": [
        "Extract the Coherence data for different categories: Alzheimer's Disease (AZ), Frontotemporal Dementia (FTD), and Healthy Controls (HC)"
      ],
      "metadata": {
        "id": "fh0nrpwPLCNs"
      }
    },
    {
      "cell_type": "code",
      "source": [
        "# Extracting data in different categories (AZ, FTD, HC)\n",
        "coherence_AZ_F = coherence_data['AZ']\n",
        "coherence_FTD_F = coherence_data['FTD']\n",
        "coherence_HC_F = coherence_data['HC']"
      ],
      "metadata": {
        "id": "1x-8dT-W_Ery"
      },
      "execution_count": null,
      "outputs": []
    },
    {
      "cell_type": "markdown",
      "source": [
        "Extract the data corresponding to the 3rd frequency band (index 2) and then reshape the extracted data"
      ],
      "metadata": {
        "id": "sx7r6josLKBZ"
      }
    },
    {
      "cell_type": "code",
      "source": [
        "# Extract the 3rd frequency band (index 2)\n",
        "coherence_AZ = coherence_AZ_F[:, 2, :].reshape(2346, 1, 36)\n",
        "coherence_FTD = coherence_FTD_F[:, 2, :].reshape(2346, 1, 23)\n",
        "coherence_HC = coherence_HC_F[:, 2, :].reshape(2346, 1, 29)\n",
        "\n",
        "\n",
        "# Optional: To test whether the data is converted properly into numpy arrays\n",
        "print(coherence_AZ.shape)\n",
        "print(coherence_FTD.shape)\n",
        "print(coherence_HC.shape)"
      ],
      "metadata": {
        "colab": {
          "base_uri": "https://localhost:8080/"
        },
        "id": "L2rgNFZp-tw-",
        "outputId": "a3e4d580-117f-429e-b0d5-67295947bcff"
      },
      "execution_count": null,
      "outputs": [
        {
          "output_type": "stream",
          "name": "stdout",
          "text": [
            "(2346, 1, 36)\n",
            "(2346, 1, 23)\n",
            "(2346, 1, 29)\n"
          ]
        }
      ]
    },
    {
      "cell_type": "markdown",
      "source": [
        "Reconstructs the coherence matrix from the extracted PLV data. The function iterates over frequency bands and subjects, creating a 68x68 matrix with coherence values. The rebuilt matrices are stored in a 4D array with dimensions corresponding to regions, regions, bands, and subjects."
      ],
      "metadata": {
        "id": "dmAEw8h8LQEQ"
      }
    },
    {
      "cell_type": "code",
      "source": [
        "# Function to rebuild the coherence matrix from the coherence data\n",
        "def rebuild_matrix(coherence_data):\n",
        "    n_regions = 68\n",
        "    n_data = coherence_data.shape[2]\n",
        "    n_bands = coherence_data.shape[1]\n",
        "\n",
        "    rebuilt_data = np.zeros((n_regions, n_regions, n_bands, n_data))\n",
        "\n",
        "    for band in range(n_bands):\n",
        "        for subject in range(n_data):\n",
        "            matrix = np.zeros((n_regions, n_regions))\n",
        "            idx = 0\n",
        "            for col in range(n_regions):\n",
        "                for row in range(col + 1):\n",
        "                    matrix[row, col] = coherence_data[idx, band, subject]\n",
        "                    idx += 1\n",
        "            matrix = matrix + matrix.T - np.diag(matrix.diagonal())\n",
        "            rebuilt_data[:, :, band, subject] = matrix\n",
        "\n",
        "    return rebuilt_data\n"
      ],
      "metadata": {
        "id": "AWOV5b7_-tpb"
      },
      "execution_count": null,
      "outputs": []
    },
    {
      "cell_type": "markdown",
      "source": [
        "Reconstruct the coherence matrices for each category (AZ, FTD, HC) and check the shapes of the resulting matrices to ensure that they have been reconstructed correctly and have the expected dimensions"
      ],
      "metadata": {
        "id": "TJ_mQib9LZb4"
      }
    },
    {
      "cell_type": "code",
      "source": [
        "# Rebuild the coherence matrices\n",
        "coherence_AZ_rebuilt = rebuild_matrix(coherence_AZ)\n",
        "coherence_FTD_rebuilt = rebuild_matrix(coherence_FTD)\n",
        "coherence_HC_rebuilt = rebuild_matrix(coherence_HC)\n",
        "\n",
        "# Check the shapes to ensure correctness\n",
        "print('PLV_AZ_rebuilt shape:', coherence_AZ_rebuilt.shape)\n",
        "print('PLV_FTD_rebuilt shape:', coherence_FTD_rebuilt.shape)\n",
        "print('PLV_HC_rebuilt shape:', coherence_HC_rebuilt.shape)"
      ],
      "metadata": {
        "colab": {
          "base_uri": "https://localhost:8080/"
        },
        "id": "BvjOHsO5_YSe",
        "outputId": "deaa033c-df20-429f-eb8b-ecafe1a6f9eb"
      },
      "execution_count": null,
      "outputs": [
        {
          "output_type": "stream",
          "name": "stdout",
          "text": [
            "PLV_AZ_rebuilt shape: (68, 68, 1, 36)\n",
            "PLV_FTD_rebuilt shape: (68, 68, 1, 23)\n",
            "PLV_HC_rebuilt shape: (68, 68, 1, 29)\n"
          ]
        }
      ]
    },
    {
      "cell_type": "markdown",
      "source": [
        "Visualize a single coherence matrix using a heatmap. Use `seaborn` for better visual representation. Extract the coherence matrix for the first patient in the AZ category and use the visualization function to plot it, ensuring that the data is ordered correctly."
      ],
      "metadata": {
        "id": "QmbWXhjHLgQ8"
      }
    },
    {
      "cell_type": "code",
      "source": [
        "# Function to visualize a single coherence matrix\n",
        "def visualize_matrix(matrix, title):\n",
        "    plt.figure(figsize=(10, 8))\n",
        "    sns.heatmap(matrix, annot=False, cmap='viridis')\n",
        "    plt.title(title)\n",
        "    plt.xlabel('Region')\n",
        "    plt.ylabel('Region')\n",
        "    plt.show()\n",
        "\n",
        "# Extract the coherence matrix for the first patient in the AZ category\n",
        "single_patient_az_matrix = coherence_AZ_rebuilt[:, :, 0, 0]  # Choosing the first frequency band (index 0)\n",
        "\n",
        "# Visualize the coherence matrix for the first patient in the AZ category\n",
        "visualize_matrix(single_patient_az_matrix, 'Coherence Matrix for First Patient (AZ Category)')\n",
        "\n"
      ],
      "metadata": {
        "colab": {
          "base_uri": "https://localhost:8080/",
          "height": 718
        },
        "id": "oJGacREp_gJl",
        "outputId": "4a010960-e9c6-4d7d-e98a-440add593f4a"
      },
      "execution_count": null,
      "outputs": [
        {
          "output_type": "display_data",
          "data": {
            "text/plain": [
              "<Figure size 1000x800 with 2 Axes>"
            ],
            "image/png": "[encoded data removed]"
          },
          "metadata": {}
        }
      ]
    },
    {
      "cell_type": "markdown",
      "source": [
        "Extracts edge features from the coherence matrices and assigns labels to them. The function iterates over the subjects and bands, extracting the upper triangular part of each coherence matrix (excluding the diagonal). These edge attributes are then stored in a feature array, and the corresponding labels are stored in a label array"
      ],
      "metadata": {
        "id": "u8SoXD4nLodL"
      }
    },
    {
      "cell_type": "code",
      "source": [
        "# Extract edge features and labels\n",
        "def extract_edge_features_labels(data, label):\n",
        "    features = []\n",
        "    labels = []\n",
        "    for i in range(data.shape[3]):\n",
        "        for j in range(data.shape[2]):\n",
        "            matrix = data[:, :, j, i]\n",
        "            edge_attr = matrix[np.triu_indices_from(matrix, k=1)]\n",
        "            features.append(edge_attr)\n",
        "            labels.append(label)\n",
        "    return np.array(features), np.array(labels)"
      ],
      "metadata": {
        "id": "wrm7NJh6BZ4S"
      },
      "execution_count": null,
      "outputs": []
    },
    {
      "cell_type": "markdown",
      "source": [
        "Use the `extract_edge_features_labels` function to extract features and labels for different classification tasks:\n",
        "1. Alzheimer's Disease (AZ) vs. Healthy Controls (HC)\n",
        "2. Frontotemporal Dementia (FTD) vs. Healthy Controls (HC)\n",
        "3. Frontotemporal Dementia (FTD) vs. Alzheimer's Disease (AZ)\n",
        "\n",
        "For each classification task, extract the edge features and labels from the rebuilt coherence matrices and concatenate them to form the complete dataset for each classification task."
      ],
      "metadata": {
        "id": "a7oI3USvL19k"
      }
    },
    {
      "cell_type": "code",
      "source": [
        "# Extract features and labels for AZ vs HC\n",
        "features_az_hc, labels_az_hc = extract_edge_features_labels(coherence_HC_rebuilt, 0)\n",
        "features_az_hc_, labels_az_hc_ = extract_edge_features_labels(coherence_AZ_rebuilt, 2)\n",
        "features_az_hc = np.concatenate((features_az_hc, features_az_hc_), axis=0)\n",
        "labels_az_hc = np.concatenate((labels_az_hc, labels_az_hc_), axis=0)\n",
        "\n",
        "# Extract features and labels for FTD vs HC\n",
        "features_ftd_hc, labels_ftd_hc = extract_edge_features_labels(coherence_HC_rebuilt, 0)\n",
        "features_ftd_hc_, labels_ftd_hc_ = extract_edge_features_labels(coherence_FTD_rebuilt, 1)\n",
        "features_ftd_hc = np.concatenate((features_ftd_hc, features_ftd_hc_), axis=0)\n",
        "labels_ftd_hc = np.concatenate((labels_ftd_hc, labels_ftd_hc_), axis=0)\n",
        "\n",
        "# Extract features and labels for FTD vs AZ\n",
        "features_ftd_az, labels_ftd_az = extract_edge_features_labels(coherence_FTD_rebuilt, 1)\n",
        "features_ftd_az_, labels_ftd_az_ = extract_edge_features_labels(coherence_AZ_rebuilt, 2)\n",
        "features_ftd_az = np.concatenate((features_ftd_az, features_ftd_az_), axis=0)\n",
        "labels_ftd_az = np.concatenate((labels_ftd_az, labels_ftd_az_), axis=0)\n"
      ],
      "metadata": {
        "id": "eKV236IvBdAo"
      },
      "execution_count": null,
      "outputs": []
    },
    {
      "cell_type": "markdown",
      "source": [
        "Split the extracted features and labels into training and testing sets for three classification tasks:\n",
        "1. Alzheimer's Disease (AZ) vs. Healthy Controls (HC)\n",
        "2. Frontotemporal Dementia (FTD) vs. Healthy Controls (HC)\n",
        "3. Frontotemporal Dementia (FTD) vs. Alzheimer's Disease (AZ)"
      ],
      "metadata": {
        "id": "T9AsWwTNMMEL"
      }
    },
    {
      "cell_type": "code",
      "source": [
        "# Split data into training and testing sets for AZ vs HC\n",
        "X_train_az_hc, X_test_az_hc, y_train_az_hc, y_test_az_hc = train_test_split(features_az_hc, labels_az_hc, test_size=0.2, random_state=42)\n",
        "\n",
        "# Split data into training and testing sets for FTD vs HC\n",
        "X_train_ftd_hc, X_test_ftd_hc, y_train_ftd_hc, y_test_ftd_hc = train_test_split(features_ftd_hc, labels_ftd_hc, test_size=0.2, random_state=42)\n",
        "\n",
        "# Split data into training and testing sets for FTD vs AZ\n",
        "X_train_ftd_az, X_test_ftd_az, y_train_ftd_az, y_test_ftd_az = train_test_split(features_ftd_az, labels_ftd_az, test_size=0.2, random_state=42)\n"
      ],
      "metadata": {
        "id": "AdZadkazBitg"
      },
      "execution_count": null,
      "outputs": []
    },
    {
      "cell_type": "markdown",
      "source": [
        "Use LazyPredict to find the best classifier for each classification task"
      ],
      "metadata": {
        "id": "RgQ6VkDhMQ2U"
      }
    },
    {
      "cell_type": "code",
      "source": [
        "# Use LazyPredict to find the best classifier\n",
        "def evaluate_lazy_predict(X_train, X_test, y_train, y_test, title):\n",
        "    clf = LazyClassifier(verbose=0, ignore_warnings=True, custom_metric=None)\n",
        "    models, predictions = clf.fit(X_train, X_test, y_train, y_test)\n",
        "    print(f\"Model performance for {title}:\\n\", models)\n",
        "    return models"
      ],
      "metadata": {
        "id": "yA8qwlGkBu2v"
      },
      "execution_count": null,
      "outputs": []
    },
    {
      "cell_type": "markdown",
      "source": [
        "Run and Print the models and there performences"
      ],
      "metadata": {
        "id": "2xFRzTtuMUaA"
      }
    },
    {
      "cell_type": "code",
      "source": [
        "print(\"Evaluating models for AZ vs HC\")\n",
        "models_az_hc = evaluate_lazy_predict(X_train_az_hc, X_test_az_hc, y_train_az_hc, y_test_az_hc, \"AZ vs HC\")\n",
        "\n",
        "print(\"Evaluating models for FTD vs HC\")\n",
        "models_ftd_hc = evaluate_lazy_predict(X_train_ftd_hc, X_test_ftd_hc, y_train_ftd_hc, y_test_ftd_hc, \"FTD vs HC\")\n",
        "\n",
        "print(\"Evaluating models for FTD vs AZ\")\n",
        "models_ftd_az = evaluate_lazy_predict(X_train_ftd_az, X_test_ftd_az, y_train_ftd_az, y_test_ftd_az, \"FTD vs AZ\")"
      ],
      "metadata": {
        "colab": {
          "base_uri": "https://localhost:8080/"
        },
        "id": "S5-Uh78BBytc",
        "outputId": "46d7fb27-6246-439f-af0b-df23a4554ffe"
      },
      "execution_count": null,
      "outputs": [
        {
          "output_type": "stream",
          "name": "stdout",
          "text": [
            "Evaluating models for AZ vs HC\n"
          ]
        },
        {
          "output_type": "stream",
          "name": "stderr",
          "text": [
            " 90%|████████▉ | 26/29 [00:07<00:00,  4.64it/s]"
          ]
        },
        {
          "output_type": "stream",
          "name": "stdout",
          "text": [
            "[LightGBM] [Info] Number of positive: 28, number of negative: 24\n",
            "[LightGBM] [Info] Auto-choosing col-wise multi-threading, the overhead of testing was 0.003390 seconds.\n",
            "You can set `force_col_wise=true` to remove the overhead.\n",
            "[LightGBM] [Info] Total Bins 43276\n",
            "[LightGBM] [Info] Number of data points in the train set: 52, number of used features: 2278\n",
            "[LightGBM] [Info] [binary:BoostFromScore]: pavg=0.538462 -> initscore=0.154151\n",
            "[LightGBM] [Info] Start training from score 0.154151\n",
            "[LightGBM] [Warning] No further splits with positive gain, best gain: -inf\n",
            "[LightGBM] [Warning] No further splits with positive gain, best gain: -inf\n",
            "[LightGBM] [Warning] No further splits with positive gain, best gain: -inf\n",
            "[LightGBM] [Warning] No further splits with positive gain, best gain: -inf\n",
            "[LightGBM] [Warning] No further splits with positive gain, best gain: -inf\n",
            "[LightGBM] [Warning] No further splits with positive gain, best gain: -inf\n",
            "[LightGBM] [Warning] No further splits with positive gain, best gain: -inf\n",
            "[LightGBM] [Warning] No further splits with positive gain, best gain: -inf\n",
            "[LightGBM] [Warning] No further splits with positive gain, best gain: -inf\n",
            "[LightGBM] [Warning] No further splits with positive gain, best gain: -inf\n",
            "[LightGBM] [Warning] No further splits with positive gain, best gain: -inf\n",
            "[LightGBM] [Warning] No further splits with positive gain, best gain: -inf\n",
            "[LightGBM] [Warning] No further splits with positive gain, best gain: -inf\n",
            "[LightGBM] [Warning] No further splits with positive gain, best gain: -inf\n",
            "[LightGBM] [Warning] No further splits with positive gain, best gain: -inf\n",
            "[LightGBM] [Warning] No further splits with positive gain, best gain: -inf\n",
            "[LightGBM] [Warning] No further splits with positive gain, best gain: -inf\n",
            "[LightGBM] [Warning] No further splits with positive gain, best gain: -inf\n",
            "[LightGBM] [Warning] No further splits with positive gain, best gain: -inf\n",
            "[LightGBM] [Warning] No further splits with positive gain, best gain: -inf\n",
            "[LightGBM] [Warning] No further splits with positive gain, best gain: -inf\n",
            "[LightGBM] [Warning] No further splits with positive gain, best gain: -inf\n",
            "[LightGBM] [Warning] No further splits with positive gain, best gain: -inf\n",
            "[LightGBM] [Warning] No further splits with positive gain, best gain: -inf\n",
            "[LightGBM] [Warning] No further splits with positive gain, best gain: -inf\n",
            "[LightGBM] [Warning] No further splits with positive gain, best gain: -inf\n",
            "[LightGBM] [Warning] No further splits with positive gain, best gain: -inf\n",
            "[LightGBM] [Warning] No further splits with positive gain, best gain: -inf\n",
            "[LightGBM] [Warning] No further splits with positive gain, best gain: -inf\n",
            "[LightGBM] [Warning] No further splits with positive gain, best gain: -inf\n",
            "[LightGBM] [Warning] No further splits with positive gain, best gain: -inf\n",
            "[LightGBM] [Warning] No further splits with positive gain, best gain: -inf\n",
            "[LightGBM] [Warning] No further splits with positive gain, best gain: -inf\n",
            "[LightGBM] [Warning] No further splits with positive gain, best gain: -inf\n",
            "[LightGBM] [Warning] No further splits with positive gain, best gain: -inf\n",
            "[LightGBM] [Warning] No further splits with positive gain, best gain: -inf\n",
            "[LightGBM] [Warning] No further splits with positive gain, best gain: -inf\n",
            "[LightGBM] [Warning] No further splits with positive gain, best gain: -inf\n",
            "[LightGBM] [Warning] No further splits with positive gain, best gain: -inf\n",
            "[LightGBM] [Warning] No further splits with positive gain, best gain: -inf\n",
            "[LightGBM] [Warning] No further splits with positive gain, best gain: -inf\n",
            "[LightGBM] [Warning] No further splits with positive gain, best gain: -inf\n",
            "[LightGBM] [Warning] No further splits with positive gain, best gain: -inf\n",
            "[LightGBM] [Warning] No further splits with positive gain, best gain: -inf\n",
            "[LightGBM] [Warning] No further splits with positive gain, best gain: -inf\n",
            "[LightGBM] [Warning] No further splits with positive gain, best gain: -inf\n",
            "[LightGBM] [Warning] No further splits with positive gain, best gain: -inf\n",
            "[LightGBM] [Warning] No further splits with positive gain, best gain: -inf\n",
            "[LightGBM] [Warning] No further splits with positive gain, best gain: -inf\n",
            "[LightGBM] [Warning] No further splits with positive gain, best gain: -inf\n",
            "[LightGBM] [Warning] No further splits with positive gain, best gain: -inf\n",
            "[LightGBM] [Warning] No further splits with positive gain, best gain: -inf\n",
            "[LightGBM] [Warning] No further splits with positive gain, best gain: -inf\n",
            "[LightGBM] [Warning] No further splits with positive gain, best gain: -inf\n",
            "[LightGBM] [Warning] No further splits with positive gain, best gain: -inf\n",
            "[LightGBM] [Warning] No further splits with positive gain, best gain: -inf\n",
            "[LightGBM] [Warning] No further splits with positive gain, best gain: -inf\n",
            "[LightGBM] [Warning] No further splits with positive gain, best gain: -inf\n",
            "[LightGBM] [Warning] No further splits with positive gain, best gain: -inf\n",
            "[LightGBM] [Warning] No further splits with positive gain, best gain: -inf\n",
            "[LightGBM] [Warning] No further splits with positive gain, best gain: -inf\n",
            "[LightGBM] [Warning] No further splits with positive gain, best gain: -inf\n",
            "[LightGBM] [Warning] No further splits with positive gain, best gain: -inf\n"
          ]
        },
        {
          "output_type": "stream",
          "name": "stderr",
          "text": [
            "100%|██████████| 29/29 [00:08<00:00,  3.61it/s]\n"
          ]
        },
        {
          "output_type": "stream",
          "name": "stdout",
          "text": [
            "[LightGBM] [Warning] No further splits with positive gain, best gain: -inf\n",
            "[LightGBM] [Warning] No further splits with positive gain, best gain: -inf\n",
            "[LightGBM] [Warning] No further splits with positive gain, best gain: -inf\n",
            "[LightGBM] [Warning] No further splits with positive gain, best gain: -inf\n",
            "[LightGBM] [Warning] No further splits with positive gain, best gain: -inf\n",
            "[LightGBM] [Warning] No further splits with positive gain, best gain: -inf\n",
            "[LightGBM] [Warning] No further splits with positive gain, best gain: -inf\n",
            "[LightGBM] [Warning] No further splits with positive gain, best gain: -inf\n",
            "[LightGBM] [Warning] No further splits with positive gain, best gain: -inf\n",
            "[LightGBM] [Warning] No further splits with positive gain, best gain: -inf\n",
            "[LightGBM] [Warning] No further splits with positive gain, best gain: -inf\n",
            "[LightGBM] [Warning] No further splits with positive gain, best gain: -inf\n",
            "[LightGBM] [Warning] No further splits with positive gain, best gain: -inf\n",
            "[LightGBM] [Warning] No further splits with positive gain, best gain: -inf\n",
            "[LightGBM] [Warning] No further splits with positive gain, best gain: -inf\n",
            "[LightGBM] [Warning] No further splits with positive gain, best gain: -inf\n",
            "[LightGBM] [Warning] No further splits with positive gain, best gain: -inf\n",
            "[LightGBM] [Warning] No further splits with positive gain, best gain: -inf\n",
            "[LightGBM] [Warning] No further splits with positive gain, best gain: -inf\n",
            "[LightGBM] [Warning] No further splits with positive gain, best gain: -inf\n",
            "[LightGBM] [Warning] No further splits with positive gain, best gain: -inf\n",
            "[LightGBM] [Warning] No further splits with positive gain, best gain: -inf\n",
            "[LightGBM] [Warning] No further splits with positive gain, best gain: -inf\n",
            "[LightGBM] [Warning] No further splits with positive gain, best gain: -inf\n",
            "[LightGBM] [Warning] No further splits with positive gain, best gain: -inf\n",
            "[LightGBM] [Warning] No further splits with positive gain, best gain: -inf\n",
            "[LightGBM] [Warning] No further splits with positive gain, best gain: -inf\n",
            "[LightGBM] [Warning] No further splits with positive gain, best gain: -inf\n",
            "[LightGBM] [Warning] No further splits with positive gain, best gain: -inf\n",
            "[LightGBM] [Warning] No further splits with positive gain, best gain: -inf\n",
            "[LightGBM] [Warning] No further splits with positive gain, best gain: -inf\n",
            "[LightGBM] [Warning] No further splits with positive gain, best gain: -inf\n",
            "[LightGBM] [Warning] No further splits with positive gain, best gain: -inf\n",
            "[LightGBM] [Warning] No further splits with positive gain, best gain: -inf\n",
            "[LightGBM] [Warning] No further splits with positive gain, best gain: -inf\n",
            "[LightGBM] [Warning] No further splits with positive gain, best gain: -inf\n",
            "[LightGBM] [Warning] No further splits with positive gain, best gain: -inf\n",
            "Model performance for AZ vs HC:\n",
            "                                Accuracy  Balanced Accuracy  ROC AUC  F1 Score  \\\n",
            "Model                                                                           \n",
            "GaussianNB                         0.92               0.94     0.94      0.92   \n",
            "BaggingClassifier                  0.85               0.88     0.88      0.85   \n",
            "ExtraTreesClassifier               0.85               0.88     0.88      0.85   \n",
            "SVC                                0.85               0.84     0.84      0.85   \n",
            "CalibratedClassifierCV             0.85               0.84     0.84      0.85   \n",
            "RandomForestClassifier             0.85               0.84     0.84      0.85   \n",
            "NuSVC                              0.85               0.84     0.84      0.85   \n",
            "LogisticRegression                 0.85               0.84     0.84      0.85   \n",
            "LGBMClassifier                     0.77               0.81     0.81      0.77   \n",
            "RidgeClassifierCV                  0.77               0.78     0.78      0.77   \n",
            "RidgeClassifier                    0.77               0.78     0.78      0.77   \n",
            "PassiveAggressiveClassifier        0.77               0.78     0.78      0.77   \n",
            "NearestCentroid                    0.77               0.78     0.78      0.77   \n",
            "LinearSVC                          0.77               0.78     0.78      0.77   \n",
            "LinearDiscriminantAnalysis         0.77               0.78     0.78      0.77   \n",
            "BernoulliNB                        0.77               0.78     0.78      0.77   \n",
            "KNeighborsClassifier               0.69               0.75     0.75      0.68   \n",
            "Perceptron                         0.69               0.71     0.71      0.70   \n",
            "SGDClassifier                      0.69               0.71     0.71      0.70   \n",
            "ExtraTreeClassifier                0.69               0.68     0.68      0.69   \n",
            "AdaBoostClassifier                 0.69               0.68     0.68      0.69   \n",
            "DecisionTreeClassifier             0.62               0.65     0.65      0.62   \n",
            "LabelSpreading                     0.38               0.50     0.50      0.21   \n",
            "LabelPropagation                   0.38               0.50     0.50      0.21   \n",
            "DummyClassifier                    0.62               0.50     0.50      0.47   \n",
            "QuadraticDiscriminantAnalysis      0.46               0.41     0.41      0.45   \n",
            "\n",
            "                               Time Taken  \n",
            "Model                                      \n",
            "GaussianNB                           0.14  \n",
            "BaggingClassifier                    0.58  \n",
            "ExtraTreesClassifier                 0.39  \n",
            "SVC                                  0.17  \n",
            "CalibratedClassifierCV               0.26  \n",
            "RandomForestClassifier               0.50  \n",
            "NuSVC                                0.08  \n",
            "LogisticRegression                   0.56  \n",
            "LGBMClassifier                       0.54  \n",
            "RidgeClassifierCV                    0.22  \n",
            "RidgeClassifier                      0.17  \n",
            "PassiveAggressiveClassifier          0.08  \n",
            "NearestCentroid                      0.13  \n",
            "LinearSVC                            0.35  \n",
            "LinearDiscriminantAnalysis           0.35  \n",
            "BernoulliNB                          0.16  \n",
            "KNeighborsClassifier                 0.19  \n",
            "Perceptron                           0.13  \n",
            "SGDClassifier                        0.18  \n",
            "ExtraTreeClassifier                  0.11  \n",
            "AdaBoostClassifier                   1.49  \n",
            "DecisionTreeClassifier               0.16  \n",
            "LabelSpreading                       0.24  \n",
            "LabelPropagation                     0.17  \n",
            "DummyClassifier                      0.12  \n",
            "QuadraticDiscriminantAnalysis        0.21  \n",
            "Evaluating models for FTD vs HC\n"
          ]
        },
        {
          "output_type": "stream",
          "name": "stderr",
          "text": [
            "100%|██████████| 29/29 [00:05<00:00,  5.47it/s]\n"
          ]
        },
        {
          "output_type": "stream",
          "name": "stdout",
          "text": [
            "[LightGBM] [Info] Number of positive: 18, number of negative: 23\n",
            "[LightGBM] [Info] Auto-choosing col-wise multi-threading, the overhead of testing was 0.002833 seconds.\n",
            "You can set `force_col_wise=true` to remove the overhead.\n",
            "[LightGBM] [Info] Total Bins 33160\n",
            "[LightGBM] [Info] Number of data points in the train set: 41, number of used features: 2167\n",
            "[LightGBM] [Info] [binary:BoostFromScore]: pavg=0.439024 -> initscore=-0.245122\n",
            "[LightGBM] [Info] Start training from score -0.245122\n",
            "[LightGBM] [Warning] No further splits with positive gain, best gain: -inf\n",
            "[LightGBM] [Warning] No further splits with positive gain, best gain: -inf\n",
            "[LightGBM] [Warning] No further splits with positive gain, best gain: -inf\n",
            "[LightGBM] [Warning] No further splits with positive gain, best gain: -inf\n",
            "[LightGBM] [Warning] No further splits with positive gain, best gain: -inf\n",
            "[LightGBM] [Warning] No further splits with positive gain, best gain: -inf\n",
            "[LightGBM] [Warning] No further splits with positive gain, best gain: -inf\n",
            "[LightGBM] [Warning] No further splits with positive gain, best gain: -inf\n",
            "[LightGBM] [Warning] No further splits with positive gain, best gain: -inf\n",
            "[LightGBM] [Warning] No further splits with positive gain, best gain: -inf\n",
            "[LightGBM] [Warning] No further splits with positive gain, best gain: -inf\n",
            "[LightGBM] [Warning] No further splits with positive gain, best gain: -inf\n",
            "[LightGBM] [Warning] No further splits with positive gain, best gain: -inf\n",
            "[LightGBM] [Warning] No further splits with positive gain, best gain: -inf\n",
            "[LightGBM] [Warning] No further splits with positive gain, best gain: -inf\n",
            "[LightGBM] [Warning] No further splits with positive gain, best gain: -inf\n",
            "[LightGBM] [Warning] No further splits with positive gain, best gain: -inf\n",
            "[LightGBM] [Warning] No further splits with positive gain, best gain: -inf\n",
            "[LightGBM] [Warning] No further splits with positive gain, best gain: -inf\n",
            "[LightGBM] [Warning] No further splits with positive gain, best gain: -inf\n",
            "[LightGBM] [Warning] No further splits with positive gain, best gain: -inf\n",
            "[LightGBM] [Warning] No further splits with positive gain, best gain: -inf\n",
            "[LightGBM] [Warning] No further splits with positive gain, best gain: -inf\n",
            "[LightGBM] [Warning] No further splits with positive gain, best gain: -inf\n",
            "[LightGBM] [Warning] No further splits with positive gain, best gain: -inf\n",
            "[LightGBM] [Warning] No further splits with positive gain, best gain: -inf\n",
            "[LightGBM] [Warning] No further splits with positive gain, best gain: -inf\n",
            "[LightGBM] [Warning] No further splits with positive gain, best gain: -inf\n",
            "[LightGBM] [Warning] No further splits with positive gain, best gain: -inf\n",
            "[LightGBM] [Warning] No further splits with positive gain, best gain: -inf\n",
            "[LightGBM] [Warning] No further splits with positive gain, best gain: -inf\n",
            "[LightGBM] [Warning] No further splits with positive gain, best gain: -inf\n",
            "[LightGBM] [Warning] No further splits with positive gain, best gain: -inf\n",
            "[LightGBM] [Warning] No further splits with positive gain, best gain: -inf\n",
            "[LightGBM] [Warning] No further splits with positive gain, best gain: -inf\n",
            "[LightGBM] [Warning] No further splits with positive gain, best gain: -inf\n",
            "[LightGBM] [Warning] No further splits with positive gain, best gain: -inf\n",
            "[LightGBM] [Warning] No further splits with positive gain, best gain: -inf\n",
            "[LightGBM] [Warning] No further splits with positive gain, best gain: -inf\n",
            "[LightGBM] [Warning] No further splits with positive gain, best gain: -inf\n",
            "[LightGBM] [Warning] No further splits with positive gain, best gain: -inf\n",
            "[LightGBM] [Warning] No further splits with positive gain, best gain: -inf\n",
            "[LightGBM] [Warning] No further splits with positive gain, best gain: -inf\n",
            "[LightGBM] [Warning] No further splits with positive gain, best gain: -inf\n",
            "[LightGBM] [Warning] No further splits with positive gain, best gain: -inf\n",
            "[LightGBM] [Warning] No further splits with positive gain, best gain: -inf\n",
            "[LightGBM] [Warning] No further splits with positive gain, best gain: -inf\n",
            "[LightGBM] [Warning] No further splits with positive gain, best gain: -inf\n",
            "[LightGBM] [Warning] No further splits with positive gain, best gain: -inf\n",
            "[LightGBM] [Warning] No further splits with positive gain, best gain: -inf\n",
            "[LightGBM] [Warning] No further splits with positive gain, best gain: -inf\n",
            "[LightGBM] [Warning] No further splits with positive gain, best gain: -inf\n",
            "[LightGBM] [Warning] No further splits with positive gain, best gain: -inf\n",
            "[LightGBM] [Warning] No further splits with positive gain, best gain: -inf\n",
            "[LightGBM] [Warning] No further splits with positive gain, best gain: -inf\n",
            "[LightGBM] [Warning] No further splits with positive gain, best gain: -inf\n",
            "[LightGBM] [Warning] No further splits with positive gain, best gain: -inf\n",
            "[LightGBM] [Warning] No further splits with positive gain, best gain: -inf\n",
            "[LightGBM] [Warning] No further splits with positive gain, best gain: -inf\n",
            "[LightGBM] [Warning] No further splits with positive gain, best gain: -inf\n",
            "[LightGBM] [Warning] No further splits with positive gain, best gain: -inf\n",
            "[LightGBM] [Warning] No further splits with positive gain, best gain: -inf\n",
            "[LightGBM] [Warning] No further splits with positive gain, best gain: -inf\n",
            "[LightGBM] [Warning] No further splits with positive gain, best gain: -inf\n",
            "[LightGBM] [Warning] No further splits with positive gain, best gain: -inf\n",
            "[LightGBM] [Warning] No further splits with positive gain, best gain: -inf\n",
            "[LightGBM] [Warning] No further splits with positive gain, best gain: -inf\n",
            "[LightGBM] [Warning] No further splits with positive gain, best gain: -inf\n",
            "[LightGBM] [Warning] No further splits with positive gain, best gain: -inf\n",
            "[LightGBM] [Warning] No further splits with positive gain, best gain: -inf\n",
            "[LightGBM] [Warning] No further splits with positive gain, best gain: -inf\n",
            "[LightGBM] [Warning] No further splits with positive gain, best gain: -inf\n",
            "[LightGBM] [Warning] No further splits with positive gain, best gain: -inf\n",
            "[LightGBM] [Warning] No further splits with positive gain, best gain: -inf\n",
            "[LightGBM] [Warning] No further splits with positive gain, best gain: -inf\n",
            "[LightGBM] [Warning] No further splits with positive gain, best gain: -inf\n",
            "[LightGBM] [Warning] No further splits with positive gain, best gain: -inf\n",
            "[LightGBM] [Warning] No further splits with positive gain, best gain: -inf\n",
            "[LightGBM] [Warning] No further splits with positive gain, best gain: -inf\n",
            "[LightGBM] [Warning] No further splits with positive gain, best gain: -inf\n",
            "[LightGBM] [Warning] No further splits with positive gain, best gain: -inf\n",
            "[LightGBM] [Warning] No further splits with positive gain, best gain: -inf\n",
            "[LightGBM] [Warning] No further splits with positive gain, best gain: -inf\n",
            "[LightGBM] [Warning] No further splits with positive gain, best gain: -inf\n",
            "[LightGBM] [Warning] No further splits with positive gain, best gain: -inf\n",
            "[LightGBM] [Warning] No further splits with positive gain, best gain: -inf\n",
            "[LightGBM] [Warning] No further splits with positive gain, best gain: -inf\n",
            "[LightGBM] [Warning] No further splits with positive gain, best gain: -inf\n",
            "[LightGBM] [Warning] No further splits with positive gain, best gain: -inf\n",
            "[LightGBM] [Warning] No further splits with positive gain, best gain: -inf\n",
            "[LightGBM] [Warning] No further splits with positive gain, best gain: -inf\n",
            "[LightGBM] [Warning] No further splits with positive gain, best gain: -inf\n",
            "[LightGBM] [Warning] No further splits with positive gain, best gain: -inf\n",
            "[LightGBM] [Warning] No further splits with positive gain, best gain: -inf\n",
            "[LightGBM] [Warning] No further splits with positive gain, best gain: -inf\n",
            "[LightGBM] [Warning] No further splits with positive gain, best gain: -inf\n",
            "[LightGBM] [Warning] No further splits with positive gain, best gain: -inf\n",
            "[LightGBM] [Warning] No further splits with positive gain, best gain: -inf\n",
            "[LightGBM] [Warning] No further splits with positive gain, best gain: -inf\n",
            "[LightGBM] [Warning] No further splits with positive gain, best gain: -inf\n",
            "Model performance for FTD vs HC:\n",
            "                                Accuracy  Balanced Accuracy  ROC AUC  F1 Score  \\\n",
            "Model                                                                           \n",
            "LinearDiscriminantAnalysis         0.91               0.90     0.90      0.91   \n",
            "BernoulliNB                        0.91               0.90     0.90      0.91   \n",
            "SVC                                0.91               0.90     0.90      0.91   \n",
            "RandomForestClassifier             0.91               0.90     0.90      0.91   \n",
            "ExtraTreesClassifier               0.91               0.90     0.90      0.91   \n",
            "GaussianNB                         0.91               0.90     0.90      0.91   \n",
            "NearestCentroid                    0.91               0.90     0.90      0.91   \n",
            "QuadraticDiscriminantAnalysis      0.82               0.83     0.83      0.82   \n",
            "AdaBoostClassifier                 0.82               0.82     0.82      0.82   \n",
            "NuSVC                              0.82               0.82     0.82      0.82   \n",
            "BaggingClassifier                  0.82               0.82     0.82      0.82   \n",
            "LGBMClassifier                     0.82               0.82     0.82      0.82   \n",
            "CalibratedClassifierCV             0.82               0.80     0.80      0.81   \n",
            "LogisticRegression                 0.73               0.73     0.73      0.73   \n",
            "KNeighborsClassifier               0.73               0.73     0.73      0.73   \n",
            "PassiveAggressiveClassifier        0.73               0.73     0.73      0.73   \n",
            "RidgeClassifier                    0.73               0.73     0.73      0.73   \n",
            "RidgeClassifierCV                  0.73               0.73     0.73      0.73   \n",
            "XGBClassifier                      0.73               0.73     0.73      0.73   \n",
            "LinearSVC                          0.73               0.73     0.73      0.73   \n",
            "Perceptron                         0.73               0.72     0.72      0.72   \n",
            "SGDClassifier                      0.73               0.72     0.72      0.72   \n",
            "ExtraTreeClassifier                0.73               0.70     0.70      0.70   \n",
            "DecisionTreeClassifier             0.64               0.63     0.63      0.64   \n",
            "LabelSpreading                     0.55               0.50     0.50      0.39   \n",
            "LabelPropagation                   0.55               0.50     0.50      0.39   \n",
            "DummyClassifier                    0.55               0.50     0.50      0.39   \n",
            "\n",
            "                               Time Taken  \n",
            "Model                                      \n",
            "LinearDiscriminantAnalysis           0.17  \n",
            "BernoulliNB                          0.12  \n",
            "SVC                                  0.11  \n",
            "RandomForestClassifier               0.30  \n",
            "ExtraTreesClassifier                 0.36  \n",
            "GaussianNB                           0.13  \n",
            "NearestCentroid                      0.12  \n",
            "QuadraticDiscriminantAnalysis        0.12  \n",
            "AdaBoostClassifier                   0.95  \n",
            "NuSVC                                0.07  \n",
            "BaggingClassifier                    0.27  \n",
            "LGBMClassifier                       0.26  \n",
            "CalibratedClassifierCV               0.34  \n",
            "LogisticRegression                   0.15  \n",
            "KNeighborsClassifier                 0.09  \n",
            "PassiveAggressiveClassifier          0.07  \n",
            "RidgeClassifier                      0.09  \n",
            "RidgeClassifierCV                    0.15  \n",
            "XGBClassifier                        0.29  \n",
            "LinearSVC                            0.13  \n",
            "Perceptron                           0.11  \n",
            "SGDClassifier                        0.13  \n",
            "ExtraTreeClassifier                  0.12  \n",
            "DecisionTreeClassifier               0.14  \n",
            "LabelSpreading                       0.12  \n",
            "LabelPropagation                     0.08  \n",
            "DummyClassifier                      0.12  \n",
            "Evaluating models for FTD vs AZ\n"
          ]
        },
        {
          "output_type": "stream",
          "name": "stderr",
          "text": [
            " 90%|████████▉ | 26/29 [00:04<00:00,  6.99it/s]"
          ]
        },
        {
          "output_type": "stream",
          "name": "stdout",
          "text": [
            "[LightGBM] [Info] Number of positive: 29, number of negative: 18\n",
            "[LightGBM] [Info] Auto-choosing col-wise multi-threading, the overhead of testing was 0.002937 seconds.\n",
            "You can set `force_col_wise=true` to remove the overhead.\n",
            "[LightGBM] [Info] Total Bins 39471\n",
            "[LightGBM] [Info] Number of data points in the train set: 47, number of used features: 2278\n",
            "[LightGBM] [Info] [binary:BoostFromScore]: pavg=0.617021 -> initscore=0.476924\n",
            "[LightGBM] [Info] Start training from score 0.476924\n",
            "[LightGBM] [Warning] No further splits with positive gain, best gain: -inf\n",
            "[LightGBM] [Warning] No further splits with positive gain, best gain: -inf\n",
            "[LightGBM] [Warning] No further splits with positive gain, best gain: -inf\n",
            "[LightGBM] [Warning] No further splits with positive gain, best gain: -inf\n",
            "[LightGBM] [Warning] No further splits with positive gain, best gain: -inf\n",
            "[LightGBM] [Warning] No further splits with positive gain, best gain: -inf\n",
            "[LightGBM] [Warning] No further splits with positive gain, best gain: -inf\n",
            "[LightGBM] [Warning] No further splits with positive gain, best gain: -inf\n",
            "[LightGBM] [Warning] No further splits with positive gain, best gain: -inf\n",
            "[LightGBM] [Warning] No further splits with positive gain, best gain: -inf\n",
            "[LightGBM] [Warning] No further splits with positive gain, best gain: -inf\n",
            "[LightGBM] [Warning] No further splits with positive gain, best gain: -inf\n",
            "[LightGBM] [Warning] No further splits with positive gain, best gain: -inf\n",
            "[LightGBM] [Warning] No further splits with positive gain, best gain: -inf\n",
            "[LightGBM] [Warning] No further splits with positive gain, best gain: -inf\n",
            "[LightGBM] [Warning] No further splits with positive gain, best gain: -inf\n",
            "[LightGBM] [Warning] No further splits with positive gain, best gain: -inf\n",
            "[LightGBM] [Warning] No further splits with positive gain, best gain: -inf\n",
            "[LightGBM] [Warning] No further splits with positive gain, best gain: -inf\n",
            "[LightGBM] [Warning] No further splits with positive gain, best gain: -inf\n",
            "[LightGBM] [Warning] No further splits with positive gain, best gain: -inf\n",
            "[LightGBM] [Warning] No further splits with positive gain, best gain: -inf\n",
            "[LightGBM] [Warning] No further splits with positive gain, best gain: -inf\n",
            "[LightGBM] [Warning] No further splits with positive gain, best gain: -inf\n",
            "[LightGBM] [Warning] No further splits with positive gain, best gain: -inf\n",
            "[LightGBM] [Warning] No further splits with positive gain, best gain: -inf\n",
            "[LightGBM] [Warning] No further splits with positive gain, best gain: -inf\n",
            "[LightGBM] [Warning] No further splits with positive gain, best gain: -inf\n",
            "[LightGBM] [Warning] No further splits with positive gain, best gain: -inf\n",
            "[LightGBM] [Warning] No further splits with positive gain, best gain: -inf\n",
            "[LightGBM] [Warning] No further splits with positive gain, best gain: -inf\n",
            "[LightGBM] [Warning] No further splits with positive gain, best gain: -inf\n",
            "[LightGBM] [Warning] No further splits with positive gain, best gain: -inf\n",
            "[LightGBM] [Warning] No further splits with positive gain, best gain: -inf\n",
            "[LightGBM] [Warning] No further splits with positive gain, best gain: -inf\n",
            "[LightGBM] [Warning] No further splits with positive gain, best gain: -inf\n",
            "[LightGBM] [Warning] No further splits with positive gain, best gain: -inf\n",
            "[LightGBM] [Warning] No further splits with positive gain, best gain: -inf\n",
            "[LightGBM] [Warning] No further splits with positive gain, best gain: -inf\n",
            "[LightGBM] [Warning] No further splits with positive gain, best gain: -inf\n",
            "[LightGBM] [Warning] No further splits with positive gain, best gain: -inf\n",
            "[LightGBM] [Warning] No further splits with positive gain, best gain: -inf\n",
            "[LightGBM] [Warning] No further splits with positive gain, best gain: -inf\n",
            "[LightGBM] [Warning] No further splits with positive gain, best gain: -inf\n",
            "[LightGBM] [Warning] No further splits with positive gain, best gain: -inf\n",
            "[LightGBM] [Warning] No further splits with positive gain, best gain: -inf\n",
            "[LightGBM] [Warning] No further splits with positive gain, best gain: -inf\n",
            "[LightGBM] [Warning] No further splits with positive gain, best gain: -inf\n",
            "[LightGBM] [Warning] No further splits with positive gain, best gain: -inf\n",
            "[LightGBM] [Warning] No further splits with positive gain, best gain: -inf\n",
            "[LightGBM] [Warning] No further splits with positive gain, best gain: -inf\n",
            "[LightGBM] [Warning] No further splits with positive gain, best gain: -inf\n",
            "[LightGBM] [Warning] No further splits with positive gain, best gain: -inf\n",
            "[LightGBM] [Warning] No further splits with positive gain, best gain: -inf\n",
            "[LightGBM] [Warning] No further splits with positive gain, best gain: -inf\n",
            "[LightGBM] [Warning] No further splits with positive gain, best gain: -inf\n",
            "[LightGBM] [Warning] No further splits with positive gain, best gain: -inf\n",
            "[LightGBM] [Warning] No further splits with positive gain, best gain: -inf\n",
            "[LightGBM] [Warning] No further splits with positive gain, best gain: -inf\n",
            "[LightGBM] [Warning] No further splits with positive gain, best gain: -inf\n",
            "[LightGBM] [Warning] No further splits with positive gain, best gain: -inf\n",
            "[LightGBM] [Warning] No further splits with positive gain, best gain: -inf\n",
            "[LightGBM] [Warning] No further splits with positive gain, best gain: -inf\n",
            "[LightGBM] [Warning] No further splits with positive gain, best gain: -inf\n",
            "[LightGBM] [Warning] No further splits with positive gain, best gain: -inf\n",
            "[LightGBM] [Warning] No further splits with positive gain, best gain: -inf\n",
            "[LightGBM] [Warning] No further splits with positive gain, best gain: -inf\n",
            "[LightGBM] [Warning] No further splits with positive gain, best gain: -inf\n",
            "[LightGBM] [Warning] No further splits with positive gain, best gain: -inf\n",
            "[LightGBM] [Warning] No further splits with positive gain, best gain: -inf\n",
            "[LightGBM] [Warning] No further splits with positive gain, best gain: -inf\n",
            "[LightGBM] [Warning] No further splits with positive gain, best gain: -inf\n",
            "[LightGBM] [Warning] No further splits with positive gain, best gain: -inf\n",
            "[LightGBM] [Warning] No further splits with positive gain, best gain: -inf\n",
            "[LightGBM] [Warning] No further splits with positive gain, best gain: -inf\n",
            "[LightGBM] [Warning] No further splits with positive gain, best gain: -inf\n",
            "[LightGBM] [Warning] No further splits with positive gain, best gain: -inf\n",
            "[LightGBM] [Warning] No further splits with positive gain, best gain: -inf\n",
            "[LightGBM] [Warning] No further splits with positive gain, best gain: -inf\n",
            "[LightGBM] [Warning] No further splits with positive gain, best gain: -inf\n",
            "[LightGBM] [Warning] No further splits with positive gain, best gain: -inf\n",
            "[LightGBM] [Warning] No further splits with positive gain, best gain: -inf\n",
            "[LightGBM] [Warning] No further splits with positive gain, best gain: -inf\n",
            "[LightGBM] [Warning] No further splits with positive gain, best gain: -inf\n",
            "[LightGBM] [Warning] No further splits with positive gain, best gain: -inf\n",
            "[LightGBM] [Warning] No further splits with positive gain, best gain: -inf\n",
            "[LightGBM] [Warning] No further splits with positive gain, best gain: -inf\n",
            "[LightGBM] [Warning] No further splits with positive gain, best gain: -inf\n",
            "[LightGBM] [Warning] No further splits with positive gain, best gain: -inf\n",
            "[LightGBM] [Warning] No further splits with positive gain, best gain: -inf\n",
            "[LightGBM] [Warning] No further splits with positive gain, best gain: -inf\n",
            "[LightGBM] [Warning] No further splits with positive gain, best gain: -inf\n",
            "[LightGBM] [Warning] No further splits with positive gain, best gain: -inf\n",
            "[LightGBM] [Warning] No further splits with positive gain, best gain: -inf\n",
            "[LightGBM] [Warning] No further splits with positive gain, best gain: -inf\n",
            "[LightGBM] [Warning] No further splits with positive gain, best gain: -inf\n",
            "[LightGBM] [Warning] No further splits with positive gain, best gain: -inf\n",
            "[LightGBM] [Warning] No further splits with positive gain, best gain: -inf\n",
            "[LightGBM] [Warning] No further splits with positive gain, best gain: -inf\n",
            "[LightGBM] [Warning] No further splits with positive gain, best gain: -inf\n"
          ]
        },
        {
          "output_type": "stream",
          "name": "stderr",
          "text": [
            "100%|██████████| 29/29 [00:04<00:00,  6.27it/s]"
          ]
        },
        {
          "output_type": "stream",
          "name": "stdout",
          "text": [
            "Model performance for FTD vs AZ:\n",
            "                                Accuracy  Balanced Accuracy  ROC AUC  F1 Score  \\\n",
            "Model                                                                           \n",
            "ExtraTreeClassifier                0.67               0.69     0.69      0.67   \n",
            "BaggingClassifier                  0.58               0.59     0.59      0.59   \n",
            "AdaBoostClassifier                 0.58               0.56     0.56      0.57   \n",
            "DecisionTreeClassifier             0.58               0.56     0.56      0.57   \n",
            "SVC                                0.58               0.50     0.50      0.43   \n",
            "CalibratedClassifierCV             0.58               0.50     0.50      0.43   \n",
            "DummyClassifier                    0.58               0.50     0.50      0.43   \n",
            "LabelPropagation                   0.42               0.50     0.50      0.25   \n",
            "LabelSpreading                     0.42               0.50     0.50      0.25   \n",
            "PassiveAggressiveClassifier        0.50               0.49     0.49      0.50   \n",
            "RidgeClassifierCV                  0.50               0.49     0.49      0.50   \n",
            "RidgeClassifier                    0.50               0.49     0.49      0.50   \n",
            "QuadraticDiscriminantAnalysis      0.42               0.44     0.44      0.40   \n",
            "RandomForestClassifier             0.50               0.43     0.43      0.39   \n",
            "LGBMClassifier                     0.50               0.43     0.43      0.39   \n",
            "BernoulliNB                        0.42               0.41     0.41      0.42   \n",
            "LogisticRegression                 0.42               0.39     0.39      0.40   \n",
            "KNeighborsClassifier               0.42               0.39     0.39      0.40   \n",
            "ExtraTreesClassifier               0.42               0.39     0.39      0.40   \n",
            "NearestCentroid                    0.33               0.31     0.31      0.33   \n",
            "Perceptron                         0.33               0.31     0.31      0.33   \n",
            "SGDClassifier                      0.33               0.31     0.31      0.33   \n",
            "NuSVC                              0.33               0.29     0.29      0.29   \n",
            "LinearDiscriminantAnalysis         0.33               0.29     0.29      0.29   \n",
            "GaussianNB                         0.33               0.29     0.29      0.29   \n",
            "LinearSVC                          0.25               0.24     0.24      0.26   \n",
            "\n",
            "                               Time Taken  \n",
            "Model                                      \n",
            "ExtraTreeClassifier                  0.07  \n",
            "BaggingClassifier                    0.23  \n",
            "AdaBoostClassifier                   0.78  \n",
            "DecisionTreeClassifier               0.10  \n",
            "SVC                                  0.12  \n",
            "CalibratedClassifierCV               0.18  \n",
            "DummyClassifier                      0.07  \n",
            "LabelPropagation                     0.09  \n",
            "LabelSpreading                       0.13  \n",
            "PassiveAggressiveClassifier          0.08  \n",
            "RidgeClassifierCV                    0.17  \n",
            "RidgeClassifier                      0.09  \n",
            "QuadraticDiscriminantAnalysis        0.15  \n",
            "RandomForestClassifier               0.32  \n",
            "LGBMClassifier                       0.54  \n",
            "BernoulliNB                          0.07  \n",
            "LogisticRegression                   0.15  \n",
            "KNeighborsClassifier                 0.07  \n",
            "ExtraTreesClassifier                 0.20  \n",
            "NearestCentroid                      0.12  \n",
            "Perceptron                           0.12  \n",
            "SGDClassifier                        0.12  \n",
            "NuSVC                                0.07  \n",
            "LinearDiscriminantAnalysis           0.13  \n",
            "GaussianNB                           0.07  \n",
            "LinearSVC                            0.15  \n"
          ]
        },
        {
          "output_type": "stream",
          "name": "stderr",
          "text": [
            "\n"
          ]
        }
      ]
    }
  ]
}